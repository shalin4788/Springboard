{
 "cells": [
  {
   "cell_type": "markdown",
   "metadata": {},
   "source": [
    " ## Pre-processing and Training Data Development"
   ]
  },
  {
   "cell_type": "markdown",
   "metadata": {},
   "source": [
    "- Goal is to create a cleaned development dataset you can use to complete the modeling step of this project. "
   ]
  },
  {
   "cell_type": "code",
   "execution_count": 1,
   "metadata": {},
   "outputs": [
    {
     "name": "stderr",
     "output_type": "stream",
     "text": [
      "\n",
      "Bad key \"text.kerning_factor\" on line 4 in\n",
      "C:\\Users\\gosal\\Anaconda3_2\\lib\\site-packages\\matplotlib\\mpl-data\\stylelib\\_classic_test_patch.mplstyle.\n",
      "You probably need to get an updated matplotlibrc file from\n",
      "http://github.com/matplotlib/matplotlib/blob/master/matplotlibrc.template\n",
      "or from the matplotlib source distribution\n"
     ]
    }
   ],
   "source": [
    "# Import pandas\n",
    "import pandas as pd\n",
    "import os\n",
    "from sklearn.preprocessing import StandardScaler\n",
    "import matplotlib.pyplot as plt"
   ]
  },
  {
   "cell_type": "code",
   "execution_count": 2,
   "metadata": {},
   "outputs": [
    {
     "data": {
      "text/plain": [
       "'C:\\\\Shalin\\\\Springboard bootcamp\\\\projects\\\\Capstone project 2\\\\Capstone Two'"
      ]
     },
     "execution_count": 2,
     "metadata": {},
     "output_type": "execute_result"
    }
   ],
   "source": [
    "os.getcwd()"
   ]
  },
  {
   "cell_type": "code",
   "execution_count": 3,
   "metadata": {},
   "outputs": [],
   "source": [
    "df = pd.read_csv(\"data/Quora_cleaned.csv\")"
   ]
  },
  {
   "cell_type": "code",
   "execution_count": 4,
   "metadata": {},
   "outputs": [
    {
     "data": {
      "text/html": [
       "<div>\n",
       "<style scoped>\n",
       "    .dataframe tbody tr th:only-of-type {\n",
       "        vertical-align: middle;\n",
       "    }\n",
       "\n",
       "    .dataframe tbody tr th {\n",
       "        vertical-align: top;\n",
       "    }\n",
       "\n",
       "    .dataframe thead th {\n",
       "        text-align: right;\n",
       "    }\n",
       "</style>\n",
       "<table border=\"1\" class=\"dataframe\">\n",
       "  <thead>\n",
       "    <tr style=\"text-align: right;\">\n",
       "      <th></th>\n",
       "      <th>Unnamed: 0</th>\n",
       "      <th>qid</th>\n",
       "      <th>question_stemmed</th>\n",
       "      <th>target</th>\n",
       "      <th>question_length</th>\n",
       "      <th>total_words</th>\n",
       "    </tr>\n",
       "  </thead>\n",
       "  <tbody>\n",
       "    <tr>\n",
       "      <th>0</th>\n",
       "      <td>393959</td>\n",
       "      <td>4d2e2796dd1ced2c8e64</td>\n",
       "      <td>prospects international students httpwwwophamm...</td>\n",
       "      <td>0</td>\n",
       "      <td>240</td>\n",
       "      <td>12</td>\n",
       "    </tr>\n",
       "    <tr>\n",
       "      <th>1</th>\n",
       "      <td>118298</td>\n",
       "      <td>1729272298ed7f6cf789</td>\n",
       "      <td>could probing quantum world vacuum virtual par...</td>\n",
       "      <td>0</td>\n",
       "      <td>221</td>\n",
       "      <td>26</td>\n",
       "    </tr>\n",
       "    <tr>\n",
       "      <th>2</th>\n",
       "      <td>1004888</td>\n",
       "      <td>c4ee0b28e195a3d515a5</td>\n",
       "      <td>mention good book containing quotations great ...</td>\n",
       "      <td>0</td>\n",
       "      <td>219</td>\n",
       "      <td>29</td>\n",
       "    </tr>\n",
       "    <tr>\n",
       "      <th>3</th>\n",
       "      <td>460851</td>\n",
       "      <td>5a3f6882c1fc8319eff1</td>\n",
       "      <td>didnt genghiz khan thee great khan abolish des...</td>\n",
       "      <td>1</td>\n",
       "      <td>218</td>\n",
       "      <td>32</td>\n",
       "    </tr>\n",
       "    <tr>\n",
       "      <th>4</th>\n",
       "      <td>543322</td>\n",
       "      <td>6a71d18ec595137eb634</td>\n",
       "      <td>india harbor many scammers thieves con artists...</td>\n",
       "      <td>1</td>\n",
       "      <td>218</td>\n",
       "      <td>27</td>\n",
       "    </tr>\n",
       "  </tbody>\n",
       "</table>\n",
       "</div>"
      ],
      "text/plain": [
       "   Unnamed: 0                   qid  \\\n",
       "0      393959  4d2e2796dd1ced2c8e64   \n",
       "1      118298  1729272298ed7f6cf789   \n",
       "2     1004888  c4ee0b28e195a3d515a5   \n",
       "3      460851  5a3f6882c1fc8319eff1   \n",
       "4      543322  6a71d18ec595137eb634   \n",
       "\n",
       "                                    question_stemmed  target  question_length  \\\n",
       "0  prospects international students httpwwwophamm...       0              240   \n",
       "1  could probing quantum world vacuum virtual par...       0              221   \n",
       "2  mention good book containing quotations great ...       0              219   \n",
       "3  didnt genghiz khan thee great khan abolish des...       1              218   \n",
       "4  india harbor many scammers thieves con artists...       1              218   \n",
       "\n",
       "   total_words  \n",
       "0           12  \n",
       "1           26  \n",
       "2           29  \n",
       "3           32  \n",
       "4           27  "
      ]
     },
     "execution_count": 4,
     "metadata": {},
     "output_type": "execute_result"
    }
   ],
   "source": [
    "df.head(5)"
   ]
  },
  {
   "cell_type": "code",
   "execution_count": 5,
   "metadata": {},
   "outputs": [
    {
     "name": "stdout",
     "output_type": "stream",
     "text": [
      "<class 'pandas.core.frame.DataFrame'>\n",
      "RangeIndex: 1016694 entries, 0 to 1016693\n",
      "Data columns (total 6 columns):\n",
      " #   Column            Non-Null Count    Dtype \n",
      "---  ------            --------------    ----- \n",
      " 0   Unnamed: 0        1016694 non-null  int64 \n",
      " 1   qid               1016694 non-null  object\n",
      " 2   question_stemmed  1016694 non-null  object\n",
      " 3   target            1016694 non-null  int64 \n",
      " 4   question_length   1016694 non-null  int64 \n",
      " 5   total_words       1016694 non-null  int64 \n",
      "dtypes: int64(4), object(2)\n",
      "memory usage: 46.5+ MB\n"
     ]
    }
   ],
   "source": [
    "df.info()"
   ]
  },
  {
   "cell_type": "code",
   "execution_count": 6,
   "metadata": {},
   "outputs": [
    {
     "data": {
      "text/html": [
       "<div>\n",
       "<style scoped>\n",
       "    .dataframe tbody tr th:only-of-type {\n",
       "        vertical-align: middle;\n",
       "    }\n",
       "\n",
       "    .dataframe tbody tr th {\n",
       "        vertical-align: top;\n",
       "    }\n",
       "\n",
       "    .dataframe thead th {\n",
       "        text-align: right;\n",
       "    }\n",
       "</style>\n",
       "<table border=\"1\" class=\"dataframe\">\n",
       "  <thead>\n",
       "    <tr style=\"text-align: right;\">\n",
       "      <th></th>\n",
       "      <th>qid</th>\n",
       "      <th>question_stemmed</th>\n",
       "      <th>target</th>\n",
       "      <th>question_length</th>\n",
       "      <th>total_words</th>\n",
       "    </tr>\n",
       "  </thead>\n",
       "  <tbody>\n",
       "    <tr>\n",
       "      <th>0</th>\n",
       "      <td>4d2e2796dd1ced2c8e64</td>\n",
       "      <td>prospects international students httpwwwophamm...</td>\n",
       "      <td>0</td>\n",
       "      <td>240</td>\n",
       "      <td>12</td>\n",
       "    </tr>\n",
       "    <tr>\n",
       "      <th>1</th>\n",
       "      <td>1729272298ed7f6cf789</td>\n",
       "      <td>could probing quantum world vacuum virtual par...</td>\n",
       "      <td>0</td>\n",
       "      <td>221</td>\n",
       "      <td>26</td>\n",
       "    </tr>\n",
       "  </tbody>\n",
       "</table>\n",
       "</div>"
      ],
      "text/plain": [
       "                    qid                                   question_stemmed  \\\n",
       "0  4d2e2796dd1ced2c8e64  prospects international students httpwwwophamm...   \n",
       "1  1729272298ed7f6cf789  could probing quantum world vacuum virtual par...   \n",
       "\n",
       "   target  question_length  total_words  \n",
       "0       0              240           12  \n",
       "1       0              221           26  "
      ]
     },
     "execution_count": 6,
     "metadata": {},
     "output_type": "execute_result"
    }
   ],
   "source": [
    "# Drop index columns\n",
    "df.drop('Unnamed: 0',axis=1, inplace=True)\n",
    "df.head(2)"
   ]
  },
  {
   "cell_type": "code",
   "execution_count": 7,
   "metadata": {},
   "outputs": [
    {
     "name": "stdout",
     "output_type": "stream",
     "text": [
      "qid                 object\n",
      "question_stemmed    object\n",
      "target               int64\n",
      "question_length      int64\n",
      "total_words          int64\n",
      "dtype: object\n"
     ]
    }
   ],
   "source": [
    "# Print the data type of each column\n",
    "print(df.dtypes)"
   ]
  },
  {
   "cell_type": "markdown",
   "metadata": {},
   "source": [
    "### Standardize the magnitude of numeric features using a scaler"
   ]
  },
  {
   "cell_type": "code",
   "execution_count": 8,
   "metadata": {},
   "outputs": [
    {
     "name": "stdout",
     "output_type": "stream",
     "text": [
      "                                    question_stemmed  question_length  \\\n",
      "0  prospects international students httpwwwophamm...              240   \n",
      "1  could probing quantum world vacuum virtual par...              221   \n",
      "2  mention good book containing quotations great ...              219   \n",
      "3  didnt genghiz khan thee great khan abolish des...              218   \n",
      "4  india harbor many scammers thieves con artists...              218   \n",
      "\n",
      "   total_words  avg_word_length  \n",
      "0           12        20.000000  \n",
      "1           26         8.500000  \n",
      "2           29         7.551724  \n",
      "3           32         6.812500  \n",
      "4           27         8.074074  \n"
     ]
    }
   ],
   "source": [
    "# Find the average length of word\n",
    "df['avg_word_length'] = df['question_length'] / df['total_words']\n",
    "\n",
    "# Print the first 5 rows of these columns\n",
    "print(df[['question_stemmed', 'question_length', 'total_words', 'avg_word_length']].head(5))"
   ]
  },
  {
   "cell_type": "code",
   "execution_count": 9,
   "metadata": {},
   "outputs": [
    {
     "name": "stdout",
     "output_type": "stream",
     "text": [
      "Index(['target', 'question_length', 'total_words', 'avg_word_length'], dtype='object')\n"
     ]
    }
   ],
   "source": [
    "# Create subset of only the numeric columns\n",
    "numeric_df = df.select_dtypes(include=['int64','float'])\n",
    "print(numeric_df.columns)"
   ]
  },
  {
   "cell_type": "code",
   "execution_count": 10,
   "metadata": {},
   "outputs": [
    {
     "data": {
      "text/plain": [
       "count    1.016694e+06\n",
       "mean     6.680972e+00\n",
       "std      1.129022e+00\n",
       "min      1.933333e+00\n",
       "25%      6.000000e+00\n",
       "50%      6.615385e+00\n",
       "75%      7.375000e+00\n",
       "max      5.300000e+01\n",
       "Name: avg_word_length, dtype: float64"
      ]
     },
     "execution_count": 10,
     "metadata": {},
     "output_type": "execute_result"
    }
   ],
   "source": [
    "numeric_df['avg_word_length'].describe()"
   ]
  },
  {
   "cell_type": "code",
   "execution_count": 11,
   "metadata": {},
   "outputs": [
    {
     "name": "stdout",
     "output_type": "stream",
     "text": [
      "Index(['qid', 'question_stemmed'], dtype='object')\n"
     ]
    }
   ],
   "source": [
    "# Create subset of only the categorical variable columns\n",
    "categorical_df = df.select_dtypes(include=['object'])\n",
    "print(categorical_df.columns)"
   ]
  },
  {
   "cell_type": "code",
   "execution_count": 12,
   "metadata": {},
   "outputs": [
    {
     "name": "stdout",
     "output_type": "stream",
     "text": [
      "   avg_word_length_SS  avg_word_length\n",
      "0           11.796965        20.000000\n",
      "1            1.611155         8.500000\n",
      "2            0.771245         7.551724\n",
      "3            0.116498         6.812500\n",
      "4            1.233902         8.074074\n"
     ]
    },
    {
     "name": "stderr",
     "output_type": "stream",
     "text": [
      "C:\\Users\\gosal\\Anaconda3_2\\lib\\site-packages\\ipykernel_launcher.py:8: SettingWithCopyWarning: \n",
      "A value is trying to be set on a copy of a slice from a DataFrame.\n",
      "Try using .loc[row_indexer,col_indexer] = value instead\n",
      "\n",
      "See the caveats in the documentation: https://pandas.pydata.org/pandas-docs/stable/user_guide/indexing.html#returning-a-view-versus-a-copy\n",
      "  \n"
     ]
    }
   ],
   "source": [
    "# Instantiate StandardScaler\n",
    "SS_scaler = StandardScaler()\n",
    "\n",
    "# Fit SS_scaler to the data\n",
    "SS_scaler.fit(numeric_df[['avg_word_length']])\n",
    "\n",
    "# Transform the data using the fitted scaler\n",
    "numeric_df['avg_word_length_SS'] = SS_scaler.transform(numeric_df[['avg_word_length']])\n",
    "\n",
    "# Compare the origional and transformed column\n",
    "print(numeric_df[['avg_word_length_SS', 'avg_word_length']].head(5))"
   ]
  },
  {
   "cell_type": "code",
   "execution_count": 13,
   "metadata": {},
   "outputs": [
    {
     "data": {
      "image/png": "[encoded data removed]",
      "text/plain": [
       "<Figure size 720x360 with 2 Axes>"
      ]
     },
     "metadata": {
      "needs_background": "light"
     },
     "output_type": "display_data"
    }
   ],
   "source": [
    "# Create a histogram for the 2 \n",
    "plt.rcParams[\"figure.figsize\"] = (10,5)\n",
    "\n",
    "numeric_df.hist(['avg_word_length','avg_word_length_SS'])\n",
    "plt.show()"
   ]
  },
  {
   "cell_type": "code",
   "execution_count": 14,
   "metadata": {},
   "outputs": [
    {
     "name": "stderr",
     "output_type": "stream",
     "text": [
      "C:\\Users\\gosal\\Anaconda3_2\\lib\\site-packages\\pandas\\core\\frame.py:3997: SettingWithCopyWarning: \n",
      "A value is trying to be set on a copy of a slice from a DataFrame\n",
      "\n",
      "See the caveats in the documentation: https://pandas.pydata.org/pandas-docs/stable/user_guide/indexing.html#returning-a-view-versus-a-copy\n",
      "  errors=errors,\n"
     ]
    },
    {
     "data": {
      "text/html": [
       "<div>\n",
       "<style scoped>\n",
       "    .dataframe tbody tr th:only-of-type {\n",
       "        vertical-align: middle;\n",
       "    }\n",
       "\n",
       "    .dataframe tbody tr th {\n",
       "        vertical-align: top;\n",
       "    }\n",
       "\n",
       "    .dataframe thead th {\n",
       "        text-align: right;\n",
       "    }\n",
       "</style>\n",
       "<table border=\"1\" class=\"dataframe\">\n",
       "  <thead>\n",
       "    <tr style=\"text-align: right;\">\n",
       "      <th></th>\n",
       "      <th>target</th>\n",
       "      <th>question_length</th>\n",
       "      <th>total_words</th>\n",
       "      <th>avg_word_length_SS</th>\n",
       "    </tr>\n",
       "  </thead>\n",
       "  <tbody>\n",
       "    <tr>\n",
       "      <th>0</th>\n",
       "      <td>0</td>\n",
       "      <td>240</td>\n",
       "      <td>12</td>\n",
       "      <td>11.796965</td>\n",
       "    </tr>\n",
       "    <tr>\n",
       "      <th>1</th>\n",
       "      <td>0</td>\n",
       "      <td>221</td>\n",
       "      <td>26</td>\n",
       "      <td>1.611155</td>\n",
       "    </tr>\n",
       "    <tr>\n",
       "      <th>2</th>\n",
       "      <td>0</td>\n",
       "      <td>219</td>\n",
       "      <td>29</td>\n",
       "      <td>0.771245</td>\n",
       "    </tr>\n",
       "    <tr>\n",
       "      <th>3</th>\n",
       "      <td>1</td>\n",
       "      <td>218</td>\n",
       "      <td>32</td>\n",
       "      <td>0.116498</td>\n",
       "    </tr>\n",
       "    <tr>\n",
       "      <th>4</th>\n",
       "      <td>1</td>\n",
       "      <td>218</td>\n",
       "      <td>27</td>\n",
       "      <td>1.233902</td>\n",
       "    </tr>\n",
       "  </tbody>\n",
       "</table>\n",
       "</div>"
      ],
      "text/plain": [
       "   target  question_length  total_words  avg_word_length_SS\n",
       "0       0              240           12           11.796965\n",
       "1       0              221           26            1.611155\n",
       "2       0              219           29            0.771245\n",
       "3       1              218           32            0.116498\n",
       "4       1              218           27            1.233902"
      ]
     },
     "execution_count": 14,
     "metadata": {},
     "output_type": "execute_result"
    }
   ],
   "source": [
    "# Drop non scaled column\n",
    "numeric_df.drop(columns='avg_word_length', inplace=True)\n",
    "numeric_df.head(5)"
   ]
  },
  {
   "cell_type": "code",
   "execution_count": 15,
   "metadata": {},
   "outputs": [
    {
     "data": {
      "text/plain": [
       "count    1.016694e+06\n",
       "mean    -2.911209e-14\n",
       "std      1.000000e+00\n",
       "min     -4.205091e+00\n",
       "25%     -6.031520e-01\n",
       "50%     -5.809188e-02\n",
       "75%      6.147167e-01\n",
       "max      4.102581e+01\n",
       "Name: avg_word_length_SS, dtype: float64"
      ]
     },
     "execution_count": 15,
     "metadata": {},
     "output_type": "execute_result"
    }
   ],
   "source": [
    "numeric_df['avg_word_length_SS'].describe()"
   ]
  },
  {
   "cell_type": "code",
   "execution_count": 16,
   "metadata": {},
   "outputs": [
    {
     "data": {
      "text/html": [
       "<div>\n",
       "<style scoped>\n",
       "    .dataframe tbody tr th:only-of-type {\n",
       "        vertical-align: middle;\n",
       "    }\n",
       "\n",
       "    .dataframe tbody tr th {\n",
       "        vertical-align: top;\n",
       "    }\n",
       "\n",
       "    .dataframe thead th {\n",
       "        text-align: right;\n",
       "    }\n",
       "</style>\n",
       "<table border=\"1\" class=\"dataframe\">\n",
       "  <thead>\n",
       "    <tr style=\"text-align: right;\">\n",
       "      <th></th>\n",
       "      <th>qid</th>\n",
       "      <th>question_stemmed</th>\n",
       "      <th>target</th>\n",
       "      <th>question_length</th>\n",
       "      <th>total_words</th>\n",
       "      <th>avg_word_length_SS</th>\n",
       "    </tr>\n",
       "  </thead>\n",
       "  <tbody>\n",
       "    <tr>\n",
       "      <th>0</th>\n",
       "      <td>4d2e2796dd1ced2c8e64</td>\n",
       "      <td>prospects international students httpwwwophamm...</td>\n",
       "      <td>0</td>\n",
       "      <td>240</td>\n",
       "      <td>12</td>\n",
       "      <td>11.796965</td>\n",
       "    </tr>\n",
       "    <tr>\n",
       "      <th>1</th>\n",
       "      <td>1729272298ed7f6cf789</td>\n",
       "      <td>could probing quantum world vacuum virtual par...</td>\n",
       "      <td>0</td>\n",
       "      <td>221</td>\n",
       "      <td>26</td>\n",
       "      <td>1.611155</td>\n",
       "    </tr>\n",
       "    <tr>\n",
       "      <th>2</th>\n",
       "      <td>c4ee0b28e195a3d515a5</td>\n",
       "      <td>mention good book containing quotations great ...</td>\n",
       "      <td>0</td>\n",
       "      <td>219</td>\n",
       "      <td>29</td>\n",
       "      <td>0.771245</td>\n",
       "    </tr>\n",
       "    <tr>\n",
       "      <th>3</th>\n",
       "      <td>5a3f6882c1fc8319eff1</td>\n",
       "      <td>didnt genghiz khan thee great khan abolish des...</td>\n",
       "      <td>1</td>\n",
       "      <td>218</td>\n",
       "      <td>32</td>\n",
       "      <td>0.116498</td>\n",
       "    </tr>\n",
       "    <tr>\n",
       "      <th>4</th>\n",
       "      <td>6a71d18ec595137eb634</td>\n",
       "      <td>india harbor many scammers thieves con artists...</td>\n",
       "      <td>1</td>\n",
       "      <td>218</td>\n",
       "      <td>27</td>\n",
       "      <td>1.233902</td>\n",
       "    </tr>\n",
       "  </tbody>\n",
       "</table>\n",
       "</div>"
      ],
      "text/plain": [
       "                    qid                                   question_stemmed  \\\n",
       "0  4d2e2796dd1ced2c8e64  prospects international students httpwwwophamm...   \n",
       "1  1729272298ed7f6cf789  could probing quantum world vacuum virtual par...   \n",
       "2  c4ee0b28e195a3d515a5  mention good book containing quotations great ...   \n",
       "3  5a3f6882c1fc8319eff1  didnt genghiz khan thee great khan abolish des...   \n",
       "4  6a71d18ec595137eb634  india harbor many scammers thieves con artists...   \n",
       "\n",
       "   target  question_length  total_words  avg_word_length_SS  \n",
       "0       0              240           12           11.796965  \n",
       "1       0              221           26            1.611155  \n",
       "2       0              219           29            0.771245  \n",
       "3       1              218           32            0.116498  \n",
       "4       1              218           27            1.233902  "
      ]
     },
     "execution_count": 16,
     "metadata": {},
     "output_type": "execute_result"
    }
   ],
   "source": [
    "df_numeric_scaled = pd.concat([categorical_df, numeric_df], axis=1, sort=False)\n",
    "df_numeric_scaled.head(5)"
   ]
  },
  {
   "cell_type": "code",
   "execution_count": 17,
   "metadata": {},
   "outputs": [
    {
     "name": "stdout",
     "output_type": "stream",
     "text": [
      "<class 'pandas.core.frame.DataFrame'>\n",
      "RangeIndex: 1016694 entries, 0 to 1016693\n",
      "Data columns (total 6 columns):\n",
      " #   Column              Non-Null Count    Dtype  \n",
      "---  ------              --------------    -----  \n",
      " 0   qid                 1016694 non-null  object \n",
      " 1   question_stemmed    1016694 non-null  object \n",
      " 2   target              1016694 non-null  int64  \n",
      " 3   question_length     1016694 non-null  int64  \n",
      " 4   total_words         1016694 non-null  int64  \n",
      " 5   avg_word_length_SS  1016694 non-null  float64\n",
      "dtypes: float64(1), int64(3), object(2)\n",
      "memory usage: 46.5+ MB\n"
     ]
    }
   ],
   "source": [
    "df_numeric_scaled.info()"
   ]
  },
  {
   "cell_type": "markdown",
   "metadata": {},
   "source": [
    "### Split into testing and training datasets "
   ]
  },
  {
   "cell_type": "code",
   "execution_count": 18,
   "metadata": {},
   "outputs": [],
   "source": [
    "from sklearn.model_selection import train_test_split\n",
    "\n",
    "train_df, test_df = train_test_split(df_numeric_scaled, test_size=0.2)"
   ]
  },
  {
   "cell_type": "markdown",
   "metadata": {},
   "source": [
    "### Perform TFIDF vectorization on categorical feature to fit and transform data"
   ]
  },
  {
   "cell_type": "code",
   "execution_count": 19,
   "metadata": {},
   "outputs": [
    {
     "name": "stdout",
     "output_type": "stream",
     "text": [
      "['12 year old', '13 year old', '14 year old', '14 years old', '15 year old', '15 years old', '16 year old', '16 years old', '17 year old', '17 years old', '18 year old', '18 years old', '19 year old', '20 year old', '20 years old', 'academic pressure workload', 'affect way read', 'avengers infinity war', 'best coaching institute', 'best place buy', 'best places visit', 'best student organizations', 'best things weekends', 'best way deal', 'best way invest', 'best way learn', 'best way make', 'best way prepare', 'best way start', 'best way study', 'bhk flats rent', 'borderline personality disorder', 'cbse class 12', 'computer science engineering', 'conditions average household', 'consideration writing biography', 'controversial events mentioned', 'coolest work summ', 'cost bhk flats', 'devices used book', 'dont feel like', 'download test bank', 'experience affect way', 'feel like im', 'fifa world cup', 'good analysis book', 'good bad neighborhoods', 'good hotels shortterm', 'high school student', 'hotels shortterm business', 'jee advanced 2017', 'jee main 2017', 'jee mains 2017', 'jee mains 2018', 'knowledge experience affect', 'lesser known facts', 'life changing events', 'literary devices book', 'literary devices used', 'living conditions average', 'long distance relationship', 'longstanding traditions undergraduates', 'manufacturing process improv', 'marketing strategies used', 'marks jee mains', 'marks neet 2017', 'new york city', 'people dont know', 'personal knowledge experience', 'president donald trump', 'president united states', 'prime minister india', 'shortterm business travelers', 'ssc cgl 2017', 'student organizations join', 'students starting semester', 'thing youve seen', 'things weekends student', 'think donald trump', 'tips starting work', 'tips students starting', 'tips write summary', 'united states america', 'useful tips starting', 'useful tips students', 'war north korea', 'way make money', 'way read book', 'whats best way', 'whats like particip', 'world war ii', 'writing style structure', 'year old boy', 'year old daughter', 'year old girl', 'year old guy', 'year old male', 'year old man', 'year old son', 'year old woman']\n",
      "Counts_whats best way               710\n",
      "Counts_useful tips starting         576\n",
      "Counts_tips starting work           575\n",
      "Counts_hotels shortterm business    413\n",
      "Counts_good hotels shortterm        413\n",
      "dtype: int64\n"
     ]
    }
   ],
   "source": [
    "# Import CountVectorizer\n",
    "from sklearn.feature_extraction.text import CountVectorizer\n",
    "\n",
    "# Instantiate a trigram vectorizer\n",
    "cv_trigram_vec = CountVectorizer(max_features=100, \n",
    "                                 stop_words='english', \n",
    "                                 ngram_range=(3,3))\n",
    "\n",
    "# Fit and apply trigram vectorizer\n",
    "cv_trigram = cv_trigram_vec.fit_transform(df_numeric_scaled['question_stemmed'])\n",
    "\n",
    "# Print the trigram features\n",
    "print(cv_trigram_vec.get_feature_names())\n",
    "\n",
    "# Create a DataFrame of the features\n",
    "cv_tri_df = pd.DataFrame(cv_trigram.toarray(), \n",
    "                 columns=cv_trigram_vec.get_feature_names()).add_prefix('Counts_')\n",
    "\n",
    "# Print the top 5 words in the sorted output\n",
    "print(cv_tri_df.sum().sort_values(ascending=False).head(5))"
   ]
  },
  {
   "cell_type": "code",
   "execution_count": 20,
   "metadata": {},
   "outputs": [
    {
     "data": {
      "text/html": [
       "<div>\n",
       "<style scoped>\n",
       "    .dataframe tbody tr th:only-of-type {\n",
       "        vertical-align: middle;\n",
       "    }\n",
       "\n",
       "    .dataframe tbody tr th {\n",
       "        vertical-align: top;\n",
       "    }\n",
       "\n",
       "    .dataframe thead th {\n",
       "        text-align: right;\n",
       "    }\n",
       "</style>\n",
       "<table border=\"1\" class=\"dataframe\">\n",
       "  <thead>\n",
       "    <tr style=\"text-align: right;\">\n",
       "      <th></th>\n",
       "      <th>qid</th>\n",
       "      <th>question_stemmed</th>\n",
       "      <th>target</th>\n",
       "      <th>question_length</th>\n",
       "      <th>total_words</th>\n",
       "      <th>avg_word_length_SS</th>\n",
       "      <th>Counts_12 year old</th>\n",
       "      <th>Counts_13 year old</th>\n",
       "      <th>Counts_14 year old</th>\n",
       "      <th>Counts_14 years old</th>\n",
       "      <th>...</th>\n",
       "      <th>Counts_world war ii</th>\n",
       "      <th>Counts_writing style structure</th>\n",
       "      <th>Counts_year old boy</th>\n",
       "      <th>Counts_year old daughter</th>\n",
       "      <th>Counts_year old girl</th>\n",
       "      <th>Counts_year old guy</th>\n",
       "      <th>Counts_year old male</th>\n",
       "      <th>Counts_year old man</th>\n",
       "      <th>Counts_year old son</th>\n",
       "      <th>Counts_year old woman</th>\n",
       "    </tr>\n",
       "  </thead>\n",
       "  <tbody>\n",
       "    <tr>\n",
       "      <th>0</th>\n",
       "      <td>4d2e2796dd1ced2c8e64</td>\n",
       "      <td>prospects international students httpwwwophamm...</td>\n",
       "      <td>0</td>\n",
       "      <td>240</td>\n",
       "      <td>12</td>\n",
       "      <td>11.796965</td>\n",
       "      <td>0</td>\n",
       "      <td>0</td>\n",
       "      <td>0</td>\n",
       "      <td>0</td>\n",
       "      <td>...</td>\n",
       "      <td>0</td>\n",
       "      <td>0</td>\n",
       "      <td>0</td>\n",
       "      <td>0</td>\n",
       "      <td>0</td>\n",
       "      <td>0</td>\n",
       "      <td>0</td>\n",
       "      <td>0</td>\n",
       "      <td>0</td>\n",
       "      <td>0</td>\n",
       "    </tr>\n",
       "    <tr>\n",
       "      <th>1</th>\n",
       "      <td>1729272298ed7f6cf789</td>\n",
       "      <td>could probing quantum world vacuum virtual par...</td>\n",
       "      <td>0</td>\n",
       "      <td>221</td>\n",
       "      <td>26</td>\n",
       "      <td>1.611155</td>\n",
       "      <td>0</td>\n",
       "      <td>0</td>\n",
       "      <td>0</td>\n",
       "      <td>0</td>\n",
       "      <td>...</td>\n",
       "      <td>0</td>\n",
       "      <td>0</td>\n",
       "      <td>0</td>\n",
       "      <td>0</td>\n",
       "      <td>0</td>\n",
       "      <td>0</td>\n",
       "      <td>0</td>\n",
       "      <td>0</td>\n",
       "      <td>0</td>\n",
       "      <td>0</td>\n",
       "    </tr>\n",
       "    <tr>\n",
       "      <th>2</th>\n",
       "      <td>c4ee0b28e195a3d515a5</td>\n",
       "      <td>mention good book containing quotations great ...</td>\n",
       "      <td>0</td>\n",
       "      <td>219</td>\n",
       "      <td>29</td>\n",
       "      <td>0.771245</td>\n",
       "      <td>0</td>\n",
       "      <td>0</td>\n",
       "      <td>0</td>\n",
       "      <td>0</td>\n",
       "      <td>...</td>\n",
       "      <td>0</td>\n",
       "      <td>0</td>\n",
       "      <td>0</td>\n",
       "      <td>0</td>\n",
       "      <td>0</td>\n",
       "      <td>0</td>\n",
       "      <td>0</td>\n",
       "      <td>0</td>\n",
       "      <td>0</td>\n",
       "      <td>0</td>\n",
       "    </tr>\n",
       "    <tr>\n",
       "      <th>3</th>\n",
       "      <td>5a3f6882c1fc8319eff1</td>\n",
       "      <td>didnt genghiz khan thee great khan abolish des...</td>\n",
       "      <td>1</td>\n",
       "      <td>218</td>\n",
       "      <td>32</td>\n",
       "      <td>0.116498</td>\n",
       "      <td>0</td>\n",
       "      <td>0</td>\n",
       "      <td>0</td>\n",
       "      <td>0</td>\n",
       "      <td>...</td>\n",
       "      <td>0</td>\n",
       "      <td>0</td>\n",
       "      <td>0</td>\n",
       "      <td>0</td>\n",
       "      <td>0</td>\n",
       "      <td>0</td>\n",
       "      <td>0</td>\n",
       "      <td>0</td>\n",
       "      <td>0</td>\n",
       "      <td>0</td>\n",
       "    </tr>\n",
       "    <tr>\n",
       "      <th>4</th>\n",
       "      <td>6a71d18ec595137eb634</td>\n",
       "      <td>india harbor many scammers thieves con artists...</td>\n",
       "      <td>1</td>\n",
       "      <td>218</td>\n",
       "      <td>27</td>\n",
       "      <td>1.233902</td>\n",
       "      <td>0</td>\n",
       "      <td>0</td>\n",
       "      <td>0</td>\n",
       "      <td>0</td>\n",
       "      <td>...</td>\n",
       "      <td>0</td>\n",
       "      <td>0</td>\n",
       "      <td>0</td>\n",
       "      <td>0</td>\n",
       "      <td>0</td>\n",
       "      <td>0</td>\n",
       "      <td>0</td>\n",
       "      <td>0</td>\n",
       "      <td>0</td>\n",
       "      <td>0</td>\n",
       "    </tr>\n",
       "  </tbody>\n",
       "</table>\n",
       "<p>5 rows × 106 columns</p>\n",
       "</div>"
      ],
      "text/plain": [
       "                    qid                                   question_stemmed  \\\n",
       "0  4d2e2796dd1ced2c8e64  prospects international students httpwwwophamm...   \n",
       "1  1729272298ed7f6cf789  could probing quantum world vacuum virtual par...   \n",
       "2  c4ee0b28e195a3d515a5  mention good book containing quotations great ...   \n",
       "3  5a3f6882c1fc8319eff1  didnt genghiz khan thee great khan abolish des...   \n",
       "4  6a71d18ec595137eb634  india harbor many scammers thieves con artists...   \n",
       "\n",
       "   target  question_length  total_words  avg_word_length_SS  \\\n",
       "0       0              240           12           11.796965   \n",
       "1       0              221           26            1.611155   \n",
       "2       0              219           29            0.771245   \n",
       "3       1              218           32            0.116498   \n",
       "4       1              218           27            1.233902   \n",
       "\n",
       "   Counts_12 year old  Counts_13 year old  Counts_14 year old  \\\n",
       "0                   0                   0                   0   \n",
       "1                   0                   0                   0   \n",
       "2                   0                   0                   0   \n",
       "3                   0                   0                   0   \n",
       "4                   0                   0                   0   \n",
       "\n",
       "   Counts_14 years old  ...  Counts_world war ii  \\\n",
       "0                    0  ...                    0   \n",
       "1                    0  ...                    0   \n",
       "2                    0  ...                    0   \n",
       "3                    0  ...                    0   \n",
       "4                    0  ...                    0   \n",
       "\n",
       "   Counts_writing style structure  Counts_year old boy  \\\n",
       "0                               0                    0   \n",
       "1                               0                    0   \n",
       "2                               0                    0   \n",
       "3                               0                    0   \n",
       "4                               0                    0   \n",
       "\n",
       "   Counts_year old daughter  Counts_year old girl  Counts_year old guy  \\\n",
       "0                         0                     0                    0   \n",
       "1                         0                     0                    0   \n",
       "2                         0                     0                    0   \n",
       "3                         0                     0                    0   \n",
       "4                         0                     0                    0   \n",
       "\n",
       "   Counts_year old male  Counts_year old man  Counts_year old son  \\\n",
       "0                     0                    0                    0   \n",
       "1                     0                    0                    0   \n",
       "2                     0                    0                    0   \n",
       "3                     0                    0                    0   \n",
       "4                     0                    0                    0   \n",
       "\n",
       "   Counts_year old woman  \n",
       "0                      0  \n",
       "1                      0  \n",
       "2                      0  \n",
       "3                      0  \n",
       "4                      0  \n",
       "\n",
       "[5 rows x 106 columns]"
      ]
     },
     "execution_count": 20,
     "metadata": {},
     "output_type": "execute_result"
    }
   ],
   "source": [
    "df_final = pd.concat([df_numeric_scaled, cv_tri_df], axis=1, sort=False)\n",
    "df_final.head(5)"
   ]
  },
  {
   "cell_type": "code",
   "execution_count": null,
   "metadata": {},
   "outputs": [],
   "source": []
  }
 ],
 "metadata": {
  "kernelspec": {
   "display_name": "Python 3",
   "language": "python",
   "name": "python3"
  },
  "language_info": {
   "codemirror_mode": {
    "name": "ipython",
    "version": 3
   },
   "file_extension": ".py",
   "mimetype": "text/x-python",
   "name": "python",
   "nbconvert_exporter": "python",
   "pygments_lexer": "ipython3",
   "version": "3.6.8"
  }
 },
 "nbformat": 4,
 "nbformat_minor": 2
}
