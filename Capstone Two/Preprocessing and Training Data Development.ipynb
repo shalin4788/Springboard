{
 "cells": [
  {
   "cell_type": "markdown",
   "metadata": {},
   "source": [
    " ## Pre-processing and Training Data Development"
   ]
  },
  {
   "cell_type": "markdown",
   "metadata": {},
   "source": [
    "- Goal is to create a cleaned development dataset you can use to complete the modeling step of this project. "
   ]
  },
  {
   "cell_type": "code",
   "execution_count": 1,
   "metadata": {},
   "outputs": [
    {
     "name": "stderr",
     "output_type": "stream",
     "text": [
      "\n",
      "Bad key \"text.kerning_factor\" on line 4 in\n",
      "C:\\Users\\gosal\\Anaconda3_2\\lib\\site-packages\\matplotlib\\mpl-data\\stylelib\\_classic_test_patch.mplstyle.\n",
      "You probably need to get an updated matplotlibrc file from\n",
      "http://github.com/matplotlib/matplotlib/blob/master/matplotlibrc.template\n",
      "or from the matplotlib source distribution\n"
     ]
    }
   ],
   "source": [
    "# Import libraries\n",
    "import pandas as pd\n",
    "pd.options.mode.chained_assignment = None  # default='warn'\n",
    "\n",
    "import os\n",
    "from sklearn.preprocessing import MaxAbsScaler\n",
    "import matplotlib.pyplot as plt\n",
    "\n",
    "#suppress future warnings\n",
    "import warnings\n",
    "warnings.simplefilter(action='ignore', category=FutureWarning)\n",
    "warnings.simplefilter(action='ignore', category=UserWarning)\n",
    "\n",
    "# Show plots inline\n",
    "%matplotlib inline"
   ]
  },
  {
   "cell_type": "code",
   "execution_count": 2,
   "metadata": {},
   "outputs": [
    {
     "data": {
      "text/plain": [
       "'C:\\\\Shalin\\\\Springboard bootcamp\\\\projects\\\\Capstone project 2\\\\Capstone Two'"
      ]
     },
     "execution_count": 2,
     "metadata": {},
     "output_type": "execute_result"
    }
   ],
   "source": [
    "os.getcwd()"
   ]
  },
  {
   "cell_type": "code",
   "execution_count": 3,
   "metadata": {},
   "outputs": [],
   "source": [
    "df = pd.read_csv(\"data/Quora_cleaned.csv\")"
   ]
  },
  {
   "cell_type": "code",
   "execution_count": 4,
   "metadata": {},
   "outputs": [
    {
     "data": {
      "text/html": [
       "<div>\n",
       "<style scoped>\n",
       "    .dataframe tbody tr th:only-of-type {\n",
       "        vertical-align: middle;\n",
       "    }\n",
       "\n",
       "    .dataframe tbody tr th {\n",
       "        vertical-align: top;\n",
       "    }\n",
       "\n",
       "    .dataframe thead th {\n",
       "        text-align: right;\n",
       "    }\n",
       "</style>\n",
       "<table border=\"1\" class=\"dataframe\">\n",
       "  <thead>\n",
       "    <tr style=\"text-align: right;\">\n",
       "      <th></th>\n",
       "      <th>Unnamed: 0</th>\n",
       "      <th>qid</th>\n",
       "      <th>question_stemmed</th>\n",
       "      <th>target</th>\n",
       "      <th>question_length</th>\n",
       "      <th>total_words</th>\n",
       "    </tr>\n",
       "  </thead>\n",
       "  <tbody>\n",
       "    <tr>\n",
       "      <th>0</th>\n",
       "      <td>393959</td>\n",
       "      <td>4d2e2796dd1ced2c8e64</td>\n",
       "      <td>prospects international students httpwwwophamm...</td>\n",
       "      <td>0</td>\n",
       "      <td>240</td>\n",
       "      <td>12</td>\n",
       "    </tr>\n",
       "    <tr>\n",
       "      <th>1</th>\n",
       "      <td>118298</td>\n",
       "      <td>1729272298ed7f6cf789</td>\n",
       "      <td>could probing quantum world vacuum virtual par...</td>\n",
       "      <td>0</td>\n",
       "      <td>221</td>\n",
       "      <td>26</td>\n",
       "    </tr>\n",
       "    <tr>\n",
       "      <th>2</th>\n",
       "      <td>1004888</td>\n",
       "      <td>c4ee0b28e195a3d515a5</td>\n",
       "      <td>mention good book containing quotations great ...</td>\n",
       "      <td>0</td>\n",
       "      <td>219</td>\n",
       "      <td>29</td>\n",
       "    </tr>\n",
       "    <tr>\n",
       "      <th>3</th>\n",
       "      <td>460851</td>\n",
       "      <td>5a3f6882c1fc8319eff1</td>\n",
       "      <td>didnt genghiz khan thee great khan abolish des...</td>\n",
       "      <td>1</td>\n",
       "      <td>218</td>\n",
       "      <td>32</td>\n",
       "    </tr>\n",
       "    <tr>\n",
       "      <th>4</th>\n",
       "      <td>543322</td>\n",
       "      <td>6a71d18ec595137eb634</td>\n",
       "      <td>india harbor many scammers thieves con artists...</td>\n",
       "      <td>1</td>\n",
       "      <td>218</td>\n",
       "      <td>27</td>\n",
       "    </tr>\n",
       "  </tbody>\n",
       "</table>\n",
       "</div>"
      ],
      "text/plain": [
       "   Unnamed: 0                   qid  \\\n",
       "0      393959  4d2e2796dd1ced2c8e64   \n",
       "1      118298  1729272298ed7f6cf789   \n",
       "2     1004888  c4ee0b28e195a3d515a5   \n",
       "3      460851  5a3f6882c1fc8319eff1   \n",
       "4      543322  6a71d18ec595137eb634   \n",
       "\n",
       "                                    question_stemmed  target  question_length  \\\n",
       "0  prospects international students httpwwwophamm...       0              240   \n",
       "1  could probing quantum world vacuum virtual par...       0              221   \n",
       "2  mention good book containing quotations great ...       0              219   \n",
       "3  didnt genghiz khan thee great khan abolish des...       1              218   \n",
       "4  india harbor many scammers thieves con artists...       1              218   \n",
       "\n",
       "   total_words  \n",
       "0           12  \n",
       "1           26  \n",
       "2           29  \n",
       "3           32  \n",
       "4           27  "
      ]
     },
     "execution_count": 4,
     "metadata": {},
     "output_type": "execute_result"
    }
   ],
   "source": [
    "df.head(5)"
   ]
  },
  {
   "cell_type": "code",
   "execution_count": 5,
   "metadata": {},
   "outputs": [
    {
     "name": "stdout",
     "output_type": "stream",
     "text": [
      "<class 'pandas.core.frame.DataFrame'>\n",
      "RangeIndex: 1016694 entries, 0 to 1016693\n",
      "Data columns (total 6 columns):\n",
      " #   Column            Non-Null Count    Dtype \n",
      "---  ------            --------------    ----- \n",
      " 0   Unnamed: 0        1016694 non-null  int64 \n",
      " 1   qid               1016694 non-null  object\n",
      " 2   question_stemmed  1016694 non-null  object\n",
      " 3   target            1016694 non-null  int64 \n",
      " 4   question_length   1016694 non-null  int64 \n",
      " 5   total_words       1016694 non-null  int64 \n",
      "dtypes: int64(4), object(2)\n",
      "memory usage: 46.5+ MB\n"
     ]
    }
   ],
   "source": [
    "df.info()"
   ]
  },
  {
   "cell_type": "code",
   "execution_count": 6,
   "metadata": {},
   "outputs": [
    {
     "data": {
      "text/html": [
       "<div>\n",
       "<style scoped>\n",
       "    .dataframe tbody tr th:only-of-type {\n",
       "        vertical-align: middle;\n",
       "    }\n",
       "\n",
       "    .dataframe tbody tr th {\n",
       "        vertical-align: top;\n",
       "    }\n",
       "\n",
       "    .dataframe thead th {\n",
       "        text-align: right;\n",
       "    }\n",
       "</style>\n",
       "<table border=\"1\" class=\"dataframe\">\n",
       "  <thead>\n",
       "    <tr style=\"text-align: right;\">\n",
       "      <th></th>\n",
       "      <th>qid</th>\n",
       "      <th>question_stemmed</th>\n",
       "      <th>target</th>\n",
       "      <th>question_length</th>\n",
       "      <th>total_words</th>\n",
       "    </tr>\n",
       "  </thead>\n",
       "  <tbody>\n",
       "    <tr>\n",
       "      <th>0</th>\n",
       "      <td>4d2e2796dd1ced2c8e64</td>\n",
       "      <td>prospects international students httpwwwophamm...</td>\n",
       "      <td>0</td>\n",
       "      <td>240</td>\n",
       "      <td>12</td>\n",
       "    </tr>\n",
       "    <tr>\n",
       "      <th>1</th>\n",
       "      <td>1729272298ed7f6cf789</td>\n",
       "      <td>could probing quantum world vacuum virtual par...</td>\n",
       "      <td>0</td>\n",
       "      <td>221</td>\n",
       "      <td>26</td>\n",
       "    </tr>\n",
       "  </tbody>\n",
       "</table>\n",
       "</div>"
      ],
      "text/plain": [
       "                    qid                                   question_stemmed  \\\n",
       "0  4d2e2796dd1ced2c8e64  prospects international students httpwwwophamm...   \n",
       "1  1729272298ed7f6cf789  could probing quantum world vacuum virtual par...   \n",
       "\n",
       "   target  question_length  total_words  \n",
       "0       0              240           12  \n",
       "1       0              221           26  "
      ]
     },
     "execution_count": 6,
     "metadata": {},
     "output_type": "execute_result"
    }
   ],
   "source": [
    "# Drop index columns\n",
    "df.drop('Unnamed: 0',axis=1, inplace=True)\n",
    "df.head(2)"
   ]
  },
  {
   "cell_type": "code",
   "execution_count": 7,
   "metadata": {},
   "outputs": [
    {
     "name": "stdout",
     "output_type": "stream",
     "text": [
      "qid                 object\n",
      "question_stemmed    object\n",
      "target               int64\n",
      "question_length      int64\n",
      "total_words          int64\n",
      "dtype: object\n"
     ]
    }
   ],
   "source": [
    "# Print the data type of each column\n",
    "print(df.dtypes)"
   ]
  },
  {
   "cell_type": "markdown",
   "metadata": {},
   "source": [
    "### Standardize the magnitude of numeric features using a scaler"
   ]
  },
  {
   "cell_type": "code",
   "execution_count": 8,
   "metadata": {},
   "outputs": [
    {
     "name": "stdout",
     "output_type": "stream",
     "text": [
      "                                    question_stemmed  question_length  \\\n",
      "0  prospects international students httpwwwophamm...              240   \n",
      "1  could probing quantum world vacuum virtual par...              221   \n",
      "2  mention good book containing quotations great ...              219   \n",
      "3  didnt genghiz khan thee great khan abolish des...              218   \n",
      "4  india harbor many scammers thieves con artists...              218   \n",
      "\n",
      "   total_words  avg_word_length  \n",
      "0           12        20.000000  \n",
      "1           26         8.500000  \n",
      "2           29         7.551724  \n",
      "3           32         6.812500  \n",
      "4           27         8.074074  \n"
     ]
    }
   ],
   "source": [
    "# Find the average length of word\n",
    "df['avg_word_length'] = df['question_length'] / df['total_words']\n",
    "\n",
    "# Print the first 5 rows of these columns\n",
    "print(df[['question_stemmed', 'question_length', 'total_words', 'avg_word_length']].head(5))"
   ]
  },
  {
   "cell_type": "code",
   "execution_count": 9,
   "metadata": {},
   "outputs": [
    {
     "name": "stdout",
     "output_type": "stream",
     "text": [
      "Index(['target', 'question_length', 'total_words', 'avg_word_length'], dtype='object')\n"
     ]
    }
   ],
   "source": [
    "# Create subset of only the numeric columns\n",
    "numeric_df = df.select_dtypes(include=['int64','float'])\n",
    "print(numeric_df.columns)"
   ]
  },
  {
   "cell_type": "code",
   "execution_count": 10,
   "metadata": {},
   "outputs": [
    {
     "name": "stdout",
     "output_type": "stream",
     "text": [
      "Index(['qid', 'question_stemmed'], dtype='object')\n"
     ]
    }
   ],
   "source": [
    "# Create subset of only the categorical variable columns\n",
    "categorical_df = df.select_dtypes(include=['object'])\n",
    "print(categorical_df.columns)"
   ]
  },
  {
   "cell_type": "code",
   "execution_count": 11,
   "metadata": {},
   "outputs": [
    {
     "data": {
      "text/plain": [
       "count    1.016694e+06\n",
       "mean     6.680972e+00\n",
       "std      1.129022e+00\n",
       "min      1.933333e+00\n",
       "25%      6.000000e+00\n",
       "50%      6.615385e+00\n",
       "75%      7.375000e+00\n",
       "max      5.300000e+01\n",
       "Name: avg_word_length, dtype: float64"
      ]
     },
     "execution_count": 11,
     "metadata": {},
     "output_type": "execute_result"
    }
   ],
   "source": [
    "numeric_df['avg_word_length'].describe()"
   ]
  },
  {
   "cell_type": "code",
   "execution_count": 12,
   "metadata": {},
   "outputs": [
    {
     "name": "stdout",
     "output_type": "stream",
     "text": [
      "   avg_word_length_scaled  avg_word_length\n",
      "0                0.377358        20.000000\n",
      "1                0.160377         8.500000\n",
      "2                0.142485         7.551724\n",
      "3                0.128538         6.812500\n",
      "4                0.152341         8.074074\n"
     ]
    }
   ],
   "source": [
    "# Instantiate StandardScaler to generate the absolute values are mapped in the range [0, 1].\n",
    "# This is optional step for our dataset since there are not many outliers, however, this condenses data even better\n",
    "\n",
    "scaler = MaxAbsScaler()\n",
    "\n",
    "# Fit SS_scaler to the data\n",
    "scaler.fit(numeric_df[['avg_word_length']])\n",
    "\n",
    "# Transform the data using the fitted scaler\n",
    "numeric_df['avg_word_length_scaled'] = scaler.transform(numeric_df[['avg_word_length']])\n",
    "\n",
    "# Compare the origional and transformed column\n",
    "print(numeric_df[['avg_word_length_scaled', 'avg_word_length']].head(5))"
   ]
  },
  {
   "cell_type": "code",
   "execution_count": 13,
   "metadata": {
    "scrolled": false
   },
   "outputs": [
    {
     "data": {
      "image/png": "[encoded data removed]",
      "text/plain": [
       "<Figure size 720x360 with 2 Axes>"
      ]
     },
     "metadata": {
      "needs_background": "light"
     },
     "output_type": "display_data"
    }
   ],
   "source": [
    "# Create a histogram for the 2 \n",
    "plt.rcParams[\"figure.figsize\"] = (10,5)\n",
    "\n",
    "numeric_df.hist(['avg_word_length','avg_word_length_scaled'])\n",
    "plt.show()"
   ]
  },
  {
   "cell_type": "code",
   "execution_count": 14,
   "metadata": {},
   "outputs": [
    {
     "data": {
      "text/html": [
       "<div>\n",
       "<style scoped>\n",
       "    .dataframe tbody tr th:only-of-type {\n",
       "        vertical-align: middle;\n",
       "    }\n",
       "\n",
       "    .dataframe tbody tr th {\n",
       "        vertical-align: top;\n",
       "    }\n",
       "\n",
       "    .dataframe thead th {\n",
       "        text-align: right;\n",
       "    }\n",
       "</style>\n",
       "<table border=\"1\" class=\"dataframe\">\n",
       "  <thead>\n",
       "    <tr style=\"text-align: right;\">\n",
       "      <th></th>\n",
       "      <th>target</th>\n",
       "      <th>question_length</th>\n",
       "      <th>total_words</th>\n",
       "      <th>avg_word_length_scaled</th>\n",
       "    </tr>\n",
       "  </thead>\n",
       "  <tbody>\n",
       "    <tr>\n",
       "      <th>0</th>\n",
       "      <td>0</td>\n",
       "      <td>240</td>\n",
       "      <td>12</td>\n",
       "      <td>0.377358</td>\n",
       "    </tr>\n",
       "    <tr>\n",
       "      <th>1</th>\n",
       "      <td>0</td>\n",
       "      <td>221</td>\n",
       "      <td>26</td>\n",
       "      <td>0.160377</td>\n",
       "    </tr>\n",
       "    <tr>\n",
       "      <th>2</th>\n",
       "      <td>0</td>\n",
       "      <td>219</td>\n",
       "      <td>29</td>\n",
       "      <td>0.142485</td>\n",
       "    </tr>\n",
       "    <tr>\n",
       "      <th>3</th>\n",
       "      <td>1</td>\n",
       "      <td>218</td>\n",
       "      <td>32</td>\n",
       "      <td>0.128538</td>\n",
       "    </tr>\n",
       "    <tr>\n",
       "      <th>4</th>\n",
       "      <td>1</td>\n",
       "      <td>218</td>\n",
       "      <td>27</td>\n",
       "      <td>0.152341</td>\n",
       "    </tr>\n",
       "  </tbody>\n",
       "</table>\n",
       "</div>"
      ],
      "text/plain": [
       "   target  question_length  total_words  avg_word_length_scaled\n",
       "0       0              240           12                0.377358\n",
       "1       0              221           26                0.160377\n",
       "2       0              219           29                0.142485\n",
       "3       1              218           32                0.128538\n",
       "4       1              218           27                0.152341"
      ]
     },
     "execution_count": 14,
     "metadata": {},
     "output_type": "execute_result"
    }
   ],
   "source": [
    "# Drop non scaled column\n",
    "numeric_df.drop(columns='avg_word_length', inplace=True)\n",
    "numeric_df.head(5)"
   ]
  },
  {
   "cell_type": "code",
   "execution_count": 15,
   "metadata": {},
   "outputs": [
    {
     "data": {
      "text/plain": [
       "count    1.016694e+06\n",
       "mean     1.260561e-01\n",
       "std      2.130230e-02\n",
       "min      3.647799e-02\n",
       "25%      1.132075e-01\n",
       "50%      1.248186e-01\n",
       "75%      1.391509e-01\n",
       "max      1.000000e+00\n",
       "Name: avg_word_length_scaled, dtype: float64"
      ]
     },
     "execution_count": 15,
     "metadata": {},
     "output_type": "execute_result"
    }
   ],
   "source": [
    "numeric_df['avg_word_length_scaled'].describe()"
   ]
  },
  {
   "cell_type": "code",
   "execution_count": 16,
   "metadata": {},
   "outputs": [
    {
     "data": {
      "text/html": [
       "<div>\n",
       "<style scoped>\n",
       "    .dataframe tbody tr th:only-of-type {\n",
       "        vertical-align: middle;\n",
       "    }\n",
       "\n",
       "    .dataframe tbody tr th {\n",
       "        vertical-align: top;\n",
       "    }\n",
       "\n",
       "    .dataframe thead th {\n",
       "        text-align: right;\n",
       "    }\n",
       "</style>\n",
       "<table border=\"1\" class=\"dataframe\">\n",
       "  <thead>\n",
       "    <tr style=\"text-align: right;\">\n",
       "      <th></th>\n",
       "      <th>qid</th>\n",
       "      <th>question_stemmed</th>\n",
       "      <th>target</th>\n",
       "      <th>question_length</th>\n",
       "      <th>total_words</th>\n",
       "      <th>avg_word_length_scaled</th>\n",
       "    </tr>\n",
       "  </thead>\n",
       "  <tbody>\n",
       "    <tr>\n",
       "      <th>0</th>\n",
       "      <td>4d2e2796dd1ced2c8e64</td>\n",
       "      <td>prospects international students httpwwwophamm...</td>\n",
       "      <td>0</td>\n",
       "      <td>240</td>\n",
       "      <td>12</td>\n",
       "      <td>0.377358</td>\n",
       "    </tr>\n",
       "    <tr>\n",
       "      <th>1</th>\n",
       "      <td>1729272298ed7f6cf789</td>\n",
       "      <td>could probing quantum world vacuum virtual par...</td>\n",
       "      <td>0</td>\n",
       "      <td>221</td>\n",
       "      <td>26</td>\n",
       "      <td>0.160377</td>\n",
       "    </tr>\n",
       "    <tr>\n",
       "      <th>2</th>\n",
       "      <td>c4ee0b28e195a3d515a5</td>\n",
       "      <td>mention good book containing quotations great ...</td>\n",
       "      <td>0</td>\n",
       "      <td>219</td>\n",
       "      <td>29</td>\n",
       "      <td>0.142485</td>\n",
       "    </tr>\n",
       "    <tr>\n",
       "      <th>3</th>\n",
       "      <td>5a3f6882c1fc8319eff1</td>\n",
       "      <td>didnt genghiz khan thee great khan abolish des...</td>\n",
       "      <td>1</td>\n",
       "      <td>218</td>\n",
       "      <td>32</td>\n",
       "      <td>0.128538</td>\n",
       "    </tr>\n",
       "    <tr>\n",
       "      <th>4</th>\n",
       "      <td>6a71d18ec595137eb634</td>\n",
       "      <td>india harbor many scammers thieves con artists...</td>\n",
       "      <td>1</td>\n",
       "      <td>218</td>\n",
       "      <td>27</td>\n",
       "      <td>0.152341</td>\n",
       "    </tr>\n",
       "  </tbody>\n",
       "</table>\n",
       "</div>"
      ],
      "text/plain": [
       "                    qid                                   question_stemmed  \\\n",
       "0  4d2e2796dd1ced2c8e64  prospects international students httpwwwophamm...   \n",
       "1  1729272298ed7f6cf789  could probing quantum world vacuum virtual par...   \n",
       "2  c4ee0b28e195a3d515a5  mention good book containing quotations great ...   \n",
       "3  5a3f6882c1fc8319eff1  didnt genghiz khan thee great khan abolish des...   \n",
       "4  6a71d18ec595137eb634  india harbor many scammers thieves con artists...   \n",
       "\n",
       "   target  question_length  total_words  avg_word_length_scaled  \n",
       "0       0              240           12                0.377358  \n",
       "1       0              221           26                0.160377  \n",
       "2       0              219           29                0.142485  \n",
       "3       1              218           32                0.128538  \n",
       "4       1              218           27                0.152341  "
      ]
     },
     "execution_count": 16,
     "metadata": {},
     "output_type": "execute_result"
    }
   ],
   "source": [
    "df_numeric_scaled = pd.concat([categorical_df, numeric_df], axis=1, sort=False)\n",
    "df_numeric_scaled.head(5)"
   ]
  },
  {
   "cell_type": "code",
   "execution_count": 17,
   "metadata": {
    "scrolled": false
   },
   "outputs": [
    {
     "data": {
      "text/html": [
       "<div>\n",
       "<style scoped>\n",
       "    .dataframe tbody tr th:only-of-type {\n",
       "        vertical-align: middle;\n",
       "    }\n",
       "\n",
       "    .dataframe tbody tr th {\n",
       "        vertical-align: top;\n",
       "    }\n",
       "\n",
       "    .dataframe thead th {\n",
       "        text-align: right;\n",
       "    }\n",
       "</style>\n",
       "<table border=\"1\" class=\"dataframe\">\n",
       "  <thead>\n",
       "    <tr style=\"text-align: right;\">\n",
       "      <th></th>\n",
       "      <th>qid</th>\n",
       "      <th>target</th>\n",
       "      <th>question_length</th>\n",
       "      <th>total_words</th>\n",
       "      <th>avg_word_length_scaled</th>\n",
       "      <th>question_final</th>\n",
       "    </tr>\n",
       "  </thead>\n",
       "  <tbody>\n",
       "    <tr>\n",
       "      <th>0</th>\n",
       "      <td>4d2e2796dd1ced2c8e64</td>\n",
       "      <td>0</td>\n",
       "      <td>240</td>\n",
       "      <td>12</td>\n",
       "      <td>0.377358</td>\n",
       "      <td>prospect intern student httpwwwophammainquorac...</td>\n",
       "    </tr>\n",
       "    <tr>\n",
       "      <th>1</th>\n",
       "      <td>1729272298ed7f6cf789</td>\n",
       "      <td>0</td>\n",
       "      <td>221</td>\n",
       "      <td>26</td>\n",
       "      <td>0.160377</td>\n",
       "      <td>could probe quantum world vacuum virtual parti...</td>\n",
       "    </tr>\n",
       "    <tr>\n",
       "      <th>2</th>\n",
       "      <td>c4ee0b28e195a3d515a5</td>\n",
       "      <td>0</td>\n",
       "      <td>219</td>\n",
       "      <td>29</td>\n",
       "      <td>0.142485</td>\n",
       "      <td>mention good book contain quotat great person ...</td>\n",
       "    </tr>\n",
       "    <tr>\n",
       "      <th>3</th>\n",
       "      <td>5a3f6882c1fc8319eff1</td>\n",
       "      <td>1</td>\n",
       "      <td>218</td>\n",
       "      <td>32</td>\n",
       "      <td>0.128538</td>\n",
       "      <td>didnt genghiz khan thee great khan abolish des...</td>\n",
       "    </tr>\n",
       "    <tr>\n",
       "      <th>4</th>\n",
       "      <td>6a71d18ec595137eb634</td>\n",
       "      <td>1</td>\n",
       "      <td>218</td>\n",
       "      <td>27</td>\n",
       "      <td>0.152341</td>\n",
       "      <td>india harbor mani scammer thiev con artist chi...</td>\n",
       "    </tr>\n",
       "  </tbody>\n",
       "</table>\n",
       "</div>"
      ],
      "text/plain": [
       "                    qid  target  question_length  total_words  \\\n",
       "0  4d2e2796dd1ced2c8e64       0              240           12   \n",
       "1  1729272298ed7f6cf789       0              221           26   \n",
       "2  c4ee0b28e195a3d515a5       0              219           29   \n",
       "3  5a3f6882c1fc8319eff1       1              218           32   \n",
       "4  6a71d18ec595137eb634       1              218           27   \n",
       "\n",
       "   avg_word_length_scaled                                     question_final  \n",
       "0                0.377358  prospect intern student httpwwwophammainquorac...  \n",
       "1                0.160377  could probe quantum world vacuum virtual parti...  \n",
       "2                0.142485  mention good book contain quotat great person ...  \n",
       "3                0.128538  didnt genghiz khan thee great khan abolish des...  \n",
       "4                0.152341  india harbor mani scammer thiev con artist chi...  "
      ]
     },
     "execution_count": 17,
     "metadata": {},
     "output_type": "execute_result"
    }
   ],
   "source": [
    "# Perform stemming again to ensure all words are properly stemmed. \n",
    "from nltk.stem import PorterStemmer\n",
    "import stem\n",
    "\n",
    "porter_stemmer = PorterStemmer()\n",
    "\n",
    "def stem_sentences(sentence):\n",
    "    tokens = sentence.split()\n",
    "    stemmed_tokens = [porter_stemmer.stem(token) for token in tokens]\n",
    "    return ' '.join(stemmed_tokens)\n",
    "\n",
    "df_numeric_scaled['question_final'] = df_numeric_scaled['question_stemmed'].apply(stem_sentences)\n",
    "df_numeric_scaled = df_numeric_scaled.drop(columns=['question_stemmed']) # Get rid of the redundant column.\n",
    "df_numeric_scaled.head(5)"
   ]
  },
  {
   "cell_type": "code",
   "execution_count": 18,
   "metadata": {},
   "outputs": [
    {
     "name": "stdout",
     "output_type": "stream",
     "text": [
      "<class 'pandas.core.frame.DataFrame'>\n",
      "RangeIndex: 1016694 entries, 0 to 1016693\n",
      "Data columns (total 6 columns):\n",
      " #   Column                  Non-Null Count    Dtype  \n",
      "---  ------                  --------------    -----  \n",
      " 0   qid                     1016694 non-null  object \n",
      " 1   target                  1016694 non-null  int64  \n",
      " 2   question_length         1016694 non-null  int64  \n",
      " 3   total_words             1016694 non-null  int64  \n",
      " 4   avg_word_length_scaled  1016694 non-null  float64\n",
      " 5   question_final          1016694 non-null  object \n",
      "dtypes: float64(1), int64(3), object(2)\n",
      "memory usage: 46.5+ MB\n"
     ]
    }
   ],
   "source": [
    "df_numeric_scaled.info()"
   ]
  },
  {
   "cell_type": "markdown",
   "metadata": {},
   "source": [
    "### Perform Count vectorization on categorical feature to fit and transform data"
   ]
  },
  {
   "cell_type": "code",
   "execution_count": null,
   "metadata": {},
   "outputs": [
    {
     "data": {
      "text/plain": [
       "False"
      ]
     },
     "execution_count": 19,
     "metadata": {},
     "output_type": "execute_result"
    }
   ],
   "source": [
    "from sklearn.feature_extraction.text import ENGLISH_STOP_WORDS\n",
    "\n",
    "#'quantum' in ENGLISH_STOP_WORDS \n",
    "#'scammers' in ENGLISH_STOP_WORDS \n",
    "'ask stupid question' in ENGLISH_STOP_WORDS "
   ]
  },
  {
   "cell_type": "code",
   "execution_count": null,
   "metadata": {},
   "outputs": [
    {
     "name": "stdout",
     "output_type": "stream",
     "text": [
      "['10 year ago', '10 year experi', '10 year old', '11 year old', '12 year old', '12th board exam', '13 year old', '14 year old', '15 year old', '16 year old', '17 year old', '18 year old', '19 year old', '20 year old', '2018 world cup', '21 year old', '22 year old', '23 year old', '24 year old', '25 year old', '26 year old', '27 year old', '28 year old', '30 year old', '40 year old', '50 year old', 'academ pressur workload', 'act style lik', 'affect way read', 'air traffic control', 'alway feel like', 'american civil war', 'american footbal play', 'android app develop', 'answer question quora', 'app develop compani', 'appl cider vinegar', 'ask question quora', 'ask stupid question', 'attack north korea', 'australia new zealand', 'aveng infin war', 'backstori movi got', 'barack hussein obama', 'becom commerci pilot', 'becom data scientist', 'becom ia offic', 'becom prime minist', 'becom softwar engin', 'best android app', 'best book learn', 'best book prepar', 'best book read', 'best book studi', 'best book understand', 'best career option', 'best coach center', 'best coach centr', 'best coach institut', 'best colleg india', 'best digit market', 'best engin colleg', 'best institut learn', 'best mutual fund', 'best onlin cours', 'best place buy', 'best place hike', 'best place learn', 'best place live', 'best place stay', 'best place studi', 'best place visit', 'best possibl way', 'best program languag', 'best resourc learn', 'best site download', 'best site learn', 'best social media', 'best sourc learn', 'best student organ', 'best thing weekend', 'best time visit', 'best train institut', 'best way approach', 'best way ask', 'best way becom', 'best way build', 'best way clean', 'best way cook', 'best way creat', 'best way deal', 'best way disassembl', 'best way earn', 'best way handl', 'best way help', 'best way improv', 'best way increas', 'best way invest', 'best way learn', 'best way lose', 'best way make', 'best way market', 'best way prepar', 'best way prevent', 'best way promot', 'best way reach', 'best way remov', 'best way rid', 'best way sell', 'best way spend', 'best way start', 'best way stop', 'best way studi', 'best way teach', 'best way tell', 'best way travel', 'best way treat', 'best way use', 'best way write', 'best websit download', 'best websit learn', 'best youtub channel', 'bhk flat rent', 'big bang theori', 'bilater diplomat foreign', 'birth control pill', 'black live matter', 'borderlin person disord', 'canada express entri', 'cbse board exam', 'cbse class 10', 'cbse class 12', 'charact chang book', 'charact chang novel', 'china north korea', 'civil servic exam', 'civil servic examin', 'class 10 board', 'class 11 12', 'class 12 board', 'class 12 cbse', 'class high school', 'compani like googl', 'compani provid best', 'comput scienc degre', 'comput scienc engin', 'comput scienc stud', 'comput scienc student', 'condit averag household', 'consid read book', 'consider decid locat', 'consider write biographi', 'controversi event mention', 'convinc parent let', 'convolut neural network', 'coolest work summ', 'corpor cultur like', 'cost bhk flat', 'countri like india', 'crack jee main', 'data structur algorithm', 'day day lif', 'degre comput scienc', 'describ differ type', 'devic use book', 'devic use novel', 'digit market cours', 'diplomat foreign relat', 'distinguish write style', 'donald trump presid', 'dont believ god', 'dont feel like', 'dont know anyth', 'download solut manual', 'download test bank', 'dragon ball super', 'earn money onlin', 'electr electron engin', 'electron commun engin', 'engin colleg india', 'engin comput scienc', 'everi singl day', 'experi affect way', 'extern hard drive', 'face order becom', 'factor affect weather', 'fall love someon', 'fast food restaur', 'faster speed light', 'feel like dont', 'feel like im', 'fifa world cup', 'final year project', 'foreign relat pakistan', 'game throne season', 'good analysi book', 'good analysi novel', 'good analysi poem', 'good bad neighborhood', 'good book learn', 'good book read', 'good dish serv', 'good hotel shortterm', 'good recip cook', 'good resourc learn', 'good time buy', 'good way learn', 'gopal kavalireddi view', 'gordon miller think', 'govern medic colleg', 'grade high school', 'graduat high school', 'greenlit backstori movi', 'gun control advoc', 'harri potter book', 'harri potter movi', 'harri potter seri', 'hate black peopl', 'hate white peopl', 'health benefit eat', 'help lose weight', 'help tip student', 'high blood pressur', 'high pay job', 'high school colleg', 'high school diploma', 'high school stud', 'high school student', 'hire process like', 'histori ancient cultur', 'hotel shortterm busi', 'human resourc manag', 'human right violat', 'im 14 year', 'im 15 year', 'im 16 year', 'im 17 year', 'im high school', 'import thing know', 'incom tax return', 'indian air forc', 'indian cricket team', 'indian foreign servic', 'indian stock market', 'influenc crime rate', 'inject mold machin', 'inspir pursu act', 'inspir pursu career', 'inspir write book', 'interpret predomin theme', 'interview question ask', 'invest mutual fund', 'invest real estat', 'invest stock market', 'islam religion peac', 'ivi leagu school', 'jamia millia islamia', 'jee advanc 2017', 'jee advanc 2018', 'jee main 2017', 'jee main 2018', 'jee main advanc', 'jee main paper', 'jee main rank', 'join indian armi', 'kind question ask', 'knowledg experi affect', 'learn digit market', 'learn foreign languag', 'learn histori ancient', 'learn machin learn', 'learn new languag', 'learn program languag', 'learn web develop', 'leonardo da vinci', 'lesser known fact', 'lewi dot structur', 'life chang event', 'light year away', 'like best friend', 'like donald trump', 'like north korea', 'literari devic book', 'literari devic novel', 'literari devic use', 'live condit averag', 'long distanc relationship', 'long period tim', 'long term effect', 'long term invest', 'long term relationship', 'longstand tradit undergradu', 'lose belli fat', 'love best friend', 'low self esteem', 'luther king jr', 'machin learn algorithm', 'machin learn engin', 'machin learn use', 'make america great', 'make bad person', 'make costum resembl', 'make eye contact', 'make feel like', 'make look like', 'make lot money', 'make money onlin', 'make new friend', 'make world better', 'mani hour studi', 'mani mark need', 'mani mark requir', 'mani peopl believ', 'mani peopl die', 'mani peopl hate', 'mani peopl know', 'mani peopl live', 'mani peopl quora', 'mani peopl think', 'manufactur process improv', 'mark jee advanc', 'mark jee main', 'mark neet 2017', 'mark neet 2018', 'market research report', 'market strategi use', 'martin luther king', 'marvel cinemat univers', 'master comput scienc', 'mean guy say', 'mean someon say', 'mechan engin student', 'medic colleg india', 'medic condit associ', 'mental health issu', 'minimum mark requir', 'mobil app develop', 'money bank account', 'month old babi', 'moto g5 plu', 'movi got mad', 'movi greenlit backstori', 'ms comput scienc', 'mutual fund invest', 'narcissist person disord', 'nativ english speaker', 'new york citi', 'new york time', 'north korea nuclear', 'onlin test seri', 'open bank account', 'open sourc project', 'organ club join', 'organ join univers', 'osama bin laden', 'peopl answer question', 'peopl ask question', 'peopl ask stupid', 'peopl dont know', 'peopl dont like', 'peopl dont want', 'peopl feel need', 'peopl make fun', 'peopl unit state', 'person knowledg experi', 'play video gam', 'play video game', 'pleas use word', 'predomin theme book', 'prepar civil servic', 'prepar competit exam', 'prepar jee main', 'prepar ssc cgl', 'presid donald trump', 'presid unit st', 'presid unit state', 'previou year question', 'primarili compet compar', 'prime minist india', 'privat limit compani', 'privat medic colleg', 'product base compani', 'program languag learn', 'program languag use', 'public sector bank', 'pursu act car', 'question answer quora', 'question ask interview', 'question ask quora', 'quora content review', 'quora world meetup', 'rank jee advanc', 'rank jee main', 'real estat agent', 'real estat invest', 'real estat market', 'real life exampl', 'reduc belli fat', 'reduc calori level', 'san francisco bay', 'sat subject test', 'score good mark', 'score jee main', 'second world war', 'self drive car', 'servic base compani', 'servic center hyderabad', 'shortterm busi travel', 'social justic warrior', 'social media account', 'social media market', 'social media platform', 'social media site', 'social network site', 'social secur number', 'softwar develop compani', 'softwar engin job', 'someon start work', 'sometim feel like', 'south china sea', 'srm main campu', 'ssc cgl 2017', 'ssc cgl 2018', 'ssc cgl tier', 'star war jedi', 'star war movi', 'start onlin busi', 'start prepar upsc', 'start small busi', 'start youtub channel', 'student organ club', 'student organ join', 'student start semest', 'student start year', 'studi comput scienc', 'stupid question quora', 'style structur book', 'suppli chain manag', 'support donald trump', 'thing need know', 'thing someon said', 'thing weekend student', 'thing youv seen', 'think donald trump', 'think good idea', 'think presid trump', 'tip someon start', 'tip student start', 'tip write summari', 'tourist spot visit', 'travel speed light', 'turn point book', 'tv anim seri', 'type question ask', 'unit state america', 'unit state govern', 'univers basic incom', 'univers student join', 'upsc civil servic', 'use machin learn', 'use social media', 'use tip someon', 'use tip student', 'want pursu career', 'war north korea', 'way earn money', 'way lose weight', 'way make money', 'way read book', 'white blood cell', 'work softwar engin', 'world better plac', 'world better place', 'world cup 2018', 'world look like', 'world war ii', 'world war iii', 'worst thing happen', 'write answer quora', 'write short stori', 'write style structur', 'write style use', 'year high school', 'year mechan engin', 'year old boy', 'year old child', 'year old daughter', 'year old femal', 'year old girl', 'year old guy', 'year old kid', 'year old male', 'year old man', 'year old son', 'year old start', 'year old want', 'year old woman', 'year question paper', 'year work experi', 'youtub channel learn']\n"
     ]
    }
   ],
   "source": [
    "# Import CountVectorizer\n",
    "from sklearn.feature_extraction.text import CountVectorizer\n",
    "\n",
    "# Instantiate a trigram vectorizer\n",
    "# In data Wrangling step, stop words were removed using nltk. However at this step, we will remove step_words using sklearn library too\n",
    "cv_trigram_vec = CountVectorizer(stop_words='english',\n",
    "                                 max_features=500, \n",
    "                                 #token_pattern='(?u)\\b\\w+\\b',\n",
    "                                 ngram_range=(3,3))\n",
    "\n",
    "# Fit and apply trigram vectorizer\n",
    "cv_trigram = cv_trigram_vec.fit_transform(df_numeric_scaled['question_final'])\n",
    "\n",
    "# Print the trigram features\n",
    "print(cv_trigram_vec.get_feature_names())\n",
    "\n",
    "# Create a DataFrame of the features\n",
    "cv_tri_df = pd.DataFrame(cv_trigram.toarray(), \n",
    "                 columns=cv_trigram_vec.get_feature_names()).add_prefix('Counts_')"
   ]
  },
  {
   "cell_type": "code",
   "execution_count": null,
   "metadata": {},
   "outputs": [
    {
     "name": "stdout",
     "output_type": "stream",
     "text": [
      "Counts_tip someon start         581\n",
      "Counts_someon start work        577\n",
      "Counts_use tip someon           575\n",
      "Counts_shortterm busi travel    413\n",
      "Counts_good hotel shortterm     413\n",
      "dtype: int64\n"
     ]
    }
   ],
   "source": [
    "# Print the top 5 words in the sorted output\n",
    "print(cv_tri_df.sum().sort_values(ascending=False).head(5))"
   ]
  },
  {
   "cell_type": "code",
   "execution_count": null,
   "metadata": {},
   "outputs": [
    {
     "data": {
      "text/html": [
       "<div>\n",
       "<style scoped>\n",
       "    .dataframe tbody tr th:only-of-type {\n",
       "        vertical-align: middle;\n",
       "    }\n",
       "\n",
       "    .dataframe tbody tr th {\n",
       "        vertical-align: top;\n",
       "    }\n",
       "\n",
       "    .dataframe thead th {\n",
       "        text-align: right;\n",
       "    }\n",
       "</style>\n",
       "<table border=\"1\" class=\"dataframe\">\n",
       "  <thead>\n",
       "    <tr style=\"text-align: right;\">\n",
       "      <th></th>\n",
       "      <th>qid</th>\n",
       "      <th>target</th>\n",
       "      <th>question_length</th>\n",
       "      <th>total_words</th>\n",
       "      <th>avg_word_length_scaled</th>\n",
       "      <th>question_final</th>\n",
       "      <th>Counts_10 year ago</th>\n",
       "      <th>Counts_10 year experi</th>\n",
       "      <th>Counts_10 year old</th>\n",
       "      <th>Counts_11 year old</th>\n",
       "      <th>...</th>\n",
       "      <th>Counts_year old kid</th>\n",
       "      <th>Counts_year old male</th>\n",
       "      <th>Counts_year old man</th>\n",
       "      <th>Counts_year old son</th>\n",
       "      <th>Counts_year old start</th>\n",
       "      <th>Counts_year old want</th>\n",
       "      <th>Counts_year old woman</th>\n",
       "      <th>Counts_year question paper</th>\n",
       "      <th>Counts_year work experi</th>\n",
       "      <th>Counts_youtub channel learn</th>\n",
       "    </tr>\n",
       "  </thead>\n",
       "  <tbody>\n",
       "    <tr>\n",
       "      <th>0</th>\n",
       "      <td>4d2e2796dd1ced2c8e64</td>\n",
       "      <td>0</td>\n",
       "      <td>240</td>\n",
       "      <td>12</td>\n",
       "      <td>0.377358</td>\n",
       "      <td>prospect intern student httpwwwophammainquorac...</td>\n",
       "      <td>0</td>\n",
       "      <td>0</td>\n",
       "      <td>0</td>\n",
       "      <td>0</td>\n",
       "      <td>...</td>\n",
       "      <td>0</td>\n",
       "      <td>0</td>\n",
       "      <td>0</td>\n",
       "      <td>0</td>\n",
       "      <td>0</td>\n",
       "      <td>0</td>\n",
       "      <td>0</td>\n",
       "      <td>0</td>\n",
       "      <td>0</td>\n",
       "      <td>0</td>\n",
       "    </tr>\n",
       "    <tr>\n",
       "      <th>1</th>\n",
       "      <td>1729272298ed7f6cf789</td>\n",
       "      <td>0</td>\n",
       "      <td>221</td>\n",
       "      <td>26</td>\n",
       "      <td>0.160377</td>\n",
       "      <td>could probe quantum world vacuum virtual parti...</td>\n",
       "      <td>0</td>\n",
       "      <td>0</td>\n",
       "      <td>0</td>\n",
       "      <td>0</td>\n",
       "      <td>...</td>\n",
       "      <td>0</td>\n",
       "      <td>0</td>\n",
       "      <td>0</td>\n",
       "      <td>0</td>\n",
       "      <td>0</td>\n",
       "      <td>0</td>\n",
       "      <td>0</td>\n",
       "      <td>0</td>\n",
       "      <td>0</td>\n",
       "      <td>0</td>\n",
       "    </tr>\n",
       "    <tr>\n",
       "      <th>2</th>\n",
       "      <td>c4ee0b28e195a3d515a5</td>\n",
       "      <td>0</td>\n",
       "      <td>219</td>\n",
       "      <td>29</td>\n",
       "      <td>0.142485</td>\n",
       "      <td>mention good book contain quotat great person ...</td>\n",
       "      <td>0</td>\n",
       "      <td>0</td>\n",
       "      <td>0</td>\n",
       "      <td>0</td>\n",
       "      <td>...</td>\n",
       "      <td>0</td>\n",
       "      <td>0</td>\n",
       "      <td>0</td>\n",
       "      <td>0</td>\n",
       "      <td>0</td>\n",
       "      <td>0</td>\n",
       "      <td>0</td>\n",
       "      <td>0</td>\n",
       "      <td>0</td>\n",
       "      <td>0</td>\n",
       "    </tr>\n",
       "    <tr>\n",
       "      <th>3</th>\n",
       "      <td>5a3f6882c1fc8319eff1</td>\n",
       "      <td>1</td>\n",
       "      <td>218</td>\n",
       "      <td>32</td>\n",
       "      <td>0.128538</td>\n",
       "      <td>didnt genghiz khan thee great khan abolish des...</td>\n",
       "      <td>0</td>\n",
       "      <td>0</td>\n",
       "      <td>0</td>\n",
       "      <td>0</td>\n",
       "      <td>...</td>\n",
       "      <td>0</td>\n",
       "      <td>0</td>\n",
       "      <td>0</td>\n",
       "      <td>0</td>\n",
       "      <td>0</td>\n",
       "      <td>0</td>\n",
       "      <td>0</td>\n",
       "      <td>0</td>\n",
       "      <td>0</td>\n",
       "      <td>0</td>\n",
       "    </tr>\n",
       "    <tr>\n",
       "      <th>4</th>\n",
       "      <td>6a71d18ec595137eb634</td>\n",
       "      <td>1</td>\n",
       "      <td>218</td>\n",
       "      <td>27</td>\n",
       "      <td>0.152341</td>\n",
       "      <td>india harbor mani scammer thiev con artist chi...</td>\n",
       "      <td>0</td>\n",
       "      <td>0</td>\n",
       "      <td>0</td>\n",
       "      <td>0</td>\n",
       "      <td>...</td>\n",
       "      <td>0</td>\n",
       "      <td>0</td>\n",
       "      <td>0</td>\n",
       "      <td>0</td>\n",
       "      <td>0</td>\n",
       "      <td>0</td>\n",
       "      <td>0</td>\n",
       "      <td>0</td>\n",
       "      <td>0</td>\n",
       "      <td>0</td>\n",
       "    </tr>\n",
       "  </tbody>\n",
       "</table>\n",
       "<p>5 rows × 506 columns</p>\n",
       "</div>"
      ],
      "text/plain": [
       "                    qid  target  question_length  total_words  \\\n",
       "0  4d2e2796dd1ced2c8e64       0              240           12   \n",
       "1  1729272298ed7f6cf789       0              221           26   \n",
       "2  c4ee0b28e195a3d515a5       0              219           29   \n",
       "3  5a3f6882c1fc8319eff1       1              218           32   \n",
       "4  6a71d18ec595137eb634       1              218           27   \n",
       "\n",
       "   avg_word_length_scaled                                     question_final  \\\n",
       "0                0.377358  prospect intern student httpwwwophammainquorac...   \n",
       "1                0.160377  could probe quantum world vacuum virtual parti...   \n",
       "2                0.142485  mention good book contain quotat great person ...   \n",
       "3                0.128538  didnt genghiz khan thee great khan abolish des...   \n",
       "4                0.152341  india harbor mani scammer thiev con artist chi...   \n",
       "\n",
       "   Counts_10 year ago  Counts_10 year experi  Counts_10 year old  \\\n",
       "0                   0                      0                   0   \n",
       "1                   0                      0                   0   \n",
       "2                   0                      0                   0   \n",
       "3                   0                      0                   0   \n",
       "4                   0                      0                   0   \n",
       "\n",
       "   Counts_11 year old  ...  Counts_year old kid  Counts_year old male  \\\n",
       "0                   0  ...                    0                     0   \n",
       "1                   0  ...                    0                     0   \n",
       "2                   0  ...                    0                     0   \n",
       "3                   0  ...                    0                     0   \n",
       "4                   0  ...                    0                     0   \n",
       "\n",
       "   Counts_year old man  Counts_year old son  Counts_year old start  \\\n",
       "0                    0                    0                      0   \n",
       "1                    0                    0                      0   \n",
       "2                    0                    0                      0   \n",
       "3                    0                    0                      0   \n",
       "4                    0                    0                      0   \n",
       "\n",
       "   Counts_year old want  Counts_year old woman  Counts_year question paper  \\\n",
       "0                     0                      0                           0   \n",
       "1                     0                      0                           0   \n",
       "2                     0                      0                           0   \n",
       "3                     0                      0                           0   \n",
       "4                     0                      0                           0   \n",
       "\n",
       "   Counts_year work experi  Counts_youtub channel learn  \n",
       "0                        0                            0  \n",
       "1                        0                            0  \n",
       "2                        0                            0  \n",
       "3                        0                            0  \n",
       "4                        0                            0  \n",
       "\n",
       "[5 rows x 506 columns]"
      ]
     },
     "execution_count": 22,
     "metadata": {},
     "output_type": "execute_result"
    }
   ],
   "source": [
    "df_final = pd.concat([df_numeric_scaled, cv_tri_df], axis=1, sort=False)\n",
    "df_final.head(5)"
   ]
  },
  {
   "cell_type": "markdown",
   "metadata": {},
   "source": [
    "### Split into testing and training datasets "
   ]
  },
  {
   "cell_type": "code",
   "execution_count": null,
   "metadata": {},
   "outputs": [],
   "source": [
    "from sklearn.model_selection import train_test_split\n",
    "\n",
    "train_df, test_df = train_test_split(df_final, test_size=0.2)"
   ]
  },
  {
   "cell_type": "code",
   "execution_count": null,
   "metadata": {},
   "outputs": [
    {
     "data": {
      "text/plain": [
       "(813355, 506)"
      ]
     },
     "execution_count": 24,
     "metadata": {},
     "output_type": "execute_result"
    }
   ],
   "source": [
    "train_df.shape"
   ]
  },
  {
   "cell_type": "code",
   "execution_count": null,
   "metadata": {},
   "outputs": [
    {
     "data": {
      "text/plain": [
       "(203339, 506)"
      ]
     },
     "execution_count": 25,
     "metadata": {},
     "output_type": "execute_result"
    }
   ],
   "source": [
    "test_df.shape"
   ]
  },
  {
   "cell_type": "code",
   "execution_count": null,
   "metadata": {},
   "outputs": [
    {
     "data": {
      "text/html": [
       "<div>\n",
       "<style scoped>\n",
       "    .dataframe tbody tr th:only-of-type {\n",
       "        vertical-align: middle;\n",
       "    }\n",
       "\n",
       "    .dataframe tbody tr th {\n",
       "        vertical-align: top;\n",
       "    }\n",
       "\n",
       "    .dataframe thead th {\n",
       "        text-align: right;\n",
       "    }\n",
       "</style>\n",
       "<table border=\"1\" class=\"dataframe\">\n",
       "  <thead>\n",
       "    <tr style=\"text-align: right;\">\n",
       "      <th></th>\n",
       "      <th>qid</th>\n",
       "      <th>target</th>\n",
       "      <th>question_length</th>\n",
       "      <th>total_words</th>\n",
       "      <th>avg_word_length_scaled</th>\n",
       "      <th>question_final</th>\n",
       "      <th>Counts_10 year ago</th>\n",
       "      <th>Counts_10 year experi</th>\n",
       "      <th>Counts_10 year old</th>\n",
       "      <th>Counts_11 year old</th>\n",
       "      <th>...</th>\n",
       "      <th>Counts_year old kid</th>\n",
       "      <th>Counts_year old male</th>\n",
       "      <th>Counts_year old man</th>\n",
       "      <th>Counts_year old son</th>\n",
       "      <th>Counts_year old start</th>\n",
       "      <th>Counts_year old want</th>\n",
       "      <th>Counts_year old woman</th>\n",
       "      <th>Counts_year question paper</th>\n",
       "      <th>Counts_year work experi</th>\n",
       "      <th>Counts_youtub channel learn</th>\n",
       "    </tr>\n",
       "  </thead>\n",
       "  <tbody>\n",
       "    <tr>\n",
       "      <th>584759</th>\n",
       "      <td>3f2dbbc68b33555caf0c</td>\n",
       "      <td>0</td>\n",
       "      <td>34</td>\n",
       "      <td>6</td>\n",
       "      <td>0.106918</td>\n",
       "      <td>much would cost build hotel africa</td>\n",
       "      <td>0</td>\n",
       "      <td>0</td>\n",
       "      <td>0</td>\n",
       "      <td>0</td>\n",
       "      <td>...</td>\n",
       "      <td>0</td>\n",
       "      <td>0</td>\n",
       "      <td>0</td>\n",
       "      <td>0</td>\n",
       "      <td>0</td>\n",
       "      <td>0</td>\n",
       "      <td>0</td>\n",
       "      <td>0</td>\n",
       "      <td>0</td>\n",
       "      <td>0</td>\n",
       "    </tr>\n",
       "    <tr>\n",
       "      <th>144717</th>\n",
       "      <td>c9f7a145bd340d0ae1c9</td>\n",
       "      <td>0</td>\n",
       "      <td>69</td>\n",
       "      <td>11</td>\n",
       "      <td>0.118353</td>\n",
       "      <td>eras entir hard drive dell inspiron recent mod...</td>\n",
       "      <td>0</td>\n",
       "      <td>0</td>\n",
       "      <td>0</td>\n",
       "      <td>0</td>\n",
       "      <td>...</td>\n",
       "      <td>0</td>\n",
       "      <td>0</td>\n",
       "      <td>0</td>\n",
       "      <td>0</td>\n",
       "      <td>0</td>\n",
       "      <td>0</td>\n",
       "      <td>0</td>\n",
       "      <td>0</td>\n",
       "      <td>0</td>\n",
       "      <td>0</td>\n",
       "    </tr>\n",
       "    <tr>\n",
       "      <th>65014</th>\n",
       "      <td>95123f8ecb5877b05b29</td>\n",
       "      <td>0</td>\n",
       "      <td>89</td>\n",
       "      <td>11</td>\n",
       "      <td>0.152659</td>\n",
       "      <td>tent end semest exam schedul uptu kurukshetra ...</td>\n",
       "      <td>0</td>\n",
       "      <td>0</td>\n",
       "      <td>0</td>\n",
       "      <td>0</td>\n",
       "      <td>...</td>\n",
       "      <td>0</td>\n",
       "      <td>0</td>\n",
       "      <td>0</td>\n",
       "      <td>0</td>\n",
       "      <td>0</td>\n",
       "      <td>0</td>\n",
       "      <td>0</td>\n",
       "      <td>0</td>\n",
       "      <td>0</td>\n",
       "      <td>0</td>\n",
       "    </tr>\n",
       "    <tr>\n",
       "      <th>992520</th>\n",
       "      <td>5de71fc3907f7c77a55b</td>\n",
       "      <td>0</td>\n",
       "      <td>13</td>\n",
       "      <td>3</td>\n",
       "      <td>0.081761</td>\n",
       "      <td>kid learn fun</td>\n",
       "      <td>0</td>\n",
       "      <td>0</td>\n",
       "      <td>0</td>\n",
       "      <td>0</td>\n",
       "      <td>...</td>\n",
       "      <td>0</td>\n",
       "      <td>0</td>\n",
       "      <td>0</td>\n",
       "      <td>0</td>\n",
       "      <td>0</td>\n",
       "      <td>0</td>\n",
       "      <td>0</td>\n",
       "      <td>0</td>\n",
       "      <td>0</td>\n",
       "      <td>0</td>\n",
       "    </tr>\n",
       "    <tr>\n",
       "      <th>70229</th>\n",
       "      <td>53a6998dec1e1d5b0fb0</td>\n",
       "      <td>0</td>\n",
       "      <td>87</td>\n",
       "      <td>12</td>\n",
       "      <td>0.136792</td>\n",
       "      <td>outstand balanc umass us resid credit histori ...</td>\n",
       "      <td>0</td>\n",
       "      <td>0</td>\n",
       "      <td>0</td>\n",
       "      <td>0</td>\n",
       "      <td>...</td>\n",
       "      <td>0</td>\n",
       "      <td>0</td>\n",
       "      <td>0</td>\n",
       "      <td>0</td>\n",
       "      <td>0</td>\n",
       "      <td>0</td>\n",
       "      <td>0</td>\n",
       "      <td>0</td>\n",
       "      <td>0</td>\n",
       "      <td>0</td>\n",
       "    </tr>\n",
       "  </tbody>\n",
       "</table>\n",
       "<p>5 rows × 506 columns</p>\n",
       "</div>"
      ],
      "text/plain": [
       "                         qid  target  question_length  total_words  \\\n",
       "584759  3f2dbbc68b33555caf0c       0               34            6   \n",
       "144717  c9f7a145bd340d0ae1c9       0               69           11   \n",
       "65014   95123f8ecb5877b05b29       0               89           11   \n",
       "992520  5de71fc3907f7c77a55b       0               13            3   \n",
       "70229   53a6998dec1e1d5b0fb0       0               87           12   \n",
       "\n",
       "        avg_word_length_scaled  \\\n",
       "584759                0.106918   \n",
       "144717                0.118353   \n",
       "65014                 0.152659   \n",
       "992520                0.081761   \n",
       "70229                 0.136792   \n",
       "\n",
       "                                           question_final  Counts_10 year ago  \\\n",
       "584759                 much would cost build hotel africa                   0   \n",
       "144717  eras entir hard drive dell inspiron recent mod...                   0   \n",
       "65014   tent end semest exam schedul uptu kurukshetra ...                   0   \n",
       "992520                                      kid learn fun                   0   \n",
       "70229   outstand balanc umass us resid credit histori ...                   0   \n",
       "\n",
       "        Counts_10 year experi  Counts_10 year old  Counts_11 year old  ...  \\\n",
       "584759                      0                   0                   0  ...   \n",
       "144717                      0                   0                   0  ...   \n",
       "65014                       0                   0                   0  ...   \n",
       "992520                      0                   0                   0  ...   \n",
       "70229                       0                   0                   0  ...   \n",
       "\n",
       "        Counts_year old kid  Counts_year old male  Counts_year old man  \\\n",
       "584759                    0                     0                    0   \n",
       "144717                    0                     0                    0   \n",
       "65014                     0                     0                    0   \n",
       "992520                    0                     0                    0   \n",
       "70229                     0                     0                    0   \n",
       "\n",
       "        Counts_year old son  Counts_year old start  Counts_year old want  \\\n",
       "584759                    0                      0                     0   \n",
       "144717                    0                      0                     0   \n",
       "65014                     0                      0                     0   \n",
       "992520                    0                      0                     0   \n",
       "70229                     0                      0                     0   \n",
       "\n",
       "        Counts_year old woman  Counts_year question paper  \\\n",
       "584759                      0                           0   \n",
       "144717                      0                           0   \n",
       "65014                       0                           0   \n",
       "992520                      0                           0   \n",
       "70229                       0                           0   \n",
       "\n",
       "        Counts_year work experi  Counts_youtub channel learn  \n",
       "584759                        0                            0  \n",
       "144717                        0                            0  \n",
       "65014                         0                            0  \n",
       "992520                        0                            0  \n",
       "70229                         0                            0  \n",
       "\n",
       "[5 rows x 506 columns]"
      ]
     },
     "execution_count": 26,
     "metadata": {},
     "output_type": "execute_result"
    }
   ],
   "source": [
    "test_df.head(5)"
   ]
  },
  {
   "cell_type": "code",
   "execution_count": null,
   "metadata": {},
   "outputs": [],
   "source": [
    "test_df.to_csv(\"data/FeatureEngineering_Test.csv\")"
   ]
  },
  {
   "cell_type": "code",
   "execution_count": null,
   "metadata": {},
   "outputs": [],
   "source": [
    "train_df.to_csv(\"data/FeatureEngineering_Train.csv\")"
   ]
  },
  {
   "cell_type": "code",
   "execution_count": null,
   "metadata": {},
   "outputs": [],
   "source": []
  }
 ],
 "metadata": {
  "kernelspec": {
   "display_name": "Python 3",
   "language": "python",
   "name": "python3"
  },
  "language_info": {
   "codemirror_mode": {
    "name": "ipython",
    "version": 3
   },
   "file_extension": ".py",
   "mimetype": "text/x-python",
   "name": "python",
   "nbconvert_exporter": "python",
   "pygments_lexer": "ipython3",
   "version": "3.6.8"
  }
 },
 "nbformat": 4,
 "nbformat_minor": 2
}
