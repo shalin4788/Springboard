{
 "cells": [
  {
   "cell_type": "markdown",
   "metadata": {},
   "source": [
    " ## Pre-processing and Training Data Development"
   ]
  },
  {
   "cell_type": "markdown",
   "metadata": {},
   "source": [
    "- Goal is to create a cleaned development dataset you can use to complete the modeling step of this project. "
   ]
  },
  {
   "cell_type": "code",
   "execution_count": 1,
   "metadata": {},
   "outputs": [
    {
     "name": "stderr",
     "output_type": "stream",
     "text": [
      "\n",
      "Bad key \"text.kerning_factor\" on line 4 in\n",
      "C:\\Users\\gosal\\Anaconda3_2\\lib\\site-packages\\matplotlib\\mpl-data\\stylelib\\_classic_test_patch.mplstyle.\n",
      "You probably need to get an updated matplotlibrc file from\n",
      "http://github.com/matplotlib/matplotlib/blob/master/matplotlibrc.template\n",
      "or from the matplotlib source distribution\n"
     ]
    }
   ],
   "source": [
    "# Import libraries\n",
    "import pandas as pd\n",
    "pd.options.mode.chained_assignment = None  # default='warn'\n",
    "\n",
    "import os\n",
    "from sklearn.preprocessing import MaxAbsScaler\n",
    "import matplotlib.pyplot as plt\n",
    "\n",
    "#suppress future warnings\n",
    "import warnings\n",
    "warnings.simplefilter(action='ignore', category=FutureWarning)\n",
    "warnings.simplefilter(action='ignore', category=UserWarning)\n",
    "\n",
    "# Show plots inline\n",
    "%matplotlib inline"
   ]
  },
  {
   "cell_type": "code",
   "execution_count": 2,
   "metadata": {},
   "outputs": [
    {
     "data": {
      "text/plain": [
       "'C:\\\\Shalin\\\\Springboard bootcamp\\\\projects\\\\Capstone project 2\\\\Capstone Two'"
      ]
     },
     "execution_count": 2,
     "metadata": {},
     "output_type": "execute_result"
    }
   ],
   "source": [
    "os.getcwd()"
   ]
  },
  {
   "cell_type": "code",
   "execution_count": 3,
   "metadata": {},
   "outputs": [],
   "source": [
    "df = pd.read_csv(\"data/Quora_cleaned.csv\")"
   ]
  },
  {
   "cell_type": "code",
   "execution_count": 4,
   "metadata": {},
   "outputs": [
    {
     "data": {
      "text/html": [
       "<div>\n",
       "<style scoped>\n",
       "    .dataframe tbody tr th:only-of-type {\n",
       "        vertical-align: middle;\n",
       "    }\n",
       "\n",
       "    .dataframe tbody tr th {\n",
       "        vertical-align: top;\n",
       "    }\n",
       "\n",
       "    .dataframe thead th {\n",
       "        text-align: right;\n",
       "    }\n",
       "</style>\n",
       "<table border=\"1\" class=\"dataframe\">\n",
       "  <thead>\n",
       "    <tr style=\"text-align: right;\">\n",
       "      <th></th>\n",
       "      <th>Unnamed: 0</th>\n",
       "      <th>qid</th>\n",
       "      <th>question_stemmed</th>\n",
       "      <th>target</th>\n",
       "      <th>question_length</th>\n",
       "      <th>total_words</th>\n",
       "    </tr>\n",
       "  </thead>\n",
       "  <tbody>\n",
       "    <tr>\n",
       "      <th>0</th>\n",
       "      <td>393959</td>\n",
       "      <td>4d2e2796dd1ced2c8e64</td>\n",
       "      <td>prospects international students httpwwwophamm...</td>\n",
       "      <td>0</td>\n",
       "      <td>240</td>\n",
       "      <td>12</td>\n",
       "    </tr>\n",
       "    <tr>\n",
       "      <th>1</th>\n",
       "      <td>118298</td>\n",
       "      <td>1729272298ed7f6cf789</td>\n",
       "      <td>could probing quantum world vacuum virtual par...</td>\n",
       "      <td>0</td>\n",
       "      <td>221</td>\n",
       "      <td>26</td>\n",
       "    </tr>\n",
       "    <tr>\n",
       "      <th>2</th>\n",
       "      <td>1004888</td>\n",
       "      <td>c4ee0b28e195a3d515a5</td>\n",
       "      <td>mention good book containing quotations great ...</td>\n",
       "      <td>0</td>\n",
       "      <td>219</td>\n",
       "      <td>29</td>\n",
       "    </tr>\n",
       "    <tr>\n",
       "      <th>3</th>\n",
       "      <td>460851</td>\n",
       "      <td>5a3f6882c1fc8319eff1</td>\n",
       "      <td>didnt genghiz khan thee great khan abolish des...</td>\n",
       "      <td>1</td>\n",
       "      <td>218</td>\n",
       "      <td>32</td>\n",
       "    </tr>\n",
       "    <tr>\n",
       "      <th>4</th>\n",
       "      <td>543322</td>\n",
       "      <td>6a71d18ec595137eb634</td>\n",
       "      <td>india harbor many scammers thieves con artists...</td>\n",
       "      <td>1</td>\n",
       "      <td>218</td>\n",
       "      <td>27</td>\n",
       "    </tr>\n",
       "  </tbody>\n",
       "</table>\n",
       "</div>"
      ],
      "text/plain": [
       "   Unnamed: 0                   qid  \\\n",
       "0      393959  4d2e2796dd1ced2c8e64   \n",
       "1      118298  1729272298ed7f6cf789   \n",
       "2     1004888  c4ee0b28e195a3d515a5   \n",
       "3      460851  5a3f6882c1fc8319eff1   \n",
       "4      543322  6a71d18ec595137eb634   \n",
       "\n",
       "                                    question_stemmed  target  question_length  \\\n",
       "0  prospects international students httpwwwophamm...       0              240   \n",
       "1  could probing quantum world vacuum virtual par...       0              221   \n",
       "2  mention good book containing quotations great ...       0              219   \n",
       "3  didnt genghiz khan thee great khan abolish des...       1              218   \n",
       "4  india harbor many scammers thieves con artists...       1              218   \n",
       "\n",
       "   total_words  \n",
       "0           12  \n",
       "1           26  \n",
       "2           29  \n",
       "3           32  \n",
       "4           27  "
      ]
     },
     "execution_count": 4,
     "metadata": {},
     "output_type": "execute_result"
    }
   ],
   "source": [
    "df.head(5)"
   ]
  },
  {
   "cell_type": "code",
   "execution_count": 5,
   "metadata": {},
   "outputs": [
    {
     "name": "stdout",
     "output_type": "stream",
     "text": [
      "<class 'pandas.core.frame.DataFrame'>\n",
      "RangeIndex: 1016694 entries, 0 to 1016693\n",
      "Data columns (total 6 columns):\n",
      " #   Column            Non-Null Count    Dtype \n",
      "---  ------            --------------    ----- \n",
      " 0   Unnamed: 0        1016694 non-null  int64 \n",
      " 1   qid               1016694 non-null  object\n",
      " 2   question_stemmed  1016694 non-null  object\n",
      " 3   target            1016694 non-null  int64 \n",
      " 4   question_length   1016694 non-null  int64 \n",
      " 5   total_words       1016694 non-null  int64 \n",
      "dtypes: int64(4), object(2)\n",
      "memory usage: 46.5+ MB\n"
     ]
    }
   ],
   "source": [
    "df.info()"
   ]
  },
  {
   "cell_type": "code",
   "execution_count": 6,
   "metadata": {},
   "outputs": [
    {
     "data": {
      "text/html": [
       "<div>\n",
       "<style scoped>\n",
       "    .dataframe tbody tr th:only-of-type {\n",
       "        vertical-align: middle;\n",
       "    }\n",
       "\n",
       "    .dataframe tbody tr th {\n",
       "        vertical-align: top;\n",
       "    }\n",
       "\n",
       "    .dataframe thead th {\n",
       "        text-align: right;\n",
       "    }\n",
       "</style>\n",
       "<table border=\"1\" class=\"dataframe\">\n",
       "  <thead>\n",
       "    <tr style=\"text-align: right;\">\n",
       "      <th></th>\n",
       "      <th>qid</th>\n",
       "      <th>question_stemmed</th>\n",
       "      <th>target</th>\n",
       "      <th>question_length</th>\n",
       "      <th>total_words</th>\n",
       "    </tr>\n",
       "  </thead>\n",
       "  <tbody>\n",
       "    <tr>\n",
       "      <th>0</th>\n",
       "      <td>4d2e2796dd1ced2c8e64</td>\n",
       "      <td>prospects international students httpwwwophamm...</td>\n",
       "      <td>0</td>\n",
       "      <td>240</td>\n",
       "      <td>12</td>\n",
       "    </tr>\n",
       "    <tr>\n",
       "      <th>1</th>\n",
       "      <td>1729272298ed7f6cf789</td>\n",
       "      <td>could probing quantum world vacuum virtual par...</td>\n",
       "      <td>0</td>\n",
       "      <td>221</td>\n",
       "      <td>26</td>\n",
       "    </tr>\n",
       "  </tbody>\n",
       "</table>\n",
       "</div>"
      ],
      "text/plain": [
       "                    qid                                   question_stemmed  \\\n",
       "0  4d2e2796dd1ced2c8e64  prospects international students httpwwwophamm...   \n",
       "1  1729272298ed7f6cf789  could probing quantum world vacuum virtual par...   \n",
       "\n",
       "   target  question_length  total_words  \n",
       "0       0              240           12  \n",
       "1       0              221           26  "
      ]
     },
     "execution_count": 6,
     "metadata": {},
     "output_type": "execute_result"
    }
   ],
   "source": [
    "# Drop index columns\n",
    "df.drop('Unnamed: 0',axis=1, inplace=True)\n",
    "df.head(2)"
   ]
  },
  {
   "cell_type": "code",
   "execution_count": 7,
   "metadata": {},
   "outputs": [
    {
     "name": "stdout",
     "output_type": "stream",
     "text": [
      "qid                 object\n",
      "question_stemmed    object\n",
      "target               int64\n",
      "question_length      int64\n",
      "total_words          int64\n",
      "dtype: object\n"
     ]
    }
   ],
   "source": [
    "# Print the data type of each column\n",
    "print(df.dtypes)"
   ]
  },
  {
   "cell_type": "markdown",
   "metadata": {},
   "source": [
    "### Standardize the magnitude of numeric features using a scaler"
   ]
  },
  {
   "cell_type": "code",
   "execution_count": 8,
   "metadata": {},
   "outputs": [
    {
     "name": "stdout",
     "output_type": "stream",
     "text": [
      "                                    question_stemmed  question_length  \\\n",
      "0  prospects international students httpwwwophamm...              240   \n",
      "1  could probing quantum world vacuum virtual par...              221   \n",
      "2  mention good book containing quotations great ...              219   \n",
      "3  didnt genghiz khan thee great khan abolish des...              218   \n",
      "4  india harbor many scammers thieves con artists...              218   \n",
      "\n",
      "   total_words  avg_word_length  \n",
      "0           12        20.000000  \n",
      "1           26         8.500000  \n",
      "2           29         7.551724  \n",
      "3           32         6.812500  \n",
      "4           27         8.074074  \n"
     ]
    }
   ],
   "source": [
    "# Find the average length of word\n",
    "df['avg_word_length'] = df['question_length'] / df['total_words']\n",
    "\n",
    "# Print the first 5 rows of these columns\n",
    "print(df[['question_stemmed', 'question_length', 'total_words', 'avg_word_length']].head(5))"
   ]
  },
  {
   "cell_type": "code",
   "execution_count": 9,
   "metadata": {},
   "outputs": [
    {
     "name": "stdout",
     "output_type": "stream",
     "text": [
      "Index(['target', 'question_length', 'total_words', 'avg_word_length'], dtype='object')\n"
     ]
    }
   ],
   "source": [
    "# Create subset of only the numeric columns\n",
    "numeric_df = df.select_dtypes(include=['int64','float'])\n",
    "print(numeric_df.columns)"
   ]
  },
  {
   "cell_type": "code",
   "execution_count": 10,
   "metadata": {},
   "outputs": [
    {
     "name": "stdout",
     "output_type": "stream",
     "text": [
      "Index(['qid', 'question_stemmed'], dtype='object')\n"
     ]
    }
   ],
   "source": [
    "# Create subset of only the categorical variable columns\n",
    "categorical_df = df.select_dtypes(include=['object'])\n",
    "print(categorical_df.columns)"
   ]
  },
  {
   "cell_type": "code",
   "execution_count": 11,
   "metadata": {},
   "outputs": [
    {
     "data": {
      "text/plain": [
       "count    1.016694e+06\n",
       "mean     6.680972e+00\n",
       "std      1.129022e+00\n",
       "min      1.933333e+00\n",
       "25%      6.000000e+00\n",
       "50%      6.615385e+00\n",
       "75%      7.375000e+00\n",
       "max      5.300000e+01\n",
       "Name: avg_word_length, dtype: float64"
      ]
     },
     "execution_count": 11,
     "metadata": {},
     "output_type": "execute_result"
    }
   ],
   "source": [
    "numeric_df['avg_word_length'].describe()"
   ]
  },
  {
   "cell_type": "code",
   "execution_count": 12,
   "metadata": {},
   "outputs": [
    {
     "name": "stdout",
     "output_type": "stream",
     "text": [
      "   avg_word_length_scaled  avg_word_length\n",
      "0                0.377358        20.000000\n",
      "1                0.160377         8.500000\n",
      "2                0.142485         7.551724\n",
      "3                0.128538         6.812500\n",
      "4                0.152341         8.074074\n"
     ]
    }
   ],
   "source": [
    "# Instantiate StandardScaler to generate the absolute values are mapped in the range [0, 1].\n",
    "# This is optional step for our dataset since there are not many outliers, however, this condenses data even better\n",
    "\n",
    "scaler = MaxAbsScaler()\n",
    "\n",
    "# Fit SS_scaler to the data\n",
    "scaler.fit(numeric_df[['avg_word_length']])\n",
    "\n",
    "# Transform the data using the fitted scaler\n",
    "numeric_df['avg_word_length_scaled'] = scaler.transform(numeric_df[['avg_word_length']])\n",
    "\n",
    "# Compare the origional and transformed column\n",
    "print(numeric_df[['avg_word_length_scaled', 'avg_word_length']].head(5))"
   ]
  },
  {
   "cell_type": "code",
   "execution_count": 13,
   "metadata": {
    "scrolled": false
   },
   "outputs": [
    {
     "data": {
      "image/png": "[encoded data removed]",
      "text/plain": [
       "<Figure size 720x360 with 2 Axes>"
      ]
     },
     "metadata": {
      "needs_background": "light"
     },
     "output_type": "display_data"
    }
   ],
   "source": [
    "# Create a histogram for the 2 \n",
    "plt.rcParams[\"figure.figsize\"] = (10,5)\n",
    "\n",
    "numeric_df.hist(['avg_word_length','avg_word_length_scaled'])\n",
    "plt.show()"
   ]
  },
  {
   "cell_type": "code",
   "execution_count": 14,
   "metadata": {},
   "outputs": [
    {
     "data": {
      "text/html": [
       "<div>\n",
       "<style scoped>\n",
       "    .dataframe tbody tr th:only-of-type {\n",
       "        vertical-align: middle;\n",
       "    }\n",
       "\n",
       "    .dataframe tbody tr th {\n",
       "        vertical-align: top;\n",
       "    }\n",
       "\n",
       "    .dataframe thead th {\n",
       "        text-align: right;\n",
       "    }\n",
       "</style>\n",
       "<table border=\"1\" class=\"dataframe\">\n",
       "  <thead>\n",
       "    <tr style=\"text-align: right;\">\n",
       "      <th></th>\n",
       "      <th>target</th>\n",
       "      <th>question_length</th>\n",
       "      <th>total_words</th>\n",
       "      <th>avg_word_length_scaled</th>\n",
       "    </tr>\n",
       "  </thead>\n",
       "  <tbody>\n",
       "    <tr>\n",
       "      <th>0</th>\n",
       "      <td>0</td>\n",
       "      <td>240</td>\n",
       "      <td>12</td>\n",
       "      <td>0.377358</td>\n",
       "    </tr>\n",
       "    <tr>\n",
       "      <th>1</th>\n",
       "      <td>0</td>\n",
       "      <td>221</td>\n",
       "      <td>26</td>\n",
       "      <td>0.160377</td>\n",
       "    </tr>\n",
       "    <tr>\n",
       "      <th>2</th>\n",
       "      <td>0</td>\n",
       "      <td>219</td>\n",
       "      <td>29</td>\n",
       "      <td>0.142485</td>\n",
       "    </tr>\n",
       "    <tr>\n",
       "      <th>3</th>\n",
       "      <td>1</td>\n",
       "      <td>218</td>\n",
       "      <td>32</td>\n",
       "      <td>0.128538</td>\n",
       "    </tr>\n",
       "    <tr>\n",
       "      <th>4</th>\n",
       "      <td>1</td>\n",
       "      <td>218</td>\n",
       "      <td>27</td>\n",
       "      <td>0.152341</td>\n",
       "    </tr>\n",
       "  </tbody>\n",
       "</table>\n",
       "</div>"
      ],
      "text/plain": [
       "   target  question_length  total_words  avg_word_length_scaled\n",
       "0       0              240           12                0.377358\n",
       "1       0              221           26                0.160377\n",
       "2       0              219           29                0.142485\n",
       "3       1              218           32                0.128538\n",
       "4       1              218           27                0.152341"
      ]
     },
     "execution_count": 14,
     "metadata": {},
     "output_type": "execute_result"
    }
   ],
   "source": [
    "# Drop non scaled column\n",
    "numeric_df.drop(columns='avg_word_length', inplace=True)\n",
    "numeric_df.head(5)"
   ]
  },
  {
   "cell_type": "code",
   "execution_count": 15,
   "metadata": {},
   "outputs": [
    {
     "data": {
      "text/plain": [
       "count    1.016694e+06\n",
       "mean     1.260561e-01\n",
       "std      2.130230e-02\n",
       "min      3.647799e-02\n",
       "25%      1.132075e-01\n",
       "50%      1.248186e-01\n",
       "75%      1.391509e-01\n",
       "max      1.000000e+00\n",
       "Name: avg_word_length_scaled, dtype: float64"
      ]
     },
     "execution_count": 15,
     "metadata": {},
     "output_type": "execute_result"
    }
   ],
   "source": [
    "numeric_df['avg_word_length_scaled'].describe()"
   ]
  },
  {
   "cell_type": "code",
   "execution_count": 16,
   "metadata": {},
   "outputs": [
    {
     "data": {
      "text/html": [
       "<div>\n",
       "<style scoped>\n",
       "    .dataframe tbody tr th:only-of-type {\n",
       "        vertical-align: middle;\n",
       "    }\n",
       "\n",
       "    .dataframe tbody tr th {\n",
       "        vertical-align: top;\n",
       "    }\n",
       "\n",
       "    .dataframe thead th {\n",
       "        text-align: right;\n",
       "    }\n",
       "</style>\n",
       "<table border=\"1\" class=\"dataframe\">\n",
       "  <thead>\n",
       "    <tr style=\"text-align: right;\">\n",
       "      <th></th>\n",
       "      <th>qid</th>\n",
       "      <th>question_stemmed</th>\n",
       "      <th>target</th>\n",
       "      <th>question_length</th>\n",
       "      <th>total_words</th>\n",
       "      <th>avg_word_length_scaled</th>\n",
       "    </tr>\n",
       "  </thead>\n",
       "  <tbody>\n",
       "    <tr>\n",
       "      <th>0</th>\n",
       "      <td>4d2e2796dd1ced2c8e64</td>\n",
       "      <td>prospects international students httpwwwophamm...</td>\n",
       "      <td>0</td>\n",
       "      <td>240</td>\n",
       "      <td>12</td>\n",
       "      <td>0.377358</td>\n",
       "    </tr>\n",
       "    <tr>\n",
       "      <th>1</th>\n",
       "      <td>1729272298ed7f6cf789</td>\n",
       "      <td>could probing quantum world vacuum virtual par...</td>\n",
       "      <td>0</td>\n",
       "      <td>221</td>\n",
       "      <td>26</td>\n",
       "      <td>0.160377</td>\n",
       "    </tr>\n",
       "    <tr>\n",
       "      <th>2</th>\n",
       "      <td>c4ee0b28e195a3d515a5</td>\n",
       "      <td>mention good book containing quotations great ...</td>\n",
       "      <td>0</td>\n",
       "      <td>219</td>\n",
       "      <td>29</td>\n",
       "      <td>0.142485</td>\n",
       "    </tr>\n",
       "    <tr>\n",
       "      <th>3</th>\n",
       "      <td>5a3f6882c1fc8319eff1</td>\n",
       "      <td>didnt genghiz khan thee great khan abolish des...</td>\n",
       "      <td>1</td>\n",
       "      <td>218</td>\n",
       "      <td>32</td>\n",
       "      <td>0.128538</td>\n",
       "    </tr>\n",
       "    <tr>\n",
       "      <th>4</th>\n",
       "      <td>6a71d18ec595137eb634</td>\n",
       "      <td>india harbor many scammers thieves con artists...</td>\n",
       "      <td>1</td>\n",
       "      <td>218</td>\n",
       "      <td>27</td>\n",
       "      <td>0.152341</td>\n",
       "    </tr>\n",
       "  </tbody>\n",
       "</table>\n",
       "</div>"
      ],
      "text/plain": [
       "                    qid                                   question_stemmed  \\\n",
       "0  4d2e2796dd1ced2c8e64  prospects international students httpwwwophamm...   \n",
       "1  1729272298ed7f6cf789  could probing quantum world vacuum virtual par...   \n",
       "2  c4ee0b28e195a3d515a5  mention good book containing quotations great ...   \n",
       "3  5a3f6882c1fc8319eff1  didnt genghiz khan thee great khan abolish des...   \n",
       "4  6a71d18ec595137eb634  india harbor many scammers thieves con artists...   \n",
       "\n",
       "   target  question_length  total_words  avg_word_length_scaled  \n",
       "0       0              240           12                0.377358  \n",
       "1       0              221           26                0.160377  \n",
       "2       0              219           29                0.142485  \n",
       "3       1              218           32                0.128538  \n",
       "4       1              218           27                0.152341  "
      ]
     },
     "execution_count": 16,
     "metadata": {},
     "output_type": "execute_result"
    }
   ],
   "source": [
    "df_numeric_scaled = pd.concat([categorical_df, numeric_df], axis=1, sort=False)\n",
    "df_numeric_scaled.head(5)"
   ]
  },
  {
   "cell_type": "code",
   "execution_count": 17,
   "metadata": {
    "scrolled": true
   },
   "outputs": [
    {
     "data": {
      "text/html": [
       "<div>\n",
       "<style scoped>\n",
       "    .dataframe tbody tr th:only-of-type {\n",
       "        vertical-align: middle;\n",
       "    }\n",
       "\n",
       "    .dataframe tbody tr th {\n",
       "        vertical-align: top;\n",
       "    }\n",
       "\n",
       "    .dataframe thead th {\n",
       "        text-align: right;\n",
       "    }\n",
       "</style>\n",
       "<table border=\"1\" class=\"dataframe\">\n",
       "  <thead>\n",
       "    <tr style=\"text-align: right;\">\n",
       "      <th></th>\n",
       "      <th>qid</th>\n",
       "      <th>target</th>\n",
       "      <th>question_length</th>\n",
       "      <th>total_words</th>\n",
       "      <th>avg_word_length_scaled</th>\n",
       "      <th>question_final</th>\n",
       "    </tr>\n",
       "  </thead>\n",
       "  <tbody>\n",
       "    <tr>\n",
       "      <th>0</th>\n",
       "      <td>4d2e2796dd1ced2c8e64</td>\n",
       "      <td>0</td>\n",
       "      <td>240</td>\n",
       "      <td>12</td>\n",
       "      <td>0.377358</td>\n",
       "      <td>prospects international students httpwwwophamm...</td>\n",
       "    </tr>\n",
       "    <tr>\n",
       "      <th>1</th>\n",
       "      <td>1729272298ed7f6cf789</td>\n",
       "      <td>0</td>\n",
       "      <td>221</td>\n",
       "      <td>26</td>\n",
       "      <td>0.160377</td>\n",
       "      <td>could probing quantum world vacuum virtual par...</td>\n",
       "    </tr>\n",
       "  </tbody>\n",
       "</table>\n",
       "</div>"
      ],
      "text/plain": [
       "                    qid  target  question_length  total_words  \\\n",
       "0  4d2e2796dd1ced2c8e64       0              240           12   \n",
       "1  1729272298ed7f6cf789       0              221           26   \n",
       "\n",
       "   avg_word_length_scaled                                     question_final  \n",
       "0                0.377358  prospects international students httpwwwophamm...  \n",
       "1                0.160377  could probing quantum world vacuum virtual par...  "
      ]
     },
     "execution_count": 17,
     "metadata": {},
     "output_type": "execute_result"
    }
   ],
   "source": [
    "# Perform stemming again to ensure all words are properly stemmed. \n",
    "from nltk.stem import PorterStemmer\n",
    "import stem\n",
    "\n",
    "stemmer=PorterStemmer()\n",
    "\n",
    "df_numeric_scaled['question_final'] = df_numeric_scaled['question_stemmed'].apply(lambda x: stemmer.stem(x)) # Stem every word.\n",
    "df_numeric_scaled = df_numeric_scaled.drop(columns=['question_stemmed']) # Get rid of the unstemmed column.\n",
    "df_numeric_scaled.head(2) # Print dataframe."
   ]
  },
  {
   "cell_type": "code",
   "execution_count": 18,
   "metadata": {},
   "outputs": [
    {
     "name": "stdout",
     "output_type": "stream",
     "text": [
      "<class 'pandas.core.frame.DataFrame'>\n",
      "RangeIndex: 1016694 entries, 0 to 1016693\n",
      "Data columns (total 6 columns):\n",
      " #   Column                  Non-Null Count    Dtype  \n",
      "---  ------                  --------------    -----  \n",
      " 0   qid                     1016694 non-null  object \n",
      " 1   target                  1016694 non-null  int64  \n",
      " 2   question_length         1016694 non-null  int64  \n",
      " 3   total_words             1016694 non-null  int64  \n",
      " 4   avg_word_length_scaled  1016694 non-null  float64\n",
      " 5   question_final          1016694 non-null  object \n",
      "dtypes: float64(1), int64(3), object(2)\n",
      "memory usage: 46.5+ MB\n"
     ]
    }
   ],
   "source": [
    "df_numeric_scaled.info()"
   ]
  },
  {
   "cell_type": "markdown",
   "metadata": {},
   "source": [
    "### Perform Count vectorization on categorical feature to fit and transform data"
   ]
  },
  {
   "cell_type": "code",
   "execution_count": null,
   "metadata": {},
   "outputs": [
    {
     "name": "stdout",
     "output_type": "stream",
     "text": [
      "['10 year old', '10 years ago', '10 years experience', '11 year old', '12 year old', '12 years old', '13 year old', '13 years old', '14 year old', '14 years old', '15 year old', '15 years old', '16 year old', '16 years old', '17 year old', '17 years old', '18 year old', '18 years old', '19 year old', '19 years old', '20 year old', '20 years old', '2018 movie greenlit', '2018 world cup', '21 year old', '21 years old', '22 year old', '22 years old', '23 year old', '23 years old', '24 year old', '25 year old', '25 years old', '26 year old', '27 year old', '30 year old', '30 years old', '40 year old', '85 state quota', 'academic pressure workload', 'acting style lik', 'affect way read', 'american civil war', 'american football play', 'amity university noida', 'android app develop', 'answer question quora', 'answer questions quora', 'answering questions quora', 'apj abdul kalam', 'apple cider vinegar', 'ask question quora', 'ask questions quora', 'ask stupid questions', 'asset help improve', 'attack north korea', 'australia new zealand', 'avengers infinity war', 'backstory movie got', 'barack hussein obama', 'best android app', 'best book learn', 'best book read', 'best books learn', 'best books read', 'best career options', 'best coaching center', 'best coaching centre', 'best coaching institute', 'best colleges india', 'best digital marketing', 'best free online', 'best online coaching', 'best place buy', 'best place learn', 'best place live', 'best place study', 'best place visit', 'best places hike', 'best places visit', 'best possible way', 'best programming language', 'best resources learn', 'best site download', 'best site learn', 'best social media', 'best student organizations', 'best things weekends', 'best time visit', 'best training institute', 'best way approach', 'best way ask', 'best way build', 'best way clean', 'best way cook', 'best way create', 'best way deal', 'best way earn', 'best way handle', 'best way help', 'best way improve', 'best way increase', 'best way invest', 'best way learn', 'best way lose', 'best way make', 'best way market', 'best way prepare', 'best way prevent', 'best way promote', 'best way reach', 'best way remove', 'best way rid', 'best way sell', 'best way spend', 'best way start', 'best way stop', 'best way study', 'best way teach', 'best way tell', 'best way travel', 'best way treat', 'best way use', 'best way write', 'best ways clean', 'best ways disassemble', 'best ways learn', 'best ways make', 'best ways remove', 'best youtube channel', 'best youtube channels', 'bhk flats rent', 'big bang theori', 'big bang theory', 'bilateral diplomatic foreign', 'birth control pills', 'black lives matter', 'borderline personality disord', 'borderline personality disorder', 'cbse board exam', 'cbse class 10', 'cbse class 12', 'cbse improvement exam', 'chances getting job', 'characters change book', 'characters change novel', 'china north korea', 'chinese people think', 'civil service exam', 'civil services exam', 'class 10 board', 'class 10 cbse', 'class 11 12', 'class 12 board', 'class 12 cbse', 'companies like google', 'company provides best', 'competitive strategically meet', 'computer science degree', 'computer science engin', 'computer science engineering', 'computer science stud', 'computer science student', 'conditions average household', 'consider reading book', 'consideration deciding location', 'consideration writing biography', 'controversial events mentioned', 'convince parents let', 'convolutional neural network', 'coolest work summ', 'corporate culture like', 'cost bhk flats', 'countries like india', 'country like india', 'data structures algorithms', 'day day lif', 'definitely visiting vac', 'degree computer science', 'demographic factors influence', 'devices used book', 'devices used novel', 'devices used poem', 'diplomatic foreign relations', 'distinguishes writing style', 'doesnt want relationship', 'donald trump president', 'dont believe god', 'dont feel like', 'download solution manual', 'download test bank', 'dragon ball super', 'earn money onlin', 'earn money online', 'electronics communication engin', 'engineering colleges india', 'engineering computer science', 'experience affect way', 'external hard drive', 'factors affect weather', 'factors influence crime', 'factors influence weather', 'faster speed light', 'feel like dont', 'feel like im', 'fifa world cup', 'final year project', 'flats rent sector', 'foreign relations pakistan', 'francisco bay area', 'game thrones season', 'going quora world', 'good analysis book', 'good analysis novel', 'good analysis poem', 'good bad neighborhoods', 'good books read', 'good dishes serve', 'good hotels shortterm', 'good places eat', 'good recipes cook', 'good thing bad', 'good time buy', 'good way learn', 'gordon miller think', 'government medical college', 'grades high school', 'greenlit whats backstory', 'gun control advocates', 'guy best friend', 'harry potter book', 'harry potter series', 'health benefits eating', 'help improve stay', 'help lose weight', 'helpful tips students', 'high blood pressur', 'high blood pressure', 'high paying job', 'high school college', 'high school diploma', 'high school stud', 'high school student', 'high school students', 'hiring process like', 'history ancient cultur', 'hotels shortterm business', 'iiser aptitude test', 'im high school', 'improve stay competitive', 'indian air force', 'indian cricket team', 'indian foreign service', 'indian girls like', 'indian national congress', 'indian stock market', 'influence crime rate', 'injection molding machin', 'inspiration pursue acting', 'inspiration pursue career', 'inspiration write book', 'interpret predominant themes', 'invest mutual fund', 'invest mutual funds', 'invest stock market', 'ivy league school', 'jamia millia islamia', 'japan south korea', 'jee advanced 2017', 'jee advanced 2018', 'jee main 2017', 'jee main 2018', 'jee mains 2017', 'jee mains 2018', 'jee mains paper', 'jee mains rank', 'jerusalem capital israel', 'kind questions asked', 'knowledge experience affect', 'learn history ancient', 'learn machine learning', 'leonardo da vinci', 'lesser known facts', 'lewis dot structure', 'life changing events', 'light years away', 'like donald trump', 'like north korea', 'literary devices book', 'literary devices novel', 'literary devices used', 'living conditions average', 'long distance relationship', 'long term effects', 'long term relationship', 'long time ago', 'longstanding traditions undergraduates', 'lose belly fat', 'love best friend', 'low self esteem', 'luther king jr', 'machine learning algorithm', 'make america great', 'make bad person', 'make costume resembles', 'make eye contact', 'make feel good', 'make feel like', 'make lot money', 'make money onlin', 'make money online', 'make new friends', 'make world better', 'manufacturing process improv', 'market research report', 'marketing strategies used', 'marks jee advanced', 'marks jee main', 'marks jee mains', 'marks neet 2017', 'marks neet 2018', 'martin luther king', 'marvel cinematic universe', 'masters computer science', 'mean guy says', 'mechanical engineering student', 'medical conditions associated', 'mind blowing facts', 'minimum marks required', 'money bank account', 'movie got mad', 'movie greenlit whats', 'ms computer science', 'narcissistic personality disorder', 'neet ug 2017', 'new york city', 'new york times', 'nobel peace prize', 'north south korea', 'online test series', 'open bank account', 'organizations clubs join', 'organizations join university', 'osama bin laden', 'papua new guinea', 'people answer questions', 'people ask questions', 'people ask stupid', 'people asset help', 'people borderline personality', 'people dont know', 'people dont like', 'people dont want', 'people feel need', 'people make fun', 'people mean say', 'people think im', 'people united states', 'personal knowledge experience', 'playing video gam', 'pm narendra modi', 'predominant themes book', 'prepare ssc cgl', 'president donald trump', 'president united st', 'president united states', 'previous year question', 'primarily compete compar', 'prime minister india', 'private medical college', 'product based companies', 'programming language learn', 'pros cons living', 'pros cons using', 'pros cons working', 'pursue acting car', 'queen elizabeth ii', 'questions asked interview', 'questions asked quora', 'quora content review', 'quora world meetup', 'rank jee advanced', 'rank jee main', 'rank jee mains', 'rbi grade exam', 'real estate ag', 'real estate agent', 'real estate agents', 'real estate market', 'real life examples', 'reduce belly fat', 'reduce calorie levels', 'samsung galaxy note', 'san francisco bay', 'sat subject test', 'score good marks', 'score jee mains', 'second world war', 'senior high school', 'service center hyderabad', 'shortterm business travelers', 'social justice warriors', 'social media account', 'social media accounts', 'social media market', 'social media marketing', 'social media platform', 'social security number', 'south china sea', 'south korea japan', 'srm main campus', 'ssc cgl 2017', 'ssc cgl 2018', 'ssc cgl tier', 'st xaviers college', 'star wars jedi', 'start youtube channel', 'stay competitive strategically', 'strangest thing youve', 'student organizations clubs', 'student organizations join', 'students starting semester', 'students starting year', 'study computer science', 'stupid questions quora', 'style structure book', 'supply chain management', 'support donald trump', 'thing ve seen', 'thing youve heard', 'thing youve seen', 'things need know', 'things weekends student', 'think donald trump', 'think good idea', 'tips starting work', 'tips students starting', 'tips write summary', 'touristic spots visit', 'travel speed light', 'trump supporters think', 'turning point book', 'tv animated series', 'type questions asked', 'united states america', 'united states government', 'universal basic income', 'university students join', 'university students weekend', 'use social media', 'useful tips starting', 'useful tips students', 'using social media', 'utilize people asset', 'want pursue career', 'war north korea', 'way earn money', 'way lose weight', 'way make money', 'way read book', 'ways earn money', 'ways make money', 'weirdest thing youve', 'whats backstory movie', 'whats best lyricline', 'whats best place', 'whats best thing', 'whats best way', 'whats easiest way', 'whats good way', 'whats like particip', 'whats weirdest thing', 'whats worst thing', 'world better plac', 'world better place', 'world cup 2018', 'world look like', 'world war ii', 'world war iii', 'worst thing happened', 'worst thing youve', 'writing style structure', 'writing style used', 'year high school', 'year old boy', 'year old child', 'year old daughter', 'year old female', 'year old girl', 'year old guy', 'year old indian', 'year old kid', 'year old male', 'year old man', 'year old self', 'year old son', 'year old woman', 'years old girl', 'years old want', 'years work experience']\n"
     ]
    }
   ],
   "source": [
    "# Import CountVectorizer\n",
    "from sklearn.feature_extraction.text import CountVectorizer\n",
    "\n",
    "# Instantiate a trigram vectorizer\n",
    "cv_trigram_vec = CountVectorizer(max_features=500, \n",
    "                                 stop_words='english', \n",
    "                                 ngram_range=(3,3))\n",
    "\n",
    "# Fit and apply trigram vectorizer\n",
    "cv_trigram = cv_trigram_vec.fit_transform(df_numeric_scaled['question_final'])\n",
    "\n",
    "# Print the trigram features\n",
    "print(cv_trigram_vec.get_feature_names())\n",
    "\n",
    "# Create a DataFrame of the features\n",
    "cv_tri_df = pd.DataFrame(cv_trigram.toarray(), \n",
    "                 columns=cv_trigram_vec.get_feature_names()).add_prefix('Counts_')"
   ]
  },
  {
   "cell_type": "code",
   "execution_count": null,
   "metadata": {},
   "outputs": [
    {
     "name": "stdout",
     "output_type": "stream",
     "text": [
      "Counts_whats best way                  710\n",
      "Counts_useful tips starting            576\n",
      "Counts_tips starting work              575\n",
      "Counts_good hotels shortterm           413\n",
      "Counts_shortterm business travelers    413\n",
      "dtype: int64\n"
     ]
    }
   ],
   "source": [
    "# Print the top 5 words in the sorted output\n",
    "print(cv_tri_df.sum().sort_values(ascending=False).head(5))"
   ]
  },
  {
   "cell_type": "code",
   "execution_count": null,
   "metadata": {},
   "outputs": [
    {
     "data": {
      "text/html": [
       "<div>\n",
       "<style scoped>\n",
       "    .dataframe tbody tr th:only-of-type {\n",
       "        vertical-align: middle;\n",
       "    }\n",
       "\n",
       "    .dataframe tbody tr th {\n",
       "        vertical-align: top;\n",
       "    }\n",
       "\n",
       "    .dataframe thead th {\n",
       "        text-align: right;\n",
       "    }\n",
       "</style>\n",
       "<table border=\"1\" class=\"dataframe\">\n",
       "  <thead>\n",
       "    <tr style=\"text-align: right;\">\n",
       "      <th></th>\n",
       "      <th>qid</th>\n",
       "      <th>target</th>\n",
       "      <th>question_length</th>\n",
       "      <th>total_words</th>\n",
       "      <th>avg_word_length_scaled</th>\n",
       "      <th>question_final</th>\n",
       "      <th>Counts_10 year old</th>\n",
       "      <th>Counts_10 years ago</th>\n",
       "      <th>Counts_10 years experience</th>\n",
       "      <th>Counts_11 year old</th>\n",
       "      <th>...</th>\n",
       "      <th>Counts_year old indian</th>\n",
       "      <th>Counts_year old kid</th>\n",
       "      <th>Counts_year old male</th>\n",
       "      <th>Counts_year old man</th>\n",
       "      <th>Counts_year old self</th>\n",
       "      <th>Counts_year old son</th>\n",
       "      <th>Counts_year old woman</th>\n",
       "      <th>Counts_years old girl</th>\n",
       "      <th>Counts_years old want</th>\n",
       "      <th>Counts_years work experience</th>\n",
       "    </tr>\n",
       "  </thead>\n",
       "  <tbody>\n",
       "    <tr>\n",
       "      <th>0</th>\n",
       "      <td>4d2e2796dd1ced2c8e64</td>\n",
       "      <td>0</td>\n",
       "      <td>240</td>\n",
       "      <td>12</td>\n",
       "      <td>0.377358</td>\n",
       "      <td>prospects international students httpwwwophamm...</td>\n",
       "      <td>0</td>\n",
       "      <td>0</td>\n",
       "      <td>0</td>\n",
       "      <td>0</td>\n",
       "      <td>...</td>\n",
       "      <td>0</td>\n",
       "      <td>0</td>\n",
       "      <td>0</td>\n",
       "      <td>0</td>\n",
       "      <td>0</td>\n",
       "      <td>0</td>\n",
       "      <td>0</td>\n",
       "      <td>0</td>\n",
       "      <td>0</td>\n",
       "      <td>0</td>\n",
       "    </tr>\n",
       "    <tr>\n",
       "      <th>1</th>\n",
       "      <td>1729272298ed7f6cf789</td>\n",
       "      <td>0</td>\n",
       "      <td>221</td>\n",
       "      <td>26</td>\n",
       "      <td>0.160377</td>\n",
       "      <td>could probing quantum world vacuum virtual par...</td>\n",
       "      <td>0</td>\n",
       "      <td>0</td>\n",
       "      <td>0</td>\n",
       "      <td>0</td>\n",
       "      <td>...</td>\n",
       "      <td>0</td>\n",
       "      <td>0</td>\n",
       "      <td>0</td>\n",
       "      <td>0</td>\n",
       "      <td>0</td>\n",
       "      <td>0</td>\n",
       "      <td>0</td>\n",
       "      <td>0</td>\n",
       "      <td>0</td>\n",
       "      <td>0</td>\n",
       "    </tr>\n",
       "    <tr>\n",
       "      <th>2</th>\n",
       "      <td>c4ee0b28e195a3d515a5</td>\n",
       "      <td>0</td>\n",
       "      <td>219</td>\n",
       "      <td>29</td>\n",
       "      <td>0.142485</td>\n",
       "      <td>mention good book containing quotations great ...</td>\n",
       "      <td>0</td>\n",
       "      <td>0</td>\n",
       "      <td>0</td>\n",
       "      <td>0</td>\n",
       "      <td>...</td>\n",
       "      <td>0</td>\n",
       "      <td>0</td>\n",
       "      <td>0</td>\n",
       "      <td>0</td>\n",
       "      <td>0</td>\n",
       "      <td>0</td>\n",
       "      <td>0</td>\n",
       "      <td>0</td>\n",
       "      <td>0</td>\n",
       "      <td>0</td>\n",
       "    </tr>\n",
       "    <tr>\n",
       "      <th>3</th>\n",
       "      <td>5a3f6882c1fc8319eff1</td>\n",
       "      <td>1</td>\n",
       "      <td>218</td>\n",
       "      <td>32</td>\n",
       "      <td>0.128538</td>\n",
       "      <td>didnt genghiz khan thee great khan abolish des...</td>\n",
       "      <td>0</td>\n",
       "      <td>0</td>\n",
       "      <td>0</td>\n",
       "      <td>0</td>\n",
       "      <td>...</td>\n",
       "      <td>0</td>\n",
       "      <td>0</td>\n",
       "      <td>0</td>\n",
       "      <td>0</td>\n",
       "      <td>0</td>\n",
       "      <td>0</td>\n",
       "      <td>0</td>\n",
       "      <td>0</td>\n",
       "      <td>0</td>\n",
       "      <td>0</td>\n",
       "    </tr>\n",
       "    <tr>\n",
       "      <th>4</th>\n",
       "      <td>6a71d18ec595137eb634</td>\n",
       "      <td>1</td>\n",
       "      <td>218</td>\n",
       "      <td>27</td>\n",
       "      <td>0.152341</td>\n",
       "      <td>india harbor many scammers thieves con artists...</td>\n",
       "      <td>0</td>\n",
       "      <td>0</td>\n",
       "      <td>0</td>\n",
       "      <td>0</td>\n",
       "      <td>...</td>\n",
       "      <td>0</td>\n",
       "      <td>0</td>\n",
       "      <td>0</td>\n",
       "      <td>0</td>\n",
       "      <td>0</td>\n",
       "      <td>0</td>\n",
       "      <td>0</td>\n",
       "      <td>0</td>\n",
       "      <td>0</td>\n",
       "      <td>0</td>\n",
       "    </tr>\n",
       "  </tbody>\n",
       "</table>\n",
       "<p>5 rows × 506 columns</p>\n",
       "</div>"
      ],
      "text/plain": [
       "                    qid  target  question_length  total_words  \\\n",
       "0  4d2e2796dd1ced2c8e64       0              240           12   \n",
       "1  1729272298ed7f6cf789       0              221           26   \n",
       "2  c4ee0b28e195a3d515a5       0              219           29   \n",
       "3  5a3f6882c1fc8319eff1       1              218           32   \n",
       "4  6a71d18ec595137eb634       1              218           27   \n",
       "\n",
       "   avg_word_length_scaled                                     question_final  \\\n",
       "0                0.377358  prospects international students httpwwwophamm...   \n",
       "1                0.160377  could probing quantum world vacuum virtual par...   \n",
       "2                0.142485  mention good book containing quotations great ...   \n",
       "3                0.128538  didnt genghiz khan thee great khan abolish des...   \n",
       "4                0.152341  india harbor many scammers thieves con artists...   \n",
       "\n",
       "   Counts_10 year old  Counts_10 years ago  Counts_10 years experience  \\\n",
       "0                   0                    0                           0   \n",
       "1                   0                    0                           0   \n",
       "2                   0                    0                           0   \n",
       "3                   0                    0                           0   \n",
       "4                   0                    0                           0   \n",
       "\n",
       "   Counts_11 year old  ...  Counts_year old indian  Counts_year old kid  \\\n",
       "0                   0  ...                       0                    0   \n",
       "1                   0  ...                       0                    0   \n",
       "2                   0  ...                       0                    0   \n",
       "3                   0  ...                       0                    0   \n",
       "4                   0  ...                       0                    0   \n",
       "\n",
       "   Counts_year old male  Counts_year old man  Counts_year old self  \\\n",
       "0                     0                    0                     0   \n",
       "1                     0                    0                     0   \n",
       "2                     0                    0                     0   \n",
       "3                     0                    0                     0   \n",
       "4                     0                    0                     0   \n",
       "\n",
       "   Counts_year old son  Counts_year old woman  Counts_years old girl  \\\n",
       "0                    0                      0                      0   \n",
       "1                    0                      0                      0   \n",
       "2                    0                      0                      0   \n",
       "3                    0                      0                      0   \n",
       "4                    0                      0                      0   \n",
       "\n",
       "   Counts_years old want  Counts_years work experience  \n",
       "0                      0                             0  \n",
       "1                      0                             0  \n",
       "2                      0                             0  \n",
       "3                      0                             0  \n",
       "4                      0                             0  \n",
       "\n",
       "[5 rows x 506 columns]"
      ]
     },
     "execution_count": 21,
     "metadata": {},
     "output_type": "execute_result"
    }
   ],
   "source": [
    "df_final = pd.concat([df_numeric_scaled, cv_tri_df], axis=1, sort=False)\n",
    "df_final.head(5)"
   ]
  },
  {
   "cell_type": "markdown",
   "metadata": {},
   "source": [
    "### Split into testing and training datasets "
   ]
  },
  {
   "cell_type": "code",
   "execution_count": null,
   "metadata": {},
   "outputs": [],
   "source": [
    "from sklearn.model_selection import train_test_split\n",
    "\n",
    "train_df, test_df = train_test_split(df_final, test_size=0.2)"
   ]
  },
  {
   "cell_type": "code",
   "execution_count": null,
   "metadata": {},
   "outputs": [
    {
     "data": {
      "text/plain": [
       "(813355, 506)"
      ]
     },
     "execution_count": 23,
     "metadata": {},
     "output_type": "execute_result"
    }
   ],
   "source": [
    "train_df.shape"
   ]
  },
  {
   "cell_type": "code",
   "execution_count": null,
   "metadata": {},
   "outputs": [
    {
     "data": {
      "text/plain": [
       "(203339, 506)"
      ]
     },
     "execution_count": 24,
     "metadata": {},
     "output_type": "execute_result"
    }
   ],
   "source": [
    "test_df.shape"
   ]
  },
  {
   "cell_type": "code",
   "execution_count": null,
   "metadata": {},
   "outputs": [
    {
     "data": {
      "text/html": [
       "<div>\n",
       "<style scoped>\n",
       "    .dataframe tbody tr th:only-of-type {\n",
       "        vertical-align: middle;\n",
       "    }\n",
       "\n",
       "    .dataframe tbody tr th {\n",
       "        vertical-align: top;\n",
       "    }\n",
       "\n",
       "    .dataframe thead th {\n",
       "        text-align: right;\n",
       "    }\n",
       "</style>\n",
       "<table border=\"1\" class=\"dataframe\">\n",
       "  <thead>\n",
       "    <tr style=\"text-align: right;\">\n",
       "      <th></th>\n",
       "      <th>qid</th>\n",
       "      <th>target</th>\n",
       "      <th>question_length</th>\n",
       "      <th>total_words</th>\n",
       "      <th>avg_word_length_scaled</th>\n",
       "      <th>question_final</th>\n",
       "      <th>Counts_10 year old</th>\n",
       "      <th>Counts_10 years ago</th>\n",
       "      <th>Counts_10 years experience</th>\n",
       "      <th>Counts_11 year old</th>\n",
       "      <th>...</th>\n",
       "      <th>Counts_year old indian</th>\n",
       "      <th>Counts_year old kid</th>\n",
       "      <th>Counts_year old male</th>\n",
       "      <th>Counts_year old man</th>\n",
       "      <th>Counts_year old self</th>\n",
       "      <th>Counts_year old son</th>\n",
       "      <th>Counts_year old woman</th>\n",
       "      <th>Counts_years old girl</th>\n",
       "      <th>Counts_years old want</th>\n",
       "      <th>Counts_years work experience</th>\n",
       "    </tr>\n",
       "  </thead>\n",
       "  <tbody>\n",
       "    <tr>\n",
       "      <th>926672</th>\n",
       "      <td>3fb10b3ebbb614ff5683</td>\n",
       "      <td>0</td>\n",
       "      <td>18</td>\n",
       "      <td>3</td>\n",
       "      <td>0.113208</td>\n",
       "      <td>cells cell membran</td>\n",
       "      <td>0</td>\n",
       "      <td>0</td>\n",
       "      <td>0</td>\n",
       "      <td>0</td>\n",
       "      <td>...</td>\n",
       "      <td>0</td>\n",
       "      <td>0</td>\n",
       "      <td>0</td>\n",
       "      <td>0</td>\n",
       "      <td>0</td>\n",
       "      <td>0</td>\n",
       "      <td>0</td>\n",
       "      <td>0</td>\n",
       "      <td>0</td>\n",
       "      <td>0</td>\n",
       "    </tr>\n",
       "    <tr>\n",
       "      <th>726145</th>\n",
       "      <td>161ed89db7e69f293376</td>\n",
       "      <td>0</td>\n",
       "      <td>28</td>\n",
       "      <td>4</td>\n",
       "      <td>0.132075</td>\n",
       "      <td>costa rica socialist countri</td>\n",
       "      <td>0</td>\n",
       "      <td>0</td>\n",
       "      <td>0</td>\n",
       "      <td>0</td>\n",
       "      <td>...</td>\n",
       "      <td>0</td>\n",
       "      <td>0</td>\n",
       "      <td>0</td>\n",
       "      <td>0</td>\n",
       "      <td>0</td>\n",
       "      <td>0</td>\n",
       "      <td>0</td>\n",
       "      <td>0</td>\n",
       "      <td>0</td>\n",
       "      <td>0</td>\n",
       "    </tr>\n",
       "    <tr>\n",
       "      <th>90030</th>\n",
       "      <td>690a3008c57453a15f01</td>\n",
       "      <td>0</td>\n",
       "      <td>81</td>\n",
       "      <td>11</td>\n",
       "      <td>0.138937</td>\n",
       "      <td>institutes india offer course masters journali...</td>\n",
       "      <td>0</td>\n",
       "      <td>0</td>\n",
       "      <td>0</td>\n",
       "      <td>0</td>\n",
       "      <td>...</td>\n",
       "      <td>0</td>\n",
       "      <td>0</td>\n",
       "      <td>0</td>\n",
       "      <td>0</td>\n",
       "      <td>0</td>\n",
       "      <td>0</td>\n",
       "      <td>0</td>\n",
       "      <td>0</td>\n",
       "      <td>0</td>\n",
       "      <td>0</td>\n",
       "    </tr>\n",
       "    <tr>\n",
       "      <th>869421</th>\n",
       "      <td>a97b0b5c114533cf7f1c</td>\n",
       "      <td>0</td>\n",
       "      <td>21</td>\n",
       "      <td>4</td>\n",
       "      <td>0.099057</td>\n",
       "      <td>make eye contact girl</td>\n",
       "      <td>0</td>\n",
       "      <td>0</td>\n",
       "      <td>0</td>\n",
       "      <td>0</td>\n",
       "      <td>...</td>\n",
       "      <td>0</td>\n",
       "      <td>0</td>\n",
       "      <td>0</td>\n",
       "      <td>0</td>\n",
       "      <td>0</td>\n",
       "      <td>0</td>\n",
       "      <td>0</td>\n",
       "      <td>0</td>\n",
       "      <td>0</td>\n",
       "      <td>0</td>\n",
       "    </tr>\n",
       "    <tr>\n",
       "      <th>768369</th>\n",
       "      <td>3787e4809c867448795c</td>\n",
       "      <td>0</td>\n",
       "      <td>26</td>\n",
       "      <td>5</td>\n",
       "      <td>0.098113</td>\n",
       "      <td>handle first date 8th grad</td>\n",
       "      <td>0</td>\n",
       "      <td>0</td>\n",
       "      <td>0</td>\n",
       "      <td>0</td>\n",
       "      <td>...</td>\n",
       "      <td>0</td>\n",
       "      <td>0</td>\n",
       "      <td>0</td>\n",
       "      <td>0</td>\n",
       "      <td>0</td>\n",
       "      <td>0</td>\n",
       "      <td>0</td>\n",
       "      <td>0</td>\n",
       "      <td>0</td>\n",
       "      <td>0</td>\n",
       "    </tr>\n",
       "  </tbody>\n",
       "</table>\n",
       "<p>5 rows × 506 columns</p>\n",
       "</div>"
      ],
      "text/plain": [
       "                         qid  target  question_length  total_words  \\\n",
       "926672  3fb10b3ebbb614ff5683       0               18            3   \n",
       "726145  161ed89db7e69f293376       0               28            4   \n",
       "90030   690a3008c57453a15f01       0               81           11   \n",
       "869421  a97b0b5c114533cf7f1c       0               21            4   \n",
       "768369  3787e4809c867448795c       0               26            5   \n",
       "\n",
       "        avg_word_length_scaled  \\\n",
       "926672                0.113208   \n",
       "726145                0.132075   \n",
       "90030                 0.138937   \n",
       "869421                0.099057   \n",
       "768369                0.098113   \n",
       "\n",
       "                                           question_final  Counts_10 year old  \\\n",
       "926672                                 cells cell membran                   0   \n",
       "726145                       costa rica socialist countri                   0   \n",
       "90030   institutes india offer course masters journali...                   0   \n",
       "869421                              make eye contact girl                   0   \n",
       "768369                         handle first date 8th grad                   0   \n",
       "\n",
       "        Counts_10 years ago  Counts_10 years experience  Counts_11 year old  \\\n",
       "926672                    0                           0                   0   \n",
       "726145                    0                           0                   0   \n",
       "90030                     0                           0                   0   \n",
       "869421                    0                           0                   0   \n",
       "768369                    0                           0                   0   \n",
       "\n",
       "        ...  Counts_year old indian  Counts_year old kid  \\\n",
       "926672  ...                       0                    0   \n",
       "726145  ...                       0                    0   \n",
       "90030   ...                       0                    0   \n",
       "869421  ...                       0                    0   \n",
       "768369  ...                       0                    0   \n",
       "\n",
       "        Counts_year old male  Counts_year old man  Counts_year old self  \\\n",
       "926672                     0                    0                     0   \n",
       "726145                     0                    0                     0   \n",
       "90030                      0                    0                     0   \n",
       "869421                     0                    0                     0   \n",
       "768369                     0                    0                     0   \n",
       "\n",
       "        Counts_year old son  Counts_year old woman  Counts_years old girl  \\\n",
       "926672                    0                      0                      0   \n",
       "726145                    0                      0                      0   \n",
       "90030                     0                      0                      0   \n",
       "869421                    0                      0                      0   \n",
       "768369                    0                      0                      0   \n",
       "\n",
       "        Counts_years old want  Counts_years work experience  \n",
       "926672                      0                             0  \n",
       "726145                      0                             0  \n",
       "90030                       0                             0  \n",
       "869421                      0                             0  \n",
       "768369                      0                             0  \n",
       "\n",
       "[5 rows x 506 columns]"
      ]
     },
     "execution_count": 25,
     "metadata": {},
     "output_type": "execute_result"
    }
   ],
   "source": [
    "test_df.head(5)"
   ]
  },
  {
   "cell_type": "code",
   "execution_count": null,
   "metadata": {},
   "outputs": [],
   "source": [
    "test_df.to_csv(\"data/FeatureEngineering_Test.csv\")"
   ]
  },
  {
   "cell_type": "code",
   "execution_count": null,
   "metadata": {},
   "outputs": [],
   "source": [
    "train_df.to_csv(\"data/FeatureEngineering_Train.csv\")"
   ]
  },
  {
   "cell_type": "code",
   "execution_count": null,
   "metadata": {},
   "outputs": [],
   "source": []
  }
 ],
 "metadata": {
  "kernelspec": {
   "display_name": "Python 3",
   "language": "python",
   "name": "python3"
  },
  "language_info": {
   "codemirror_mode": {
    "name": "ipython",
    "version": 3
   },
   "file_extension": ".py",
   "mimetype": "text/x-python",
   "name": "python",
   "nbconvert_exporter": "python",
   "pygments_lexer": "ipython3",
   "version": "3.6.8"
  }
 },
 "nbformat": 4,
 "nbformat_minor": 2
}
