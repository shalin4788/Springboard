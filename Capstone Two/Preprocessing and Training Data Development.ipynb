{
 "cells": [
  {
   "cell_type": "markdown",
   "metadata": {},
   "source": [
    " ## Pre-processing and Training Data Development"
   ]
  },
  {
   "cell_type": "markdown",
   "metadata": {},
   "source": [
    "- Goal is to create a cleaned development dataset you can use to complete the modeling step of this project. "
   ]
  },
  {
   "cell_type": "code",
   "execution_count": 1,
   "metadata": {},
   "outputs": [
    {
     "name": "stderr",
     "output_type": "stream",
     "text": [
      "\n",
      "Bad key \"text.kerning_factor\" on line 4 in\n",
      "C:\\Users\\gosal\\Anaconda3_2\\lib\\site-packages\\matplotlib\\mpl-data\\stylelib\\_classic_test_patch.mplstyle.\n",
      "You probably need to get an updated matplotlibrc file from\n",
      "http://github.com/matplotlib/matplotlib/blob/master/matplotlibrc.template\n",
      "or from the matplotlib source distribution\n"
     ]
    }
   ],
   "source": [
    "# Import libraries\n",
    "import pandas as pd\n",
    "pd.options.mode.chained_assignment = None  # default='warn'\n",
    "\n",
    "import os\n",
    "from sklearn.preprocessing import MaxAbsScaler\n",
    "import matplotlib.pyplot as plt\n",
    "\n",
    "#suppress future warnings\n",
    "import warnings\n",
    "warnings.simplefilter(action='ignore', category=FutureWarning)\n",
    "warnings.simplefilter(action='ignore', category=UserWarning)\n",
    "\n",
    "# Show plots inline\n",
    "%matplotlib inline"
   ]
  },
  {
   "cell_type": "code",
   "execution_count": 2,
   "metadata": {},
   "outputs": [
    {
     "data": {
      "text/plain": [
       "'C:\\\\Shalin\\\\Springboard bootcamp\\\\projects\\\\Capstone project 2\\\\Capstone Two'"
      ]
     },
     "execution_count": 2,
     "metadata": {},
     "output_type": "execute_result"
    }
   ],
   "source": [
    "os.getcwd()"
   ]
  },
  {
   "cell_type": "code",
   "execution_count": 3,
   "metadata": {},
   "outputs": [],
   "source": [
    "df = pd.read_csv(\"data/Quora_cleaned.csv\")"
   ]
  },
  {
   "cell_type": "code",
   "execution_count": 4,
   "metadata": {},
   "outputs": [
    {
     "data": {
      "text/html": [
       "<div>\n",
       "<style scoped>\n",
       "    .dataframe tbody tr th:only-of-type {\n",
       "        vertical-align: middle;\n",
       "    }\n",
       "\n",
       "    .dataframe tbody tr th {\n",
       "        vertical-align: top;\n",
       "    }\n",
       "\n",
       "    .dataframe thead th {\n",
       "        text-align: right;\n",
       "    }\n",
       "</style>\n",
       "<table border=\"1\" class=\"dataframe\">\n",
       "  <thead>\n",
       "    <tr style=\"text-align: right;\">\n",
       "      <th></th>\n",
       "      <th>Unnamed: 0</th>\n",
       "      <th>qid</th>\n",
       "      <th>question_stemmed</th>\n",
       "      <th>target</th>\n",
       "      <th>question_length</th>\n",
       "      <th>total_words</th>\n",
       "    </tr>\n",
       "  </thead>\n",
       "  <tbody>\n",
       "    <tr>\n",
       "      <th>0</th>\n",
       "      <td>393959</td>\n",
       "      <td>4d2e2796dd1ced2c8e64</td>\n",
       "      <td>prospects international students httpwwwophamm...</td>\n",
       "      <td>0</td>\n",
       "      <td>240</td>\n",
       "      <td>12</td>\n",
       "    </tr>\n",
       "    <tr>\n",
       "      <th>1</th>\n",
       "      <td>118298</td>\n",
       "      <td>1729272298ed7f6cf789</td>\n",
       "      <td>could probing quantum world vacuum virtual par...</td>\n",
       "      <td>0</td>\n",
       "      <td>221</td>\n",
       "      <td>26</td>\n",
       "    </tr>\n",
       "    <tr>\n",
       "      <th>2</th>\n",
       "      <td>1004888</td>\n",
       "      <td>c4ee0b28e195a3d515a5</td>\n",
       "      <td>mention good book containing quotations great ...</td>\n",
       "      <td>0</td>\n",
       "      <td>219</td>\n",
       "      <td>29</td>\n",
       "    </tr>\n",
       "    <tr>\n",
       "      <th>3</th>\n",
       "      <td>460851</td>\n",
       "      <td>5a3f6882c1fc8319eff1</td>\n",
       "      <td>didnt genghiz khan thee great khan abolish des...</td>\n",
       "      <td>1</td>\n",
       "      <td>218</td>\n",
       "      <td>32</td>\n",
       "    </tr>\n",
       "    <tr>\n",
       "      <th>4</th>\n",
       "      <td>543322</td>\n",
       "      <td>6a71d18ec595137eb634</td>\n",
       "      <td>india harbor many scammers thieves con artists...</td>\n",
       "      <td>1</td>\n",
       "      <td>218</td>\n",
       "      <td>27</td>\n",
       "    </tr>\n",
       "  </tbody>\n",
       "</table>\n",
       "</div>"
      ],
      "text/plain": [
       "   Unnamed: 0                   qid  \\\n",
       "0      393959  4d2e2796dd1ced2c8e64   \n",
       "1      118298  1729272298ed7f6cf789   \n",
       "2     1004888  c4ee0b28e195a3d515a5   \n",
       "3      460851  5a3f6882c1fc8319eff1   \n",
       "4      543322  6a71d18ec595137eb634   \n",
       "\n",
       "                                    question_stemmed  target  question_length  \\\n",
       "0  prospects international students httpwwwophamm...       0              240   \n",
       "1  could probing quantum world vacuum virtual par...       0              221   \n",
       "2  mention good book containing quotations great ...       0              219   \n",
       "3  didnt genghiz khan thee great khan abolish des...       1              218   \n",
       "4  india harbor many scammers thieves con artists...       1              218   \n",
       "\n",
       "   total_words  \n",
       "0           12  \n",
       "1           26  \n",
       "2           29  \n",
       "3           32  \n",
       "4           27  "
      ]
     },
     "execution_count": 4,
     "metadata": {},
     "output_type": "execute_result"
    }
   ],
   "source": [
    "df.head(5)"
   ]
  },
  {
   "cell_type": "code",
   "execution_count": 5,
   "metadata": {},
   "outputs": [
    {
     "name": "stdout",
     "output_type": "stream",
     "text": [
      "<class 'pandas.core.frame.DataFrame'>\n",
      "RangeIndex: 1016694 entries, 0 to 1016693\n",
      "Data columns (total 6 columns):\n",
      " #   Column            Non-Null Count    Dtype \n",
      "---  ------            --------------    ----- \n",
      " 0   Unnamed: 0        1016694 non-null  int64 \n",
      " 1   qid               1016694 non-null  object\n",
      " 2   question_stemmed  1016694 non-null  object\n",
      " 3   target            1016694 non-null  int64 \n",
      " 4   question_length   1016694 non-null  int64 \n",
      " 5   total_words       1016694 non-null  int64 \n",
      "dtypes: int64(4), object(2)\n",
      "memory usage: 46.5+ MB\n"
     ]
    }
   ],
   "source": [
    "df.info()"
   ]
  },
  {
   "cell_type": "code",
   "execution_count": 6,
   "metadata": {},
   "outputs": [
    {
     "data": {
      "text/html": [
       "<div>\n",
       "<style scoped>\n",
       "    .dataframe tbody tr th:only-of-type {\n",
       "        vertical-align: middle;\n",
       "    }\n",
       "\n",
       "    .dataframe tbody tr th {\n",
       "        vertical-align: top;\n",
       "    }\n",
       "\n",
       "    .dataframe thead th {\n",
       "        text-align: right;\n",
       "    }\n",
       "</style>\n",
       "<table border=\"1\" class=\"dataframe\">\n",
       "  <thead>\n",
       "    <tr style=\"text-align: right;\">\n",
       "      <th></th>\n",
       "      <th>qid</th>\n",
       "      <th>question_stemmed</th>\n",
       "      <th>target</th>\n",
       "      <th>question_length</th>\n",
       "      <th>total_words</th>\n",
       "    </tr>\n",
       "  </thead>\n",
       "  <tbody>\n",
       "    <tr>\n",
       "      <th>0</th>\n",
       "      <td>4d2e2796dd1ced2c8e64</td>\n",
       "      <td>prospects international students httpwwwophamm...</td>\n",
       "      <td>0</td>\n",
       "      <td>240</td>\n",
       "      <td>12</td>\n",
       "    </tr>\n",
       "    <tr>\n",
       "      <th>1</th>\n",
       "      <td>1729272298ed7f6cf789</td>\n",
       "      <td>could probing quantum world vacuum virtual par...</td>\n",
       "      <td>0</td>\n",
       "      <td>221</td>\n",
       "      <td>26</td>\n",
       "    </tr>\n",
       "  </tbody>\n",
       "</table>\n",
       "</div>"
      ],
      "text/plain": [
       "                    qid                                   question_stemmed  \\\n",
       "0  4d2e2796dd1ced2c8e64  prospects international students httpwwwophamm...   \n",
       "1  1729272298ed7f6cf789  could probing quantum world vacuum virtual par...   \n",
       "\n",
       "   target  question_length  total_words  \n",
       "0       0              240           12  \n",
       "1       0              221           26  "
      ]
     },
     "execution_count": 6,
     "metadata": {},
     "output_type": "execute_result"
    }
   ],
   "source": [
    "# Drop index columns\n",
    "df.drop('Unnamed: 0',axis=1, inplace=True)\n",
    "df.head(2)"
   ]
  },
  {
   "cell_type": "code",
   "execution_count": 7,
   "metadata": {},
   "outputs": [
    {
     "name": "stdout",
     "output_type": "stream",
     "text": [
      "qid                 object\n",
      "question_stemmed    object\n",
      "target               int64\n",
      "question_length      int64\n",
      "total_words          int64\n",
      "dtype: object\n"
     ]
    }
   ],
   "source": [
    "# Print the data type of each column\n",
    "print(df.dtypes)"
   ]
  },
  {
   "cell_type": "markdown",
   "metadata": {},
   "source": [
    "### Standardize the magnitude of numeric features using a scaler"
   ]
  },
  {
   "cell_type": "code",
   "execution_count": 8,
   "metadata": {},
   "outputs": [
    {
     "name": "stdout",
     "output_type": "stream",
     "text": [
      "                                    question_stemmed  question_length  \\\n",
      "0  prospects international students httpwwwophamm...              240   \n",
      "1  could probing quantum world vacuum virtual par...              221   \n",
      "2  mention good book containing quotations great ...              219   \n",
      "3  didnt genghiz khan thee great khan abolish des...              218   \n",
      "4  india harbor many scammers thieves con artists...              218   \n",
      "\n",
      "   total_words  avg_word_length  \n",
      "0           12        20.000000  \n",
      "1           26         8.500000  \n",
      "2           29         7.551724  \n",
      "3           32         6.812500  \n",
      "4           27         8.074074  \n"
     ]
    }
   ],
   "source": [
    "# Find the average length of word\n",
    "df['avg_word_length'] = df['question_length'] / df['total_words']\n",
    "\n",
    "# Print the first 5 rows of these columns\n",
    "print(df[['question_stemmed', 'question_length', 'total_words', 'avg_word_length']].head(5))"
   ]
  },
  {
   "cell_type": "code",
   "execution_count": 9,
   "metadata": {},
   "outputs": [
    {
     "name": "stdout",
     "output_type": "stream",
     "text": [
      "Index(['target', 'question_length', 'total_words', 'avg_word_length'], dtype='object')\n"
     ]
    }
   ],
   "source": [
    "# Create subset of only the numeric columns\n",
    "numeric_df = df.select_dtypes(include=['int64','float'])\n",
    "print(numeric_df.columns)"
   ]
  },
  {
   "cell_type": "code",
   "execution_count": 10,
   "metadata": {},
   "outputs": [
    {
     "name": "stdout",
     "output_type": "stream",
     "text": [
      "Index(['qid', 'question_stemmed'], dtype='object')\n"
     ]
    }
   ],
   "source": [
    "# Create subset of only the categorical variable columns\n",
    "categorical_df = df.select_dtypes(include=['object'])\n",
    "print(categorical_df.columns)"
   ]
  },
  {
   "cell_type": "code",
   "execution_count": 11,
   "metadata": {},
   "outputs": [
    {
     "data": {
      "text/plain": [
       "count    1.016694e+06\n",
       "mean     6.680972e+00\n",
       "std      1.129022e+00\n",
       "min      1.933333e+00\n",
       "25%      6.000000e+00\n",
       "50%      6.615385e+00\n",
       "75%      7.375000e+00\n",
       "max      5.300000e+01\n",
       "Name: avg_word_length, dtype: float64"
      ]
     },
     "execution_count": 11,
     "metadata": {},
     "output_type": "execute_result"
    }
   ],
   "source": [
    "numeric_df['avg_word_length'].describe()"
   ]
  },
  {
   "cell_type": "code",
   "execution_count": 12,
   "metadata": {},
   "outputs": [
    {
     "name": "stdout",
     "output_type": "stream",
     "text": [
      "   avg_word_length_scaled  avg_word_length\n",
      "0                0.377358        20.000000\n",
      "1                0.160377         8.500000\n",
      "2                0.142485         7.551724\n",
      "3                0.128538         6.812500\n",
      "4                0.152341         8.074074\n"
     ]
    }
   ],
   "source": [
    "# Instantiate StandardScaler to generate the absolute values are mapped in the range [0, 1].\n",
    "# This is optional step for our dataset since there are not many outliers, however, this condenses data even better\n",
    "\n",
    "scaler = MaxAbsScaler()\n",
    "\n",
    "# Fit SS_scaler to the data\n",
    "scaler.fit(numeric_df[['avg_word_length']])\n",
    "\n",
    "# Transform the data using the fitted scaler\n",
    "numeric_df['avg_word_length_scaled'] = scaler.transform(numeric_df[['avg_word_length']])\n",
    "\n",
    "# Compare the origional and transformed column\n",
    "print(numeric_df[['avg_word_length_scaled', 'avg_word_length']].head(5))"
   ]
  },
  {
   "cell_type": "code",
   "execution_count": 13,
   "metadata": {
    "scrolled": false
   },
   "outputs": [
    {
     "data": {
      "image/png": "[encoded data removed]",
      "text/plain": [
       "<Figure size 720x360 with 2 Axes>"
      ]
     },
     "metadata": {
      "needs_background": "light"
     },
     "output_type": "display_data"
    }
   ],
   "source": [
    "# Create a histogram for the 2 \n",
    "plt.rcParams[\"figure.figsize\"] = (10,5)\n",
    "\n",
    "numeric_df.hist(['avg_word_length','avg_word_length_scaled'])\n",
    "plt.show()"
   ]
  },
  {
   "cell_type": "code",
   "execution_count": 14,
   "metadata": {},
   "outputs": [
    {
     "data": {
      "text/html": [
       "<div>\n",
       "<style scoped>\n",
       "    .dataframe tbody tr th:only-of-type {\n",
       "        vertical-align: middle;\n",
       "    }\n",
       "\n",
       "    .dataframe tbody tr th {\n",
       "        vertical-align: top;\n",
       "    }\n",
       "\n",
       "    .dataframe thead th {\n",
       "        text-align: right;\n",
       "    }\n",
       "</style>\n",
       "<table border=\"1\" class=\"dataframe\">\n",
       "  <thead>\n",
       "    <tr style=\"text-align: right;\">\n",
       "      <th></th>\n",
       "      <th>target</th>\n",
       "      <th>question_length</th>\n",
       "      <th>total_words</th>\n",
       "      <th>avg_word_length_scaled</th>\n",
       "    </tr>\n",
       "  </thead>\n",
       "  <tbody>\n",
       "    <tr>\n",
       "      <th>0</th>\n",
       "      <td>0</td>\n",
       "      <td>240</td>\n",
       "      <td>12</td>\n",
       "      <td>0.377358</td>\n",
       "    </tr>\n",
       "    <tr>\n",
       "      <th>1</th>\n",
       "      <td>0</td>\n",
       "      <td>221</td>\n",
       "      <td>26</td>\n",
       "      <td>0.160377</td>\n",
       "    </tr>\n",
       "    <tr>\n",
       "      <th>2</th>\n",
       "      <td>0</td>\n",
       "      <td>219</td>\n",
       "      <td>29</td>\n",
       "      <td>0.142485</td>\n",
       "    </tr>\n",
       "    <tr>\n",
       "      <th>3</th>\n",
       "      <td>1</td>\n",
       "      <td>218</td>\n",
       "      <td>32</td>\n",
       "      <td>0.128538</td>\n",
       "    </tr>\n",
       "    <tr>\n",
       "      <th>4</th>\n",
       "      <td>1</td>\n",
       "      <td>218</td>\n",
       "      <td>27</td>\n",
       "      <td>0.152341</td>\n",
       "    </tr>\n",
       "  </tbody>\n",
       "</table>\n",
       "</div>"
      ],
      "text/plain": [
       "   target  question_length  total_words  avg_word_length_scaled\n",
       "0       0              240           12                0.377358\n",
       "1       0              221           26                0.160377\n",
       "2       0              219           29                0.142485\n",
       "3       1              218           32                0.128538\n",
       "4       1              218           27                0.152341"
      ]
     },
     "execution_count": 14,
     "metadata": {},
     "output_type": "execute_result"
    }
   ],
   "source": [
    "# Drop non scaled column\n",
    "numeric_df.drop(columns='avg_word_length', inplace=True)\n",
    "numeric_df.head(5)"
   ]
  },
  {
   "cell_type": "code",
   "execution_count": 15,
   "metadata": {},
   "outputs": [
    {
     "data": {
      "text/plain": [
       "count    1.016694e+06\n",
       "mean     1.260561e-01\n",
       "std      2.130230e-02\n",
       "min      3.647799e-02\n",
       "25%      1.132075e-01\n",
       "50%      1.248186e-01\n",
       "75%      1.391509e-01\n",
       "max      1.000000e+00\n",
       "Name: avg_word_length_scaled, dtype: float64"
      ]
     },
     "execution_count": 15,
     "metadata": {},
     "output_type": "execute_result"
    }
   ],
   "source": [
    "numeric_df['avg_word_length_scaled'].describe()"
   ]
  },
  {
   "cell_type": "code",
   "execution_count": 16,
   "metadata": {},
   "outputs": [
    {
     "data": {
      "text/html": [
       "<div>\n",
       "<style scoped>\n",
       "    .dataframe tbody tr th:only-of-type {\n",
       "        vertical-align: middle;\n",
       "    }\n",
       "\n",
       "    .dataframe tbody tr th {\n",
       "        vertical-align: top;\n",
       "    }\n",
       "\n",
       "    .dataframe thead th {\n",
       "        text-align: right;\n",
       "    }\n",
       "</style>\n",
       "<table border=\"1\" class=\"dataframe\">\n",
       "  <thead>\n",
       "    <tr style=\"text-align: right;\">\n",
       "      <th></th>\n",
       "      <th>qid</th>\n",
       "      <th>question_stemmed</th>\n",
       "      <th>target</th>\n",
       "      <th>question_length</th>\n",
       "      <th>total_words</th>\n",
       "      <th>avg_word_length_scaled</th>\n",
       "    </tr>\n",
       "  </thead>\n",
       "  <tbody>\n",
       "    <tr>\n",
       "      <th>0</th>\n",
       "      <td>4d2e2796dd1ced2c8e64</td>\n",
       "      <td>prospects international students httpwwwophamm...</td>\n",
       "      <td>0</td>\n",
       "      <td>240</td>\n",
       "      <td>12</td>\n",
       "      <td>0.377358</td>\n",
       "    </tr>\n",
       "    <tr>\n",
       "      <th>1</th>\n",
       "      <td>1729272298ed7f6cf789</td>\n",
       "      <td>could probing quantum world vacuum virtual par...</td>\n",
       "      <td>0</td>\n",
       "      <td>221</td>\n",
       "      <td>26</td>\n",
       "      <td>0.160377</td>\n",
       "    </tr>\n",
       "    <tr>\n",
       "      <th>2</th>\n",
       "      <td>c4ee0b28e195a3d515a5</td>\n",
       "      <td>mention good book containing quotations great ...</td>\n",
       "      <td>0</td>\n",
       "      <td>219</td>\n",
       "      <td>29</td>\n",
       "      <td>0.142485</td>\n",
       "    </tr>\n",
       "    <tr>\n",
       "      <th>3</th>\n",
       "      <td>5a3f6882c1fc8319eff1</td>\n",
       "      <td>didnt genghiz khan thee great khan abolish des...</td>\n",
       "      <td>1</td>\n",
       "      <td>218</td>\n",
       "      <td>32</td>\n",
       "      <td>0.128538</td>\n",
       "    </tr>\n",
       "    <tr>\n",
       "      <th>4</th>\n",
       "      <td>6a71d18ec595137eb634</td>\n",
       "      <td>india harbor many scammers thieves con artists...</td>\n",
       "      <td>1</td>\n",
       "      <td>218</td>\n",
       "      <td>27</td>\n",
       "      <td>0.152341</td>\n",
       "    </tr>\n",
       "  </tbody>\n",
       "</table>\n",
       "</div>"
      ],
      "text/plain": [
       "                    qid                                   question_stemmed  \\\n",
       "0  4d2e2796dd1ced2c8e64  prospects international students httpwwwophamm...   \n",
       "1  1729272298ed7f6cf789  could probing quantum world vacuum virtual par...   \n",
       "2  c4ee0b28e195a3d515a5  mention good book containing quotations great ...   \n",
       "3  5a3f6882c1fc8319eff1  didnt genghiz khan thee great khan abolish des...   \n",
       "4  6a71d18ec595137eb634  india harbor many scammers thieves con artists...   \n",
       "\n",
       "   target  question_length  total_words  avg_word_length_scaled  \n",
       "0       0              240           12                0.377358  \n",
       "1       0              221           26                0.160377  \n",
       "2       0              219           29                0.142485  \n",
       "3       1              218           32                0.128538  \n",
       "4       1              218           27                0.152341  "
      ]
     },
     "execution_count": 16,
     "metadata": {},
     "output_type": "execute_result"
    }
   ],
   "source": [
    "df_numeric_scaled = pd.concat([categorical_df, numeric_df], axis=1, sort=False)\n",
    "df_numeric_scaled.head(5)"
   ]
  },
  {
   "cell_type": "code",
   "execution_count": 17,
   "metadata": {},
   "outputs": [
    {
     "name": "stdout",
     "output_type": "stream",
     "text": [
      "<class 'pandas.core.frame.DataFrame'>\n",
      "RangeIndex: 1016694 entries, 0 to 1016693\n",
      "Data columns (total 6 columns):\n",
      " #   Column                  Non-Null Count    Dtype  \n",
      "---  ------                  --------------    -----  \n",
      " 0   qid                     1016694 non-null  object \n",
      " 1   question_stemmed        1016694 non-null  object \n",
      " 2   target                  1016694 non-null  int64  \n",
      " 3   question_length         1016694 non-null  int64  \n",
      " 4   total_words             1016694 non-null  int64  \n",
      " 5   avg_word_length_scaled  1016694 non-null  float64\n",
      "dtypes: float64(1), int64(3), object(2)\n",
      "memory usage: 46.5+ MB\n"
     ]
    }
   ],
   "source": [
    "df_numeric_scaled.info()"
   ]
  },
  {
   "cell_type": "markdown",
   "metadata": {},
   "source": [
    "### Perform Count vectorization on categorical feature to fit and transform data"
   ]
  },
  {
   "cell_type": "code",
   "execution_count": 27,
   "metadata": {},
   "outputs": [
    {
     "name": "stdout",
     "output_type": "stream",
     "text": [
      "['13 year old boy', '13 year old girl', '14 year old boy', '14 year old girl', '15 year old boy', '15 year old girl', '16 year old boy', '16 year old girl', '18 year old girl', '2017 good time buy', '2018 fifa world cup', '2018 movie greenlit whats', 'able role television series', 'affect way read book', 'asset help improve stay', 'backstory movie got mad', 'best student organizations clubs', 'best student organizations join', 'best things weekends student', 'best way earn money', 'best way lose weight', 'best way make money', 'best way start learning', 'better grades high school', 'bhk flats rent sector', 'bilateral diplomatic foreign relations', 'cost bhk flats rent', 'demographic factors influence crime', 'deny causing black death', 'determine lewis dot structure', 'diplomatic foreign relations pakistan', 'distinguishes writing style used', 'download test bank fundamentals', 'evolve strategic objectives tim', 'experience affect way read', 'factors influence crime rate', 'fifa world cup 2018', 'going quora world meetup', 'good hotels shortterm business', 'good time buy hous', 'greenlit whats backstory movie', 'help improve stay competitive', 'helpful tips students starting', 'hotels shortterm business travelers', 'im 14 years old', 'im 15 years old', 'im 16 years old', 'im 17 years old', 'improve evolve strategic objectives', 'improve stay competitive strategically', 'inspiration pursue acting car', 'interpret predominant themes book', 'jew deny causing black', 'knowledge experience affect way', 'learn history ancient cultur', 'literary devices used book', 'literary devices used novel', 'literary devices used poem', 'living conditions average household', 'longstanding traditions undergraduates university', 'looking learn history ancient', 'market research report global', 'marks jee advanced 2017', 'marks jee mains 2017', 'marks jee mains 2018', 'martin luther king jr', 'movie greenlit whats backstory', 'offerings meet market demand', 'people ask stupid questions', 'people asset help improve', 'people borderline personality disorder', 'personal knowledge experience affect', 'personality traits fictional character', 'plan improve evolve strategic', 'president history united st', 'professional american football play', 'rank jee mains 2017', 'real estate market like', 'san francisco bay area', 'stay competitive strategically meet', 'student organizations clubs join', 'student organizations join university', 'students starting semester university', 'students starting year university', 'things weekends student university', 'tips students starting semester', 'tips students starting year', 'university coolest work summ', 'university whats like particip', 'useful tips starting work', 'useful tips students starting', 'utilize people asset help', 'whats backstory movie got', 'whats best lyricline song', 'whats best way learn', 'whats best way make', 'whats weirdest thing youve', 'writing style structure book', 'writing style structure novel', 'writing style used book']\n"
     ]
    }
   ],
   "source": [
    "# Import CountVectorizer\n",
    "from sklearn.feature_extraction.text import CountVectorizer\n",
    "\n",
    "# Instantiate a trigram vectorizer\n",
    "cv_trigram_vec = CountVectorizer(max_features=100, \n",
    "                                 stop_words='english', \n",
    "                                 ngram_range=(4,4))\n",
    "\n",
    "# Fit and apply trigram vectorizer\n",
    "cv_trigram = cv_trigram_vec.fit_transform(df_numeric_scaled['question_stemmed'])\n",
    "\n",
    "# Print the trigram features\n",
    "print(cv_trigram_vec.get_feature_names())\n",
    "\n",
    "# Create a DataFrame of the features\n",
    "cv_tri_df = pd.DataFrame(cv_trigram.toarray(), \n",
    "                 columns=cv_trigram_vec.get_feature_names()).add_prefix('Counts_')"
   ]
  },
  {
   "cell_type": "code",
   "execution_count": 28,
   "metadata": {},
   "outputs": [
    {
     "name": "stdout",
     "output_type": "stream",
     "text": [
      "Counts_useful tips starting work              575\n",
      "Counts_good hotels shortterm business         413\n",
      "Counts_hotels shortterm business travelers    413\n",
      "Counts_best student organizations join        152\n",
      "Counts_literary devices used book             124\n",
      "dtype: int64\n"
     ]
    }
   ],
   "source": [
    "# Print the top 5 words in the sorted output\n",
    "print(cv_tri_df.sum().sort_values(ascending=False).head(5))"
   ]
  },
  {
   "cell_type": "code",
   "execution_count": 29,
   "metadata": {},
   "outputs": [
    {
     "data": {
      "text/html": [
       "<div>\n",
       "<style scoped>\n",
       "    .dataframe tbody tr th:only-of-type {\n",
       "        vertical-align: middle;\n",
       "    }\n",
       "\n",
       "    .dataframe tbody tr th {\n",
       "        vertical-align: top;\n",
       "    }\n",
       "\n",
       "    .dataframe thead th {\n",
       "        text-align: right;\n",
       "    }\n",
       "</style>\n",
       "<table border=\"1\" class=\"dataframe\">\n",
       "  <thead>\n",
       "    <tr style=\"text-align: right;\">\n",
       "      <th></th>\n",
       "      <th>qid</th>\n",
       "      <th>question_stemmed</th>\n",
       "      <th>target</th>\n",
       "      <th>question_length</th>\n",
       "      <th>total_words</th>\n",
       "      <th>avg_word_length_scaled</th>\n",
       "      <th>Counts_13 year old boy</th>\n",
       "      <th>Counts_13 year old girl</th>\n",
       "      <th>Counts_14 year old boy</th>\n",
       "      <th>Counts_14 year old girl</th>\n",
       "      <th>...</th>\n",
       "      <th>Counts_useful tips students starting</th>\n",
       "      <th>Counts_utilize people asset help</th>\n",
       "      <th>Counts_whats backstory movie got</th>\n",
       "      <th>Counts_whats best lyricline song</th>\n",
       "      <th>Counts_whats best way learn</th>\n",
       "      <th>Counts_whats best way make</th>\n",
       "      <th>Counts_whats weirdest thing youve</th>\n",
       "      <th>Counts_writing style structure book</th>\n",
       "      <th>Counts_writing style structure novel</th>\n",
       "      <th>Counts_writing style used book</th>\n",
       "    </tr>\n",
       "  </thead>\n",
       "  <tbody>\n",
       "    <tr>\n",
       "      <th>0</th>\n",
       "      <td>4d2e2796dd1ced2c8e64</td>\n",
       "      <td>prospects international students httpwwwophamm...</td>\n",
       "      <td>0</td>\n",
       "      <td>240</td>\n",
       "      <td>12</td>\n",
       "      <td>0.377358</td>\n",
       "      <td>0</td>\n",
       "      <td>0</td>\n",
       "      <td>0</td>\n",
       "      <td>0</td>\n",
       "      <td>...</td>\n",
       "      <td>0</td>\n",
       "      <td>0</td>\n",
       "      <td>0</td>\n",
       "      <td>0</td>\n",
       "      <td>0</td>\n",
       "      <td>0</td>\n",
       "      <td>0</td>\n",
       "      <td>0</td>\n",
       "      <td>0</td>\n",
       "      <td>0</td>\n",
       "    </tr>\n",
       "    <tr>\n",
       "      <th>1</th>\n",
       "      <td>1729272298ed7f6cf789</td>\n",
       "      <td>could probing quantum world vacuum virtual par...</td>\n",
       "      <td>0</td>\n",
       "      <td>221</td>\n",
       "      <td>26</td>\n",
       "      <td>0.160377</td>\n",
       "      <td>0</td>\n",
       "      <td>0</td>\n",
       "      <td>0</td>\n",
       "      <td>0</td>\n",
       "      <td>...</td>\n",
       "      <td>0</td>\n",
       "      <td>0</td>\n",
       "      <td>0</td>\n",
       "      <td>0</td>\n",
       "      <td>0</td>\n",
       "      <td>0</td>\n",
       "      <td>0</td>\n",
       "      <td>0</td>\n",
       "      <td>0</td>\n",
       "      <td>0</td>\n",
       "    </tr>\n",
       "    <tr>\n",
       "      <th>2</th>\n",
       "      <td>c4ee0b28e195a3d515a5</td>\n",
       "      <td>mention good book containing quotations great ...</td>\n",
       "      <td>0</td>\n",
       "      <td>219</td>\n",
       "      <td>29</td>\n",
       "      <td>0.142485</td>\n",
       "      <td>0</td>\n",
       "      <td>0</td>\n",
       "      <td>0</td>\n",
       "      <td>0</td>\n",
       "      <td>...</td>\n",
       "      <td>0</td>\n",
       "      <td>0</td>\n",
       "      <td>0</td>\n",
       "      <td>0</td>\n",
       "      <td>0</td>\n",
       "      <td>0</td>\n",
       "      <td>0</td>\n",
       "      <td>0</td>\n",
       "      <td>0</td>\n",
       "      <td>0</td>\n",
       "    </tr>\n",
       "    <tr>\n",
       "      <th>3</th>\n",
       "      <td>5a3f6882c1fc8319eff1</td>\n",
       "      <td>didnt genghiz khan thee great khan abolish des...</td>\n",
       "      <td>1</td>\n",
       "      <td>218</td>\n",
       "      <td>32</td>\n",
       "      <td>0.128538</td>\n",
       "      <td>0</td>\n",
       "      <td>0</td>\n",
       "      <td>0</td>\n",
       "      <td>0</td>\n",
       "      <td>...</td>\n",
       "      <td>0</td>\n",
       "      <td>0</td>\n",
       "      <td>0</td>\n",
       "      <td>0</td>\n",
       "      <td>0</td>\n",
       "      <td>0</td>\n",
       "      <td>0</td>\n",
       "      <td>0</td>\n",
       "      <td>0</td>\n",
       "      <td>0</td>\n",
       "    </tr>\n",
       "    <tr>\n",
       "      <th>4</th>\n",
       "      <td>6a71d18ec595137eb634</td>\n",
       "      <td>india harbor many scammers thieves con artists...</td>\n",
       "      <td>1</td>\n",
       "      <td>218</td>\n",
       "      <td>27</td>\n",
       "      <td>0.152341</td>\n",
       "      <td>0</td>\n",
       "      <td>0</td>\n",
       "      <td>0</td>\n",
       "      <td>0</td>\n",
       "      <td>...</td>\n",
       "      <td>0</td>\n",
       "      <td>0</td>\n",
       "      <td>0</td>\n",
       "      <td>0</td>\n",
       "      <td>0</td>\n",
       "      <td>0</td>\n",
       "      <td>0</td>\n",
       "      <td>0</td>\n",
       "      <td>0</td>\n",
       "      <td>0</td>\n",
       "    </tr>\n",
       "  </tbody>\n",
       "</table>\n",
       "<p>5 rows × 106 columns</p>\n",
       "</div>"
      ],
      "text/plain": [
       "                    qid                                   question_stemmed  \\\n",
       "0  4d2e2796dd1ced2c8e64  prospects international students httpwwwophamm...   \n",
       "1  1729272298ed7f6cf789  could probing quantum world vacuum virtual par...   \n",
       "2  c4ee0b28e195a3d515a5  mention good book containing quotations great ...   \n",
       "3  5a3f6882c1fc8319eff1  didnt genghiz khan thee great khan abolish des...   \n",
       "4  6a71d18ec595137eb634  india harbor many scammers thieves con artists...   \n",
       "\n",
       "   target  question_length  total_words  avg_word_length_scaled  \\\n",
       "0       0              240           12                0.377358   \n",
       "1       0              221           26                0.160377   \n",
       "2       0              219           29                0.142485   \n",
       "3       1              218           32                0.128538   \n",
       "4       1              218           27                0.152341   \n",
       "\n",
       "   Counts_13 year old boy  Counts_13 year old girl  Counts_14 year old boy  \\\n",
       "0                       0                        0                       0   \n",
       "1                       0                        0                       0   \n",
       "2                       0                        0                       0   \n",
       "3                       0                        0                       0   \n",
       "4                       0                        0                       0   \n",
       "\n",
       "   Counts_14 year old girl  ...  Counts_useful tips students starting  \\\n",
       "0                        0  ...                                     0   \n",
       "1                        0  ...                                     0   \n",
       "2                        0  ...                                     0   \n",
       "3                        0  ...                                     0   \n",
       "4                        0  ...                                     0   \n",
       "\n",
       "   Counts_utilize people asset help  Counts_whats backstory movie got  \\\n",
       "0                                 0                                 0   \n",
       "1                                 0                                 0   \n",
       "2                                 0                                 0   \n",
       "3                                 0                                 0   \n",
       "4                                 0                                 0   \n",
       "\n",
       "   Counts_whats best lyricline song  Counts_whats best way learn  \\\n",
       "0                                 0                            0   \n",
       "1                                 0                            0   \n",
       "2                                 0                            0   \n",
       "3                                 0                            0   \n",
       "4                                 0                            0   \n",
       "\n",
       "   Counts_whats best way make  Counts_whats weirdest thing youve  \\\n",
       "0                           0                                  0   \n",
       "1                           0                                  0   \n",
       "2                           0                                  0   \n",
       "3                           0                                  0   \n",
       "4                           0                                  0   \n",
       "\n",
       "   Counts_writing style structure book  Counts_writing style structure novel  \\\n",
       "0                                    0                                     0   \n",
       "1                                    0                                     0   \n",
       "2                                    0                                     0   \n",
       "3                                    0                                     0   \n",
       "4                                    0                                     0   \n",
       "\n",
       "   Counts_writing style used book  \n",
       "0                               0  \n",
       "1                               0  \n",
       "2                               0  \n",
       "3                               0  \n",
       "4                               0  \n",
       "\n",
       "[5 rows x 106 columns]"
      ]
     },
     "execution_count": 29,
     "metadata": {},
     "output_type": "execute_result"
    }
   ],
   "source": [
    "df_final = pd.concat([df_numeric_scaled, cv_tri_df], axis=1, sort=False)\n",
    "df_final.head(5)"
   ]
  },
  {
   "cell_type": "markdown",
   "metadata": {},
   "source": [
    "### Split into testing and training datasets "
   ]
  },
  {
   "cell_type": "code",
   "execution_count": 30,
   "metadata": {},
   "outputs": [],
   "source": [
    "from sklearn.model_selection import train_test_split\n",
    "\n",
    "train_df, test_df = train_test_split(df_final, test_size=0.2)"
   ]
  },
  {
   "cell_type": "code",
   "execution_count": 31,
   "metadata": {},
   "outputs": [
    {
     "data": {
      "text/plain": [
       "(813355, 106)"
      ]
     },
     "execution_count": 31,
     "metadata": {},
     "output_type": "execute_result"
    }
   ],
   "source": [
    "train_df.shape"
   ]
  },
  {
   "cell_type": "code",
   "execution_count": 32,
   "metadata": {},
   "outputs": [
    {
     "data": {
      "text/plain": [
       "(203339, 106)"
      ]
     },
     "execution_count": 32,
     "metadata": {},
     "output_type": "execute_result"
    }
   ],
   "source": [
    "test_df.shape"
   ]
  },
  {
   "cell_type": "code",
   "execution_count": 33,
   "metadata": {},
   "outputs": [
    {
     "data": {
      "text/html": [
       "<div>\n",
       "<style scoped>\n",
       "    .dataframe tbody tr th:only-of-type {\n",
       "        vertical-align: middle;\n",
       "    }\n",
       "\n",
       "    .dataframe tbody tr th {\n",
       "        vertical-align: top;\n",
       "    }\n",
       "\n",
       "    .dataframe thead th {\n",
       "        text-align: right;\n",
       "    }\n",
       "</style>\n",
       "<table border=\"1\" class=\"dataframe\">\n",
       "  <thead>\n",
       "    <tr style=\"text-align: right;\">\n",
       "      <th></th>\n",
       "      <th>qid</th>\n",
       "      <th>question_stemmed</th>\n",
       "      <th>target</th>\n",
       "      <th>question_length</th>\n",
       "      <th>total_words</th>\n",
       "      <th>avg_word_length_scaled</th>\n",
       "      <th>Counts_13 year old boy</th>\n",
       "      <th>Counts_13 year old girl</th>\n",
       "      <th>Counts_14 year old boy</th>\n",
       "      <th>Counts_14 year old girl</th>\n",
       "      <th>...</th>\n",
       "      <th>Counts_useful tips students starting</th>\n",
       "      <th>Counts_utilize people asset help</th>\n",
       "      <th>Counts_whats backstory movie got</th>\n",
       "      <th>Counts_whats best lyricline song</th>\n",
       "      <th>Counts_whats best way learn</th>\n",
       "      <th>Counts_whats best way make</th>\n",
       "      <th>Counts_whats weirdest thing youve</th>\n",
       "      <th>Counts_writing style structure book</th>\n",
       "      <th>Counts_writing style structure novel</th>\n",
       "      <th>Counts_writing style used book</th>\n",
       "    </tr>\n",
       "  </thead>\n",
       "  <tbody>\n",
       "    <tr>\n",
       "      <th>58056</th>\n",
       "      <td>3630d3830c76108c2d8c</td>\n",
       "      <td>democrats think freedom speech applies think o...</td>\n",
       "      <td>1</td>\n",
       "      <td>92</td>\n",
       "      <td>13</td>\n",
       "      <td>0.133527</td>\n",
       "      <td>0</td>\n",
       "      <td>0</td>\n",
       "      <td>0</td>\n",
       "      <td>0</td>\n",
       "      <td>...</td>\n",
       "      <td>0</td>\n",
       "      <td>0</td>\n",
       "      <td>0</td>\n",
       "      <td>0</td>\n",
       "      <td>0</td>\n",
       "      <td>0</td>\n",
       "      <td>0</td>\n",
       "      <td>0</td>\n",
       "      <td>0</td>\n",
       "      <td>0</td>\n",
       "    </tr>\n",
       "    <tr>\n",
       "      <th>708521</th>\n",
       "      <td>0ba3af7ac1281916f623</td>\n",
       "      <td>change occur britons british</td>\n",
       "      <td>0</td>\n",
       "      <td>28</td>\n",
       "      <td>4</td>\n",
       "      <td>0.132075</td>\n",
       "      <td>0</td>\n",
       "      <td>0</td>\n",
       "      <td>0</td>\n",
       "      <td>0</td>\n",
       "      <td>...</td>\n",
       "      <td>0</td>\n",
       "      <td>0</td>\n",
       "      <td>0</td>\n",
       "      <td>0</td>\n",
       "      <td>0</td>\n",
       "      <td>0</td>\n",
       "      <td>0</td>\n",
       "      <td>0</td>\n",
       "      <td>0</td>\n",
       "      <td>0</td>\n",
       "    </tr>\n",
       "    <tr>\n",
       "      <th>1013236</th>\n",
       "      <td>5f33219eab2d400aba80</td>\n",
       "      <td>want spect</td>\n",
       "      <td>0</td>\n",
       "      <td>10</td>\n",
       "      <td>2</td>\n",
       "      <td>0.094340</td>\n",
       "      <td>0</td>\n",
       "      <td>0</td>\n",
       "      <td>0</td>\n",
       "      <td>0</td>\n",
       "      <td>...</td>\n",
       "      <td>0</td>\n",
       "      <td>0</td>\n",
       "      <td>0</td>\n",
       "      <td>0</td>\n",
       "      <td>0</td>\n",
       "      <td>0</td>\n",
       "      <td>0</td>\n",
       "      <td>0</td>\n",
       "      <td>0</td>\n",
       "      <td>0</td>\n",
       "    </tr>\n",
       "    <tr>\n",
       "      <th>211063</th>\n",
       "      <td>57c418083a7a82d79c28</td>\n",
       "      <td>indians less creative native developed countri...</td>\n",
       "      <td>1</td>\n",
       "      <td>59</td>\n",
       "      <td>9</td>\n",
       "      <td>0.123690</td>\n",
       "      <td>0</td>\n",
       "      <td>0</td>\n",
       "      <td>0</td>\n",
       "      <td>0</td>\n",
       "      <td>...</td>\n",
       "      <td>0</td>\n",
       "      <td>0</td>\n",
       "      <td>0</td>\n",
       "      <td>0</td>\n",
       "      <td>0</td>\n",
       "      <td>0</td>\n",
       "      <td>0</td>\n",
       "      <td>0</td>\n",
       "      <td>0</td>\n",
       "      <td>0</td>\n",
       "    </tr>\n",
       "    <tr>\n",
       "      <th>68</th>\n",
       "      <td>92d6313fa7df390efe5d</td>\n",
       "      <td>barack obama think would defeated donald trump...</td>\n",
       "      <td>1</td>\n",
       "      <td>197</td>\n",
       "      <td>27</td>\n",
       "      <td>0.137666</td>\n",
       "      <td>0</td>\n",
       "      <td>0</td>\n",
       "      <td>0</td>\n",
       "      <td>0</td>\n",
       "      <td>...</td>\n",
       "      <td>0</td>\n",
       "      <td>0</td>\n",
       "      <td>0</td>\n",
       "      <td>0</td>\n",
       "      <td>0</td>\n",
       "      <td>0</td>\n",
       "      <td>0</td>\n",
       "      <td>0</td>\n",
       "      <td>0</td>\n",
       "      <td>0</td>\n",
       "    </tr>\n",
       "  </tbody>\n",
       "</table>\n",
       "<p>5 rows × 106 columns</p>\n",
       "</div>"
      ],
      "text/plain": [
       "                          qid  \\\n",
       "58056    3630d3830c76108c2d8c   \n",
       "708521   0ba3af7ac1281916f623   \n",
       "1013236  5f33219eab2d400aba80   \n",
       "211063   57c418083a7a82d79c28   \n",
       "68       92d6313fa7df390efe5d   \n",
       "\n",
       "                                          question_stemmed  target  \\\n",
       "58056    democrats think freedom speech applies think o...       1   \n",
       "708521                        change occur britons british       0   \n",
       "1013236                                         want spect       0   \n",
       "211063   indians less creative native developed countri...       1   \n",
       "68       barack obama think would defeated donald trump...       1   \n",
       "\n",
       "         question_length  total_words  avg_word_length_scaled  \\\n",
       "58056                 92           13                0.133527   \n",
       "708521                28            4                0.132075   \n",
       "1013236               10            2                0.094340   \n",
       "211063                59            9                0.123690   \n",
       "68                   197           27                0.137666   \n",
       "\n",
       "         Counts_13 year old boy  Counts_13 year old girl  \\\n",
       "58056                         0                        0   \n",
       "708521                        0                        0   \n",
       "1013236                       0                        0   \n",
       "211063                        0                        0   \n",
       "68                            0                        0   \n",
       "\n",
       "         Counts_14 year old boy  Counts_14 year old girl  ...  \\\n",
       "58056                         0                        0  ...   \n",
       "708521                        0                        0  ...   \n",
       "1013236                       0                        0  ...   \n",
       "211063                        0                        0  ...   \n",
       "68                            0                        0  ...   \n",
       "\n",
       "         Counts_useful tips students starting  \\\n",
       "58056                                       0   \n",
       "708521                                      0   \n",
       "1013236                                     0   \n",
       "211063                                      0   \n",
       "68                                          0   \n",
       "\n",
       "         Counts_utilize people asset help  Counts_whats backstory movie got  \\\n",
       "58056                                   0                                 0   \n",
       "708521                                  0                                 0   \n",
       "1013236                                 0                                 0   \n",
       "211063                                  0                                 0   \n",
       "68                                      0                                 0   \n",
       "\n",
       "         Counts_whats best lyricline song  Counts_whats best way learn  \\\n",
       "58056                                   0                            0   \n",
       "708521                                  0                            0   \n",
       "1013236                                 0                            0   \n",
       "211063                                  0                            0   \n",
       "68                                      0                            0   \n",
       "\n",
       "         Counts_whats best way make  Counts_whats weirdest thing youve  \\\n",
       "58056                             0                                  0   \n",
       "708521                            0                                  0   \n",
       "1013236                           0                                  0   \n",
       "211063                            0                                  0   \n",
       "68                                0                                  0   \n",
       "\n",
       "         Counts_writing style structure book  \\\n",
       "58056                                      0   \n",
       "708521                                     0   \n",
       "1013236                                    0   \n",
       "211063                                     0   \n",
       "68                                         0   \n",
       "\n",
       "         Counts_writing style structure novel  Counts_writing style used book  \n",
       "58056                                       0                               0  \n",
       "708521                                      0                               0  \n",
       "1013236                                     0                               0  \n",
       "211063                                      0                               0  \n",
       "68                                          0                               0  \n",
       "\n",
       "[5 rows x 106 columns]"
      ]
     },
     "execution_count": 33,
     "metadata": {},
     "output_type": "execute_result"
    }
   ],
   "source": [
    "test_df.head(5)"
   ]
  },
  {
   "cell_type": "code",
   "execution_count": 34,
   "metadata": {},
   "outputs": [],
   "source": [
    "test_df.to_csv(\"data/FeatureEngineering_Test.csv\")"
   ]
  },
  {
   "cell_type": "code",
   "execution_count": 35,
   "metadata": {},
   "outputs": [],
   "source": [
    "train_df.to_csv(\"data/FeatureEngineering_Train.csv\")"
   ]
  },
  {
   "cell_type": "code",
   "execution_count": null,
   "metadata": {},
   "outputs": [],
   "source": []
  }
 ],
 "metadata": {
  "kernelspec": {
   "display_name": "Python 3",
   "language": "python",
   "name": "python3"
  },
  "language_info": {
   "codemirror_mode": {
    "name": "ipython",
    "version": 3
   },
   "file_extension": ".py",
   "mimetype": "text/x-python",
   "name": "python",
   "nbconvert_exporter": "python",
   "pygments_lexer": "ipython3",
   "version": "3.6.8"
  }
 },
 "nbformat": 4,
 "nbformat_minor": 2
}
