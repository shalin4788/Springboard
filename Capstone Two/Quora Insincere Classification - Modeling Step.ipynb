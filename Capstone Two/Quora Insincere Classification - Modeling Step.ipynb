{
 "cells": [
  {
   "cell_type": "markdown",
   "metadata": {},
   "source": [
    "# Quora Insincere Questions Classification"
   ]
  },
  {
   "cell_type": "markdown",
   "metadata": {},
   "source": [
    "## Capstone Project Two : Springboard Data Science career track"
   ]
  },
  {
   "cell_type": "markdown",
   "metadata": {},
   "source": [
    "### Notebook by Shalin Gosalia"
   ]
  },
  {
   "cell_type": "markdown",
   "metadata": {},
   "source": [
    "## Introduction"
   ]
  },
  {
   "cell_type": "markdown",
   "metadata": {},
   "source": [
    "### 1. The problem \n"
   ]
  },
  {
   "cell_type": "markdown",
   "metadata": {},
   "source": [
    "Quora is a platform that empowers people to learn from each other. On Quora, people can ask questions and connect with others who contribute unique insights and quality answers. A key challenge is to weed out insincere questions -- those founded upon false premises, or that intend to make a statement rather than look for helpful answers.\n",
    "\n",
    "An existential problem for any major website today is how to handle toxic and divisive content. Quora wants to tackle this problem head-on to keep their platform a place where users can feel safe sharing their knowledge with the world."
   ]
  },
  {
   "cell_type": "markdown",
   "metadata": {},
   "source": [
    "### 2. The Data:"
   ]
  },
  {
   "cell_type": "markdown",
   "metadata": {},
   "source": [
    "The Kaggle hosts the original problem and the dataset in their website as one of their competitions. \n",
    "\n",
    "Data files contain\n",
    "- Training and testing data set where training data set contains quora questionId’s with insincere content marked by value = 1, otherwise 0\n",
    "- Number of word embeddings along with the dataset that can be used in the models\n",
    "The file is a matrix of about 376 thousand observations and 7 variables.\n",
    "\n",
    "\n",
    "For the purpose of this project, I downloaded the data from the Kaggle website. \n",
    "- Therafter I performed Data Wrangling, pre-processing and training data development\n",
    "- After the above steps, the data was condensed into 101K observations which is further broken down into training and testing data set containing 506 features created by count vectorization of 'question_text' column"
   ]
  },
  {
   "cell_type": "markdown",
   "metadata": {},
   "source": [
    "These are some data wrangling and exploratory analysis from the previous part. For details on how the data was pre-processed and how EDA was performed, see the following notebooks:\n",
    "\n",
    "https://github.com/shalin4788/Springboard/blob/master/Capstone%20Two/Quora%20Insincere%20Capstone%20Data%20Wrangling.ipynb\n",
    "https://github.com/shalin4788/Springboard/blob/master/Capstone%20Two/EDA_Quora%20Insincere%20Capstone%20Data.ipynb\n",
    "https://github.com/shalin4788/Springboard/blob/master/Capstone%20Two/Preprocessing%20and%20Training%20Data%20Development.ipynb"
   ]
  },
  {
   "cell_type": "markdown",
   "metadata": {},
   "source": [
    "### 3. The questions of interest:"
   ]
  },
  {
   "cell_type": "markdown",
   "metadata": {},
   "source": [
    "**Objective** - Develop models that identify and flags/ correctly classifies insincere questions and determine classification scores"
   ]
  },
  {
   "cell_type": "markdown",
   "metadata": {},
   "source": [
    "### 4. Import the necessary libraries and the data:"
   ]
  },
  {
   "cell_type": "markdown",
   "metadata": {},
   "source": [
    "To start, let's first import all the necessary modules and libraries and read the data set into the Pandas dataframe. "
   ]
  },
  {
   "cell_type": "code",
   "execution_count": 1,
   "metadata": {},
   "outputs": [
    {
     "name": "stderr",
     "output_type": "stream",
     "text": [
      "\n",
      "Bad key \"text.kerning_factor\" on line 4 in\n",
      "C:\\Users\\gosal\\Anaconda3_2\\lib\\site-packages\\matplotlib\\mpl-data\\stylelib\\_classic_test_patch.mplstyle.\n",
      "You probably need to get an updated matplotlibrc file from\n",
      "http://github.com/matplotlib/matplotlib/blob/master/matplotlibrc.template\n",
      "or from the matplotlib source distribution\n"
     ]
    }
   ],
   "source": [
    "#os.getcwd()\n",
    "#os.chdir\n",
    "\n",
    "import os\n",
    "import math \n",
    "import numpy as np\n",
    "import pandas as pd\n",
    "import matplotlib.pyplot as plt\n",
    "import seaborn as sns\n",
    "import nltk\n",
    "from nltk.tokenize import word_tokenize\n",
    "from sklearn.feature_extraction.text import TfidfVectorizer\n",
    "\n",
    "#ignore warning messages to ensure clean outputs\n",
    "import warnings\n",
    "warnings.filterwarnings('ignore')"
   ]
  },
  {
   "cell_type": "code",
   "execution_count": 2,
   "metadata": {},
   "outputs": [],
   "source": [
    "train_df = pd.read_csv('.\\data\\FeatureEngineering_Train.csv')\n",
    "test_df = pd.read_csv('.\\data\\FeatureEngineering_Test.csv')"
   ]
  },
  {
   "cell_type": "code",
   "execution_count": 3,
   "metadata": {},
   "outputs": [],
   "source": [
    "#cat /proc/sys/vm/overcommit_memory"
   ]
  },
  {
   "cell_type": "code",
   "execution_count": 3,
   "metadata": {},
   "outputs": [
    {
     "data": {
      "text/html": [
       "<div>\n",
       "<style scoped>\n",
       "    .dataframe tbody tr th:only-of-type {\n",
       "        vertical-align: middle;\n",
       "    }\n",
       "\n",
       "    .dataframe tbody tr th {\n",
       "        vertical-align: top;\n",
       "    }\n",
       "\n",
       "    .dataframe thead th {\n",
       "        text-align: right;\n",
       "    }\n",
       "</style>\n",
       "<table border=\"1\" class=\"dataframe\">\n",
       "  <thead>\n",
       "    <tr style=\"text-align: right;\">\n",
       "      <th></th>\n",
       "      <th>qid</th>\n",
       "      <th>target</th>\n",
       "      <th>question_length</th>\n",
       "      <th>total_words</th>\n",
       "      <th>avg_word_length_scaled</th>\n",
       "      <th>question_final</th>\n",
       "      <th>Counts_10 year ago</th>\n",
       "      <th>Counts_10 year experi</th>\n",
       "      <th>Counts_10 year old</th>\n",
       "      <th>Counts_11 year old</th>\n",
       "      <th>...</th>\n",
       "      <th>Counts_year old kid</th>\n",
       "      <th>Counts_year old male</th>\n",
       "      <th>Counts_year old man</th>\n",
       "      <th>Counts_year old son</th>\n",
       "      <th>Counts_year old start</th>\n",
       "      <th>Counts_year old want</th>\n",
       "      <th>Counts_year old woman</th>\n",
       "      <th>Counts_year question paper</th>\n",
       "      <th>Counts_year work experi</th>\n",
       "      <th>Counts_youtub channel learn</th>\n",
       "    </tr>\n",
       "  </thead>\n",
       "  <tbody>\n",
       "    <tr>\n",
       "      <th>0</th>\n",
       "      <td>2999215872019d2a27fd</td>\n",
       "      <td>0</td>\n",
       "      <td>59</td>\n",
       "      <td>10</td>\n",
       "      <td>0.111321</td>\n",
       "      <td>much would pay whole loaf pumpkin bread piec p...</td>\n",
       "      <td>0</td>\n",
       "      <td>0</td>\n",
       "      <td>0</td>\n",
       "      <td>0</td>\n",
       "      <td>...</td>\n",
       "      <td>0</td>\n",
       "      <td>0</td>\n",
       "      <td>0</td>\n",
       "      <td>0</td>\n",
       "      <td>0</td>\n",
       "      <td>0</td>\n",
       "      <td>0</td>\n",
       "      <td>0</td>\n",
       "      <td>0</td>\n",
       "      <td>0</td>\n",
       "    </tr>\n",
       "    <tr>\n",
       "      <th>1</th>\n",
       "      <td>77a247715e50b684b25e</td>\n",
       "      <td>0</td>\n",
       "      <td>37</td>\n",
       "      <td>4</td>\n",
       "      <td>0.174528</td>\n",
       "      <td>recognis differ chiffon georgett</td>\n",
       "      <td>0</td>\n",
       "      <td>0</td>\n",
       "      <td>0</td>\n",
       "      <td>0</td>\n",
       "      <td>...</td>\n",
       "      <td>0</td>\n",
       "      <td>0</td>\n",
       "      <td>0</td>\n",
       "      <td>0</td>\n",
       "      <td>0</td>\n",
       "      <td>0</td>\n",
       "      <td>0</td>\n",
       "      <td>0</td>\n",
       "      <td>0</td>\n",
       "      <td>0</td>\n",
       "    </tr>\n",
       "  </tbody>\n",
       "</table>\n",
       "<p>2 rows × 506 columns</p>\n",
       "</div>"
      ],
      "text/plain": [
       "                    qid  target  question_length  total_words  \\\n",
       "0  2999215872019d2a27fd       0               59           10   \n",
       "1  77a247715e50b684b25e       0               37            4   \n",
       "\n",
       "   avg_word_length_scaled                                     question_final  \\\n",
       "0                0.111321  much would pay whole loaf pumpkin bread piec p...   \n",
       "1                0.174528                   recognis differ chiffon georgett   \n",
       "\n",
       "   Counts_10 year ago  Counts_10 year experi  Counts_10 year old  \\\n",
       "0                   0                      0                   0   \n",
       "1                   0                      0                   0   \n",
       "\n",
       "   Counts_11 year old  ...  Counts_year old kid  Counts_year old male  \\\n",
       "0                   0  ...                    0                     0   \n",
       "1                   0  ...                    0                     0   \n",
       "\n",
       "   Counts_year old man  Counts_year old son  Counts_year old start  \\\n",
       "0                    0                    0                      0   \n",
       "1                    0                    0                      0   \n",
       "\n",
       "   Counts_year old want  Counts_year old woman  Counts_year question paper  \\\n",
       "0                     0                      0                           0   \n",
       "1                     0                      0                           0   \n",
       "\n",
       "   Counts_year work experi  Counts_youtub channel learn  \n",
       "0                        0                            0  \n",
       "1                        0                            0  \n",
       "\n",
       "[2 rows x 506 columns]"
      ]
     },
     "execution_count": 3,
     "metadata": {},
     "output_type": "execute_result"
    }
   ],
   "source": [
    "train_df = train_df[train_df.columns.drop('Unnamed: 0')]\n",
    "train_df.head(2)"
   ]
  },
  {
   "cell_type": "code",
   "execution_count": 4,
   "metadata": {},
   "outputs": [
    {
     "data": {
      "text/html": [
       "<div>\n",
       "<style scoped>\n",
       "    .dataframe tbody tr th:only-of-type {\n",
       "        vertical-align: middle;\n",
       "    }\n",
       "\n",
       "    .dataframe tbody tr th {\n",
       "        vertical-align: top;\n",
       "    }\n",
       "\n",
       "    .dataframe thead th {\n",
       "        text-align: right;\n",
       "    }\n",
       "</style>\n",
       "<table border=\"1\" class=\"dataframe\">\n",
       "  <thead>\n",
       "    <tr style=\"text-align: right;\">\n",
       "      <th></th>\n",
       "      <th>qid</th>\n",
       "      <th>target</th>\n",
       "      <th>question_length</th>\n",
       "      <th>total_words</th>\n",
       "      <th>avg_word_length_scaled</th>\n",
       "      <th>question_final</th>\n",
       "      <th>Counts_10 year ago</th>\n",
       "      <th>Counts_10 year experi</th>\n",
       "      <th>Counts_10 year old</th>\n",
       "      <th>Counts_11 year old</th>\n",
       "      <th>...</th>\n",
       "      <th>Counts_year old kid</th>\n",
       "      <th>Counts_year old male</th>\n",
       "      <th>Counts_year old man</th>\n",
       "      <th>Counts_year old son</th>\n",
       "      <th>Counts_year old start</th>\n",
       "      <th>Counts_year old want</th>\n",
       "      <th>Counts_year old woman</th>\n",
       "      <th>Counts_year question paper</th>\n",
       "      <th>Counts_year work experi</th>\n",
       "      <th>Counts_youtub channel learn</th>\n",
       "    </tr>\n",
       "  </thead>\n",
       "  <tbody>\n",
       "    <tr>\n",
       "      <th>0</th>\n",
       "      <td>3f2dbbc68b33555caf0c</td>\n",
       "      <td>0</td>\n",
       "      <td>34</td>\n",
       "      <td>6</td>\n",
       "      <td>0.106918</td>\n",
       "      <td>much would cost build hotel africa</td>\n",
       "      <td>0</td>\n",
       "      <td>0</td>\n",
       "      <td>0</td>\n",
       "      <td>0</td>\n",
       "      <td>...</td>\n",
       "      <td>0</td>\n",
       "      <td>0</td>\n",
       "      <td>0</td>\n",
       "      <td>0</td>\n",
       "      <td>0</td>\n",
       "      <td>0</td>\n",
       "      <td>0</td>\n",
       "      <td>0</td>\n",
       "      <td>0</td>\n",
       "      <td>0</td>\n",
       "    </tr>\n",
       "    <tr>\n",
       "      <th>1</th>\n",
       "      <td>c9f7a145bd340d0ae1c9</td>\n",
       "      <td>0</td>\n",
       "      <td>69</td>\n",
       "      <td>11</td>\n",
       "      <td>0.118353</td>\n",
       "      <td>eras entir hard drive dell inspiron recent mod...</td>\n",
       "      <td>0</td>\n",
       "      <td>0</td>\n",
       "      <td>0</td>\n",
       "      <td>0</td>\n",
       "      <td>...</td>\n",
       "      <td>0</td>\n",
       "      <td>0</td>\n",
       "      <td>0</td>\n",
       "      <td>0</td>\n",
       "      <td>0</td>\n",
       "      <td>0</td>\n",
       "      <td>0</td>\n",
       "      <td>0</td>\n",
       "      <td>0</td>\n",
       "      <td>0</td>\n",
       "    </tr>\n",
       "  </tbody>\n",
       "</table>\n",
       "<p>2 rows × 506 columns</p>\n",
       "</div>"
      ],
      "text/plain": [
       "                    qid  target  question_length  total_words  \\\n",
       "0  3f2dbbc68b33555caf0c       0               34            6   \n",
       "1  c9f7a145bd340d0ae1c9       0               69           11   \n",
       "\n",
       "   avg_word_length_scaled                                     question_final  \\\n",
       "0                0.106918                 much would cost build hotel africa   \n",
       "1                0.118353  eras entir hard drive dell inspiron recent mod...   \n",
       "\n",
       "   Counts_10 year ago  Counts_10 year experi  Counts_10 year old  \\\n",
       "0                   0                      0                   0   \n",
       "1                   0                      0                   0   \n",
       "\n",
       "   Counts_11 year old  ...  Counts_year old kid  Counts_year old male  \\\n",
       "0                   0  ...                    0                     0   \n",
       "1                   0  ...                    0                     0   \n",
       "\n",
       "   Counts_year old man  Counts_year old son  Counts_year old start  \\\n",
       "0                    0                    0                      0   \n",
       "1                    0                    0                      0   \n",
       "\n",
       "   Counts_year old want  Counts_year old woman  Counts_year question paper  \\\n",
       "0                     0                      0                           0   \n",
       "1                     0                      0                           0   \n",
       "\n",
       "   Counts_year work experi  Counts_youtub channel learn  \n",
       "0                        0                            0  \n",
       "1                        0                            0  \n",
       "\n",
       "[2 rows x 506 columns]"
      ]
     },
     "execution_count": 4,
     "metadata": {},
     "output_type": "execute_result"
    }
   ],
   "source": [
    "test_df = test_df[test_df.columns.drop('Unnamed: 0')]\n",
    "test_df.head(2)"
   ]
  },
  {
   "cell_type": "markdown",
   "metadata": {},
   "source": [
    "### 5. Feature Selection"
   ]
  },
  {
   "cell_type": "markdown",
   "metadata": {},
   "source": [
    "These following features are engineered, from any given data column"
   ]
  },
  {
   "cell_type": "code",
   "execution_count": 5,
   "metadata": {},
   "outputs": [],
   "source": [
    "X = train_df.loc[:, ~train_df.columns.isin(['qid','target','question_length','total_words','avg_word_length_scaled','question_final'])]\n",
    "y = train_df['target']"
   ]
  },
  {
   "cell_type": "markdown",
   "metadata": {},
   "source": [
    "### 6. Modeling"
   ]
  },
  {
   "cell_type": "markdown",
   "metadata": {},
   "source": [
    "This is a classification problem, in supervised learning. Here we have used the following classification models:\n",
    "\n",
    "- Logistic Regression\n",
    "    - Naive\n",
    "    - With L2 regularization\n",
    "- Naive Bayes\n",
    "- Decision Trees\n",
    "- Random Forest\n",
    "- Gradient Boost"
   ]
  },
  {
   "cell_type": "code",
   "execution_count": 6,
   "metadata": {},
   "outputs": [],
   "source": [
    "#Import ML models:\n",
    "import time\n",
    "from sklearn.model_selection import train_test_split\n",
    "from sklearn.model_selection import cross_val_score\n",
    "from sklearn.linear_model import LogisticRegression\n",
    "from sklearn.neighbors import KNeighborsClassifier\n",
    "from sklearn.model_selection import learning_curve, GridSearchCV\n",
    "from sklearn.ensemble import RandomForestClassifier, GradientBoostingClassifier\n",
    "from sklearn.naive_bayes import GaussianNB\n",
    "from sklearn import tree,metrics\n",
    "from sklearn.metrics import accuracy_score, f1_score, recall_score, precision_score, roc_auc_score, precision_recall_fscore_support as score\n",
    "from sklearn.metrics import plot_confusion_matrix, classification_report, confusion_matrix, roc_curve, auc"
   ]
  },
  {
   "cell_type": "code",
   "execution_count": 8,
   "metadata": {},
   "outputs": [],
   "source": [
    "#$ cat /proc/sys/vm/overcommit_memory"
   ]
  },
  {
   "cell_type": "code",
   "execution_count": 7,
   "metadata": {},
   "outputs": [],
   "source": [
    "X_train, X_test, y_train, y_test = train_test_split(X, y, test_size =0.3, random_state=42)"
   ]
  },
  {
   "cell_type": "markdown",
   "metadata": {},
   "source": [
    "##### 6a. Logistic Regression"
   ]
  },
  {
   "cell_type": "markdown",
   "metadata": {},
   "source": [
    "###### Logistic Regression (Naive)"
   ]
  },
  {
   "cell_type": "code",
   "execution_count": 10,
   "metadata": {
    "scrolled": false
   },
   "outputs": [
    {
     "name": "stdout",
     "output_type": "stream",
     "text": [
      "====Naive Logistic Regression====\n",
      "Accuracy score: 0.9381411189023265\n",
      "Precision score: 0.6521739130434783\n"
     ]
    }
   ],
   "source": [
    "clf = LogisticRegression()\n",
    "# Fit the model on the trainng data.\n",
    "clf.fit(X_train, y_train)\n",
    "# Print the accuracy from the testing data.\n",
    "print('====Naive Logistic Regression====')\n",
    "print('Accuracy score:', accuracy_score(y_test, clf.predict(X_test)))\n",
    "print('Precision score:', precision_score(y_test, clf.predict(X_test)))"
   ]
  },
  {
   "cell_type": "markdown",
   "metadata": {},
   "source": [
    "###### Logistic Regression (With L2 Regularization)"
   ]
  },
  {
   "cell_type": "code",
   "execution_count": 11,
   "metadata": {},
   "outputs": [
    {
     "data": {
      "text/html": [
       "<div>\n",
       "<style scoped>\n",
       "    .dataframe tbody tr th:only-of-type {\n",
       "        vertical-align: middle;\n",
       "    }\n",
       "\n",
       "    .dataframe tbody tr th {\n",
       "        vertical-align: top;\n",
       "    }\n",
       "\n",
       "    .dataframe thead th {\n",
       "        text-align: right;\n",
       "    }\n",
       "</style>\n",
       "<table border=\"1\" class=\"dataframe\">\n",
       "  <thead>\n",
       "    <tr style=\"text-align: right;\">\n",
       "      <th></th>\n",
       "      <th>C_parameter</th>\n",
       "      <th>Accuracy</th>\n",
       "    </tr>\n",
       "  </thead>\n",
       "  <tbody>\n",
       "    <tr>\n",
       "      <th>0</th>\n",
       "      <td>1</td>\n",
       "      <td>0.938141</td>\n",
       "    </tr>\n",
       "    <tr>\n",
       "      <th>1</th>\n",
       "      <td>10</td>\n",
       "      <td>0.938166</td>\n",
       "    </tr>\n",
       "    <tr>\n",
       "      <th>2</th>\n",
       "      <td>100</td>\n",
       "      <td>0.938162</td>\n",
       "    </tr>\n",
       "    <tr>\n",
       "      <th>3</th>\n",
       "      <td>1000</td>\n",
       "      <td>0.938153</td>\n",
       "    </tr>\n",
       "    <tr>\n",
       "      <th>4</th>\n",
       "      <td>10000</td>\n",
       "      <td>0.938158</td>\n",
       "    </tr>\n",
       "  </tbody>\n",
       "</table>\n",
       "</div>"
      ],
      "text/plain": [
       "   C_parameter  Accuracy\n",
       "0            1  0.938141\n",
       "1           10  0.938166\n",
       "2          100  0.938162\n",
       "3         1000  0.938153\n",
       "4        10000  0.938158"
      ]
     },
     "execution_count": 11,
     "metadata": {},
     "output_type": "execute_result"
    }
   ],
   "source": [
    "C_param_range = [1,10,100, 1000, 10000]\n",
    "\n",
    "table = pd.DataFrame(columns = ['C_parameter','Accuracy'])\n",
    "table['C_parameter'] = C_param_range\n",
    "\n",
    "\n",
    "j = 0\n",
    "for i in C_param_range:\n",
    "    # Apply logistic regression model to training data\n",
    "    Logreg = LogisticRegression(penalty = 'l2', C = i,random_state = 40)\n",
    "    Logreg.fit(X_train,y_train)\n",
    "    #Predict using model\n",
    "    #train_score = Logreg.score(X_train, y_train)\n",
    "    y_pred_lr = Logreg.predict(X_test)\n",
    "    # Saving accuracy score in table\n",
    "    table.iloc[j,1] = accuracy_score(y_test,y_pred_lr)\n",
    "    j += 1\n",
    "    \n",
    "table"
   ]
  },
  {
   "cell_type": "code",
   "execution_count": 12,
   "metadata": {},
   "outputs": [
    {
     "name": "stdout",
     "output_type": "stream",
     "text": [
      "====Logistic Regression w/ L2 Regularization====\n",
      "Accuracy: 0.9381657083608257\n",
      "Balanced accuracy: 0.5020053827864013\n",
      "Precision score 0.6363636363636364\n",
      "Recall score 0.004168044988422097\n"
     ]
    },
    {
     "data": {
      "image/png": "[encoded data removed]",
      "text/plain": [
       "<Figure size 432x288 with 2 Axes>"
      ]
     },
     "metadata": {
      "needs_background": "light"
     },
     "output_type": "display_data"
    },
    {
     "name": "stdout",
     "output_type": "stream",
     "text": [
      "[[228856     36]\n",
      " [ 15052     63]]\n"
     ]
    }
   ],
   "source": [
    "Logreg = LogisticRegression(penalty = 'l2', C = 10,random_state = 40)\n",
    "\n",
    "Logreg.fit(X_train,y_train)\n",
    "\n",
    "y_pred_lr = Logreg.predict(X_test)\n",
    "print('====Logistic Regression w/ L2 Regularization====')\n",
    "print('Accuracy:', metrics.accuracy_score(y_test,y_pred_lr))\n",
    "print('Balanced accuracy:', metrics.balanced_accuracy_score(y_test,y_pred_lr))\n",
    "print('Precision score' , metrics.precision_score(y_test,y_pred_lr, pos_label = 1))\n",
    "print('Recall score' , metrics.recall_score(y_test,y_pred_lr, pos_label = 1))\n",
    "cnf_matrix= confusion_matrix(y_test,y_pred_lr)\n",
    "\n",
    "_ = plot_confusion_matrix(Logreg, X_test, y_test) \n",
    "_ = plt.title('Insincere questions - 1, Sincere questions - 0')\n",
    "_ = plt.show()\n",
    "\n",
    "print(cnf_matrix)"
   ]
  },
  {
   "cell_type": "markdown",
   "metadata": {},
   "source": [
    "#### 6b. Naive Bayes"
   ]
  },
  {
   "cell_type": "code",
   "execution_count": 13,
   "metadata": {},
   "outputs": [],
   "source": [
    "#def train_KNN(n_neighbors):\n",
    "#    # Apply K-nearest Neighbor model to training data\n",
    "#    knn = KNeighborsClassifier(n_neighbors = n)\n",
    "#    knn.fit(X_train, y_train)\n",
    "#    train_score = knn.score(X_train, y_train)\n",
    "#    test_score = knn.score(X_test, y_test)\n",
    "#    y_pred_knn = knn.predict(X_test)\n",
    "#    print('Train score: {} / Test score: {} for {} neighbors'.format(train_score, test_score, n))"
   ]
  },
  {
   "cell_type": "code",
   "execution_count": null,
   "metadata": {},
   "outputs": [],
   "source": [
    "#for n in range(1,2):\n",
    "#    train_KNN(n)"
   ]
  },
  {
   "cell_type": "code",
   "execution_count": 28,
   "metadata": {},
   "outputs": [],
   "source": [
    "#knn = KNeighborsClassifier(n_neighbors = 2, weights = 'distance', metric='wminkowski', p=2, metric_params=dict(w=2))\n",
    "#knn.fit(X_train, y_train)\n",
    "\n",
    "#train_score = knn.score(X_train, y_train)\n",
    "#test_score = knn.score(X_test, y_test)\n",
    "\n",
    "# Predict using Knn model\n",
    "#y_pred_knn = knn.predict(X_test)\n",
    "#print('====Knn model====')\n",
    "#print('Train score: {} / Test score: {} for 5 neighbors'.format(train_score, test_score))\n",
    "#print('Accuracy:', metrics.accuracy_score(y_test,y_pred_knn))\n",
    "#print('Balanced accuracy:', metrics.balanced_accuracy_score(y_test,y_pred_knn))\n",
    "#print('Precision score' , metrics.precision_score(y_test,y_pred_knn, pos_label = 1))\n",
    "#print('Recall score' , metrics.recall_score(y_test,y_pred_knn, pos_label = 1))"
   ]
  },
  {
   "cell_type": "code",
   "execution_count": 30,
   "metadata": {},
   "outputs": [
    {
     "name": "stdout",
     "output_type": "stream",
     "text": [
      "====Naive Bayes====\n",
      "Accuracy: 0.08304269959468376\n",
      "Balanced accuracy: 0.5096080280692799\n",
      "Precision score 0.06308611828961312\n",
      "Recall score 0.9964935494541846\n"
     ]
    }
   ],
   "source": [
    "nb = GaussianNB()\n",
    "nb.fit(X_train,y_train)\n",
    "\n",
    "#Predict using the model:\n",
    "y_predict_nb=nb.predict(X_test)\n",
    "\n",
    "#Confusion matrix:\n",
    "\n",
    "cnf_matrix = confusion_matrix(y_test, y_predict_nb)\n",
    "print('====Naive Bayes====')\n",
    "print('Accuracy:', metrics.accuracy_score(y_test,y_predict_nb))\n",
    "print('Balanced accuracy:', metrics.balanced_accuracy_score(y_test,y_predict_nb))\n",
    "print('Precision score' , metrics.precision_score(y_test,y_predict_nb, pos_label = 1))\n",
    "print('Recall score' , metrics.recall_score(y_test,y_predict_nb, pos_label = 1))"
   ]
  },
  {
   "cell_type": "code",
   "execution_count": 32,
   "metadata": {},
   "outputs": [
    {
     "data": {
      "image/png": "[encoded data removed]",
      "text/plain": [
       "<Figure size 432x288 with 2 Axes>"
      ]
     },
     "metadata": {
      "needs_background": "light"
     },
     "output_type": "display_data"
    },
    {
     "name": "stdout",
     "output_type": "stream",
     "text": [
      "[[  5201 223691]\n",
      " [    53  15062]]\n"
     ]
    }
   ],
   "source": [
    "cnf_matrix= confusion_matrix(y_test,y_predict_nb)\n",
    "\n",
    "_ = plot_confusion_matrix(nb, X_test, y_test) \n",
    "_ = plt.title('Insincere questions - 1, Sincere questions - 0')\n",
    "_ = plt.show()\n",
    "\n",
    "print(cnf_matrix)"
   ]
  },
  {
   "cell_type": "markdown",
   "metadata": {},
   "source": [
    "#### 6c. Decision Trees"
   ]
  },
  {
   "cell_type": "code",
   "execution_count": null,
   "metadata": {},
   "outputs": [],
   "source": [
    "# Declare a variable called gini_model w/ no max_depth and assign it: \n",
    "#gini_model_1 = tree.DecisionTreeClassifier(criterion =\"gini\", random_state = 42)\n",
    "\n",
    "# Call fit() on gini_model, and pass in X_train and y_train, in that order \n",
    "#gini_model_1.fit(X_train, y_train)\n",
    "\n",
    "\n",
    "# Call predict() on entr_model with X_test passed to it, and assign the result to a variable y_pred \n",
    "#y_pred_dt = gini_model_1.predict(X_test)\n",
    "\n",
    "# Assign y_pred the following: pd.Series(y_pred)\n",
    "#y_pred_dt = pd.Series(y_pred_dt)\n",
    "\n",
    "# Check out gini_model\n",
    "#gini_model_1"
   ]
  },
  {
   "cell_type": "markdown",
   "metadata": {},
   "source": [
    "Running a 'no max depth' gini model is computationally more expensive and takes a long time to be trained and tested. Hence for the purpose of this project, we will set max depth as 5 and run the Decision Tree Classifier model"
   ]
  },
  {
   "cell_type": "code",
   "execution_count": 14,
   "metadata": {},
   "outputs": [
    {
     "data": {
      "text/plain": [
       "DecisionTreeClassifier(max_depth=10, random_state=42)"
      ]
     },
     "execution_count": 14,
     "metadata": {},
     "output_type": "execute_result"
    }
   ],
   "source": [
    "# Declare a variable called gini_model, make the max_depth parameter equal to 10 and assign it: \n",
    "gini_model_2 = tree.DecisionTreeClassifier(criterion =\"gini\", max_depth = 10, random_state = 42)\n",
    "\n",
    "# Call fit() on gini_model, and pass in X_train and y_train, in that order \n",
    "gini_model_2.fit(X_train, y_train)\n",
    "\n",
    "# Call predict() on entr_model with X_test passed to it, and assign the result to a variable y_pred \n",
    "y_pred_dt_2 = gini_model_2.predict(X_test)\n",
    "\n",
    "# Assign y_pred the following: pd.Series(y_pred)\n",
    "y_pred_dt_2 = pd.Series(y_pred_dt_2)\n",
    "\n",
    "# Check out gini_model\n",
    "gini_model_2"
   ]
  },
  {
   "cell_type": "code",
   "execution_count": 15,
   "metadata": {
    "scrolled": false
   },
   "outputs": [
    {
     "data": {
      "image/svg+xml": [
       "<?xml version=\"1.0\" encoding=\"UTF-8\" standalone=\"no\"?>\r\n",
       "<!DOCTYPE svg PUBLIC \"-//W3C//DTD SVG 1.1//EN\"\r\n",
       " \"http://www.w3.org/Graphics/SVG/1.1/DTD/svg11.dtd\">\r\n",
       "<!-- Generated by graphviz version 2.38.0 (20140413.2041)\r\n",
       " -->\r\n",
       "<!-- Title: Tree Pages: 1 -->\r\n",
       "<svg width=\"1757pt\" height=\"1266pt\"\r\n",
       " viewBox=\"0.00 0.00 1756.50 1266.00\" xmlns=\"http://www.w3.org/2000/svg\" xmlns:xlink=\"http://www.w3.org/1999/xlink\">\r\n",
       "<g id=\"graph0\" class=\"graph\" transform=\"scale(1 1) rotate(0) translate(4 1262)\">\r\n",
       "<title>Tree</title>\r\n",
       "<polygon fill=\"white\" stroke=\"none\" points=\"-4,4 -4,-1262 1752.5,-1262 1752.5,4 -4,4\"/>\r\n",
       "<!-- 0 -->\r\n",
       "<g id=\"node1\" class=\"node\"><title>0</title>\r\n",
       "<polygon fill=\"none\" stroke=\"black\" points=\"1521,-1258 1333,-1258 1333,-1175 1521,-1175 1521,-1258\"/>\r\n",
       "<text text-anchor=\"start\" x=\"1341\" y=\"-1242.8\" font-family=\"Times New Roman,serif\" font-size=\"14.00\">Counts_hate black peopl ≤ 0.5</text>\r\n",
       "<text text-anchor=\"start\" x=\"1393.5\" y=\"-1227.8\" font-family=\"Times New Roman,serif\" font-size=\"14.00\">gini = 0.116</text>\r\n",
       "<text text-anchor=\"start\" x=\"1376\" y=\"-1212.8\" font-family=\"Times New Roman,serif\" font-size=\"14.00\">samples = 569348</text>\r\n",
       "<text text-anchor=\"start\" x=\"1359\" y=\"-1197.8\" font-family=\"Times New Roman,serif\" font-size=\"14.00\">value = [534114, 35234]</text>\r\n",
       "<text text-anchor=\"start\" x=\"1402.5\" y=\"-1182.8\" font-family=\"Times New Roman,serif\" font-size=\"14.00\">class = [</text>\r\n",
       "</g>\r\n",
       "<!-- 1 -->\r\n",
       "<g id=\"node2\" class=\"node\"><title>1</title>\r\n",
       "<polygon fill=\"none\" stroke=\"black\" points=\"1441,-1139 1253,-1139 1253,-1056 1441,-1056 1441,-1139\"/>\r\n",
       "<text text-anchor=\"start\" x=\"1261\" y=\"-1123.8\" font-family=\"Times New Roman,serif\" font-size=\"14.00\">Counts_black live matter ≤ 0.5</text>\r\n",
       "<text text-anchor=\"start\" x=\"1313.5\" y=\"-1108.8\" font-family=\"Times New Roman,serif\" font-size=\"14.00\">gini = 0.116</text>\r\n",
       "<text text-anchor=\"start\" x=\"1296\" y=\"-1093.8\" font-family=\"Times New Roman,serif\" font-size=\"14.00\">samples = 569329</text>\r\n",
       "<text text-anchor=\"start\" x=\"1279\" y=\"-1078.8\" font-family=\"Times New Roman,serif\" font-size=\"14.00\">value = [534112, 35217]</text>\r\n",
       "<text text-anchor=\"start\" x=\"1322.5\" y=\"-1063.8\" font-family=\"Times New Roman,serif\" font-size=\"14.00\">class = [</text>\r\n",
       "</g>\r\n",
       "<!-- 0&#45;&gt;1 -->\r\n",
       "<g id=\"edge1\" class=\"edge\"><title>0&#45;&gt;1</title>\r\n",
       "<path fill=\"none\" stroke=\"black\" d=\"M1399.24,-1174.91C1393.16,-1166.01 1386.66,-1156.51 1380.39,-1147.33\"/>\r\n",
       "<polygon fill=\"black\" stroke=\"black\" points=\"1383.24,-1145.3 1374.71,-1139.02 1377.46,-1149.25 1383.24,-1145.3\"/>\r\n",
       "<text text-anchor=\"middle\" x=\"1370.09\" y=\"-1159.89\" font-family=\"Times New Roman,serif\" font-size=\"14.00\">True</text>\r\n",
       "</g>\r\n",
       "<!-- 36 -->\r\n",
       "<g id=\"node37\" class=\"node\"><title>36</title>\r\n",
       "<polygon fill=\"none\" stroke=\"black\" points=\"1557,-1131.5 1459,-1131.5 1459,-1063.5 1557,-1063.5 1557,-1131.5\"/>\r\n",
       "<text text-anchor=\"start\" x=\"1474.5\" y=\"-1116.3\" font-family=\"Times New Roman,serif\" font-size=\"14.00\">gini = 0.188</text>\r\n",
       "<text text-anchor=\"start\" x=\"1470.5\" y=\"-1101.3\" font-family=\"Times New Roman,serif\" font-size=\"14.00\">samples = 19</text>\r\n",
       "<text text-anchor=\"start\" x=\"1467\" y=\"-1086.3\" font-family=\"Times New Roman,serif\" font-size=\"14.00\">value = [2, 17]</text>\r\n",
       "<text text-anchor=\"start\" x=\"1482.5\" y=\"-1071.3\" font-family=\"Times New Roman,serif\" font-size=\"14.00\">class = 0</text>\r\n",
       "</g>\r\n",
       "<!-- 0&#45;&gt;36 -->\r\n",
       "<g id=\"edge36\" class=\"edge\"><title>0&#45;&gt;36</title>\r\n",
       "<path fill=\"none\" stroke=\"black\" d=\"M1455.1,-1174.91C1462.89,-1163.65 1471.36,-1151.42 1479.2,-1140.11\"/>\r\n",
       "<polygon fill=\"black\" stroke=\"black\" points=\"1482.22,-1141.88 1485.04,-1131.67 1476.47,-1137.9 1482.22,-1141.88\"/>\r\n",
       "<text text-anchor=\"middle\" x=\"1489.51\" y=\"-1152.56\" font-family=\"Times New Roman,serif\" font-size=\"14.00\">False</text>\r\n",
       "</g>\r\n",
       "<!-- 2 -->\r\n",
       "<g id=\"node3\" class=\"node\"><title>2</title>\r\n",
       "<polygon fill=\"none\" stroke=\"black\" points=\"1363.5,-1020 1158.5,-1020 1158.5,-937 1363.5,-937 1363.5,-1020\"/>\r\n",
       "<text text-anchor=\"start\" x=\"1166.5\" y=\"-1004.8\" font-family=\"Times New Roman,serif\" font-size=\"14.00\">Counts_ask stupid question ≤ 0.5</text>\r\n",
       "<text text-anchor=\"start\" x=\"1227.5\" y=\"-989.8\" font-family=\"Times New Roman,serif\" font-size=\"14.00\">gini = 0.116</text>\r\n",
       "<text text-anchor=\"start\" x=\"1210\" y=\"-974.8\" font-family=\"Times New Roman,serif\" font-size=\"14.00\">samples = 569292</text>\r\n",
       "<text text-anchor=\"start\" x=\"1193\" y=\"-959.8\" font-family=\"Times New Roman,serif\" font-size=\"14.00\">value = [534099, 35193]</text>\r\n",
       "<text text-anchor=\"start\" x=\"1236.5\" y=\"-944.8\" font-family=\"Times New Roman,serif\" font-size=\"14.00\">class = [</text>\r\n",
       "</g>\r\n",
       "<!-- 1&#45;&gt;2 -->\r\n",
       "<g id=\"edge2\" class=\"edge\"><title>1&#45;&gt;2</title>\r\n",
       "<path fill=\"none\" stroke=\"black\" d=\"M1317.16,-1055.91C1310.63,-1047.01 1303.64,-1037.51 1296.89,-1028.33\"/>\r\n",
       "<polygon fill=\"black\" stroke=\"black\" points=\"1299.53,-1026.01 1290.78,-1020.02 1293.89,-1030.15 1299.53,-1026.01\"/>\r\n",
       "</g>\r\n",
       "<!-- 35 -->\r\n",
       "<g id=\"node36\" class=\"node\"><title>35</title>\r\n",
       "<polygon fill=\"none\" stroke=\"black\" points=\"1486,-1012.5 1382,-1012.5 1382,-944.5 1486,-944.5 1486,-1012.5\"/>\r\n",
       "<text text-anchor=\"start\" x=\"1400.5\" y=\"-997.3\" font-family=\"Times New Roman,serif\" font-size=\"14.00\">gini = 0.456</text>\r\n",
       "<text text-anchor=\"start\" x=\"1396.5\" y=\"-982.3\" font-family=\"Times New Roman,serif\" font-size=\"14.00\">samples = 37</text>\r\n",
       "<text text-anchor=\"start\" x=\"1390\" y=\"-967.3\" font-family=\"Times New Roman,serif\" font-size=\"14.00\">value = [13, 24]</text>\r\n",
       "<text text-anchor=\"start\" x=\"1408.5\" y=\"-952.3\" font-family=\"Times New Roman,serif\" font-size=\"14.00\">class = 0</text>\r\n",
       "</g>\r\n",
       "<!-- 1&#45;&gt;35 -->\r\n",
       "<g id=\"edge35\" class=\"edge\"><title>1&#45;&gt;35</title>\r\n",
       "<path fill=\"none\" stroke=\"black\" d=\"M1377.18,-1055.91C1385.64,-1044.54 1394.83,-1032.18 1403.31,-1020.77\"/>\r\n",
       "<polygon fill=\"black\" stroke=\"black\" points=\"1406.18,-1022.78 1409.34,-1012.67 1400.56,-1018.6 1406.18,-1022.78\"/>\r\n",
       "</g>\r\n",
       "<!-- 3 -->\r\n",
       "<g id=\"node4\" class=\"node\"><title>3</title>\r\n",
       "<polygon fill=\"none\" stroke=\"black\" points=\"1250.5,-901 1029.5,-901 1029.5,-818 1250.5,-818 1250.5,-901\"/>\r\n",
       "<text text-anchor=\"start\" x=\"1037.5\" y=\"-885.8\" font-family=\"Times New Roman,serif\" font-size=\"14.00\">Counts_barack hussein obama ≤ 0.5</text>\r\n",
       "<text text-anchor=\"start\" x=\"1106.5\" y=\"-870.8\" font-family=\"Times New Roman,serif\" font-size=\"14.00\">gini = 0.116</text>\r\n",
       "<text text-anchor=\"start\" x=\"1089\" y=\"-855.8\" font-family=\"Times New Roman,serif\" font-size=\"14.00\">samples = 569266</text>\r\n",
       "<text text-anchor=\"start\" x=\"1072\" y=\"-840.8\" font-family=\"Times New Roman,serif\" font-size=\"14.00\">value = [534092, 35174]</text>\r\n",
       "<text text-anchor=\"start\" x=\"1115.5\" y=\"-825.8\" font-family=\"Times New Roman,serif\" font-size=\"14.00\">class = [</text>\r\n",
       "</g>\r\n",
       "<!-- 2&#45;&gt;3 -->\r\n",
       "<g id=\"edge3\" class=\"edge\"><title>2&#45;&gt;3</title>\r\n",
       "<path fill=\"none\" stroke=\"black\" d=\"M1219.02,-936.907C1209.45,-927.651 1199.19,-917.732 1189.34,-908.209\"/>\r\n",
       "<polygon fill=\"black\" stroke=\"black\" points=\"1191.53,-905.456 1181.91,-901.021 1186.66,-910.488 1191.53,-905.456\"/>\r\n",
       "</g>\r\n",
       "<!-- 26 -->\r\n",
       "<g id=\"node27\" class=\"node\"><title>26</title>\r\n",
       "<polygon fill=\"none\" stroke=\"black\" points=\"1491,-901 1273,-901 1273,-818 1491,-818 1491,-901\"/>\r\n",
       "<text text-anchor=\"start\" x=\"1281\" y=\"-885.8\" font-family=\"Times New Roman,serif\" font-size=\"14.00\">Counts_stupid question quora ≤ 0.5</text>\r\n",
       "<text text-anchor=\"start\" x=\"1348.5\" y=\"-870.8\" font-family=\"Times New Roman,serif\" font-size=\"14.00\">gini = 0.393</text>\r\n",
       "<text text-anchor=\"start\" x=\"1344.5\" y=\"-855.8\" font-family=\"Times New Roman,serif\" font-size=\"14.00\">samples = 26</text>\r\n",
       "<text text-anchor=\"start\" x=\"1341\" y=\"-840.8\" font-family=\"Times New Roman,serif\" font-size=\"14.00\">value = [7, 19]</text>\r\n",
       "<text text-anchor=\"start\" x=\"1356.5\" y=\"-825.8\" font-family=\"Times New Roman,serif\" font-size=\"14.00\">class = 0</text>\r\n",
       "</g>\r\n",
       "<!-- 2&#45;&gt;26 -->\r\n",
       "<g id=\"edge26\" class=\"edge\"><title>2&#45;&gt;26</title>\r\n",
       "<path fill=\"none\" stroke=\"black\" d=\"M1302.98,-936.907C1312.55,-927.651 1322.81,-917.732 1332.66,-908.209\"/>\r\n",
       "<polygon fill=\"black\" stroke=\"black\" points=\"1335.34,-910.488 1340.09,-901.021 1330.47,-905.456 1335.34,-910.488\"/>\r\n",
       "</g>\r\n",
       "<!-- 4 -->\r\n",
       "<g id=\"node5\" class=\"node\"><title>4</title>\r\n",
       "<polygon fill=\"none\" stroke=\"black\" points=\"1021,-782 833,-782 833,-699 1021,-699 1021,-782\"/>\r\n",
       "<text text-anchor=\"start\" x=\"841\" y=\"-766.8\" font-family=\"Times New Roman,serif\" font-size=\"14.00\">Counts_hate white peopl ≤ 0.5</text>\r\n",
       "<text text-anchor=\"start\" x=\"893.5\" y=\"-751.8\" font-family=\"Times New Roman,serif\" font-size=\"14.00\">gini = 0.116</text>\r\n",
       "<text text-anchor=\"start\" x=\"876\" y=\"-736.8\" font-family=\"Times New Roman,serif\" font-size=\"14.00\">samples = 569239</text>\r\n",
       "<text text-anchor=\"start\" x=\"859\" y=\"-721.8\" font-family=\"Times New Roman,serif\" font-size=\"14.00\">value = [534084, 35155]</text>\r\n",
       "<text text-anchor=\"start\" x=\"902.5\" y=\"-706.8\" font-family=\"Times New Roman,serif\" font-size=\"14.00\">class = [</text>\r\n",
       "</g>\r\n",
       "<!-- 3&#45;&gt;4 -->\r\n",
       "<g id=\"edge4\" class=\"edge\"><title>3&#45;&gt;4</title>\r\n",
       "<path fill=\"none\" stroke=\"black\" d=\"M1066.1,-817.907C1047.84,-807.879 1028.17,-797.075 1009.54,-786.837\"/>\r\n",
       "<polygon fill=\"black\" stroke=\"black\" points=\"1011.22,-783.768 1000.77,-782.021 1007.85,-789.903 1011.22,-783.768\"/>\r\n",
       "</g>\r\n",
       "<!-- 23 -->\r\n",
       "<g id=\"node24\" class=\"node\"><title>23</title>\r\n",
       "<polygon fill=\"none\" stroke=\"black\" points=\"1231.5,-782 1048.5,-782 1048.5,-699 1231.5,-699 1231.5,-782\"/>\r\n",
       "<text text-anchor=\"start\" x=\"1056.5\" y=\"-766.8\" font-family=\"Times New Roman,serif\" font-size=\"14.00\">Counts_think good idea ≤ 0.5</text>\r\n",
       "<text text-anchor=\"start\" x=\"1106.5\" y=\"-751.8\" font-family=\"Times New Roman,serif\" font-size=\"14.00\">gini = 0.417</text>\r\n",
       "<text text-anchor=\"start\" x=\"1102.5\" y=\"-736.8\" font-family=\"Times New Roman,serif\" font-size=\"14.00\">samples = 27</text>\r\n",
       "<text text-anchor=\"start\" x=\"1099\" y=\"-721.8\" font-family=\"Times New Roman,serif\" font-size=\"14.00\">value = [8, 19]</text>\r\n",
       "<text text-anchor=\"start\" x=\"1114.5\" y=\"-706.8\" font-family=\"Times New Roman,serif\" font-size=\"14.00\">class = 0</text>\r\n",
       "</g>\r\n",
       "<!-- 3&#45;&gt;23 -->\r\n",
       "<g id=\"edge23\" class=\"edge\"><title>3&#45;&gt;23</title>\r\n",
       "<path fill=\"none\" stroke=\"black\" d=\"M1140,-817.907C1140,-809.649 1140,-800.864 1140,-792.302\"/>\r\n",
       "<polygon fill=\"black\" stroke=\"black\" points=\"1143.5,-792.021 1140,-782.021 1136.5,-792.021 1143.5,-792.021\"/>\r\n",
       "</g>\r\n",
       "<!-- 5 -->\r\n",
       "<g id=\"node6\" class=\"node\"><title>5</title>\r\n",
       "<polygon fill=\"none\" stroke=\"black\" points=\"860,-663 660,-663 660,-580 860,-580 860,-663\"/>\r\n",
       "<text text-anchor=\"start\" x=\"668\" y=\"-647.8\" font-family=\"Times New Roman,serif\" font-size=\"14.00\">Counts_islam religion peac ≤ 0.5</text>\r\n",
       "<text text-anchor=\"start\" x=\"726.5\" y=\"-632.8\" font-family=\"Times New Roman,serif\" font-size=\"14.00\">gini = 0.116</text>\r\n",
       "<text text-anchor=\"start\" x=\"709\" y=\"-617.8\" font-family=\"Times New Roman,serif\" font-size=\"14.00\">samples = 569221</text>\r\n",
       "<text text-anchor=\"start\" x=\"692\" y=\"-602.8\" font-family=\"Times New Roman,serif\" font-size=\"14.00\">value = [534081, 35140]</text>\r\n",
       "<text text-anchor=\"start\" x=\"735.5\" y=\"-587.8\" font-family=\"Times New Roman,serif\" font-size=\"14.00\">class = [</text>\r\n",
       "</g>\r\n",
       "<!-- 4&#45;&gt;5 -->\r\n",
       "<g id=\"edge5\" class=\"edge\"><title>4&#45;&gt;5</title>\r\n",
       "<path fill=\"none\" stroke=\"black\" d=\"M869.06,-698.907C855.2,-689.197 840.3,-678.758 826.102,-668.811\"/>\r\n",
       "<polygon fill=\"black\" stroke=\"black\" points=\"828.036,-665.892 817.837,-663.021 824.019,-671.625 828.036,-665.892\"/>\r\n",
       "</g>\r\n",
       "<!-- 22 -->\r\n",
       "<g id=\"node23\" class=\"node\"><title>22</title>\r\n",
       "<polygon fill=\"none\" stroke=\"black\" points=\"976,-655.5 878,-655.5 878,-587.5 976,-587.5 976,-655.5\"/>\r\n",
       "<text text-anchor=\"start\" x=\"893.5\" y=\"-640.3\" font-family=\"Times New Roman,serif\" font-size=\"14.00\">gini = 0.278</text>\r\n",
       "<text text-anchor=\"start\" x=\"889.5\" y=\"-625.3\" font-family=\"Times New Roman,serif\" font-size=\"14.00\">samples = 18</text>\r\n",
       "<text text-anchor=\"start\" x=\"886\" y=\"-610.3\" font-family=\"Times New Roman,serif\" font-size=\"14.00\">value = [3, 15]</text>\r\n",
       "<text text-anchor=\"start\" x=\"901.5\" y=\"-595.3\" font-family=\"Times New Roman,serif\" font-size=\"14.00\">class = 0</text>\r\n",
       "</g>\r\n",
       "<!-- 4&#45;&gt;22 -->\r\n",
       "<g id=\"edge22\" class=\"edge\"><title>4&#45;&gt;22</title>\r\n",
       "<path fill=\"none\" stroke=\"black\" d=\"M927,-698.907C927,-688.204 927,-676.615 927,-665.776\"/>\r\n",
       "<polygon fill=\"black\" stroke=\"black\" points=\"930.5,-665.667 927,-655.667 923.5,-665.667 930.5,-665.667\"/>\r\n",
       "</g>\r\n",
       "<!-- 6 -->\r\n",
       "<g id=\"node7\" class=\"node\"><title>6</title>\r\n",
       "<polygon fill=\"none\" stroke=\"black\" points=\"750.5,-544 551.5,-544 551.5,-461 750.5,-461 750.5,-544\"/>\r\n",
       "<text text-anchor=\"start\" x=\"559.5\" y=\"-528.8\" font-family=\"Times New Roman,serif\" font-size=\"14.00\">Counts_gun control advoc ≤ 0.5</text>\r\n",
       "<text text-anchor=\"start\" x=\"617.5\" y=\"-513.8\" font-family=\"Times New Roman,serif\" font-size=\"14.00\">gini = 0.116</text>\r\n",
       "<text text-anchor=\"start\" x=\"600\" y=\"-498.8\" font-family=\"Times New Roman,serif\" font-size=\"14.00\">samples = 569197</text>\r\n",
       "<text text-anchor=\"start\" x=\"583\" y=\"-483.8\" font-family=\"Times New Roman,serif\" font-size=\"14.00\">value = [534073, 35124]</text>\r\n",
       "<text text-anchor=\"start\" x=\"626.5\" y=\"-468.8\" font-family=\"Times New Roman,serif\" font-size=\"14.00\">class = [</text>\r\n",
       "</g>\r\n",
       "<!-- 5&#45;&gt;6 -->\r\n",
       "<g id=\"edge6\" class=\"edge\"><title>5&#45;&gt;6</title>\r\n",
       "<path fill=\"none\" stroke=\"black\" d=\"M722.183,-579.907C713.644,-570.742 704.5,-560.927 695.708,-551.489\"/>\r\n",
       "<polygon fill=\"black\" stroke=\"black\" points=\"698.128,-548.952 688.75,-544.021 693.006,-553.723 698.128,-548.952\"/>\r\n",
       "</g>\r\n",
       "<!-- 19 -->\r\n",
       "<g id=\"node20\" class=\"node\"><title>19</title>\r\n",
       "<polygon fill=\"none\" stroke=\"black\" points=\"969,-544 769,-544 769,-461 969,-461 969,-544\"/>\r\n",
       "<text text-anchor=\"start\" x=\"777\" y=\"-528.8\" font-family=\"Times New Roman,serif\" font-size=\"14.00\">Counts_islam religion peac ≤ 1.5</text>\r\n",
       "<text text-anchor=\"start\" x=\"835.5\" y=\"-513.8\" font-family=\"Times New Roman,serif\" font-size=\"14.00\">gini = 0.444</text>\r\n",
       "<text text-anchor=\"start\" x=\"831.5\" y=\"-498.8\" font-family=\"Times New Roman,serif\" font-size=\"14.00\">samples = 24</text>\r\n",
       "<text text-anchor=\"start\" x=\"828\" y=\"-483.8\" font-family=\"Times New Roman,serif\" font-size=\"14.00\">value = [8, 16]</text>\r\n",
       "<text text-anchor=\"start\" x=\"843.5\" y=\"-468.8\" font-family=\"Times New Roman,serif\" font-size=\"14.00\">class = 0</text>\r\n",
       "</g>\r\n",
       "<!-- 5&#45;&gt;19 -->\r\n",
       "<g id=\"edge19\" class=\"edge\"><title>5&#45;&gt;19</title>\r\n",
       "<path fill=\"none\" stroke=\"black\" d=\"M797.817,-579.907C806.356,-570.742 815.5,-560.927 824.292,-551.489\"/>\r\n",
       "<polygon fill=\"black\" stroke=\"black\" points=\"826.994,-553.723 831.25,-544.021 821.872,-548.952 826.994,-553.723\"/>\r\n",
       "</g>\r\n",
       "<!-- 7 -->\r\n",
       "<g id=\"node8\" class=\"node\"><title>7</title>\r\n",
       "<polygon fill=\"none\" stroke=\"black\" points=\"546,-425 340,-425 340,-342 546,-342 546,-425\"/>\r\n",
       "<text text-anchor=\"start\" x=\"348\" y=\"-409.8\" font-family=\"Times New Roman,serif\" font-size=\"14.00\">Counts_social justic warrior ≤ 0.5</text>\r\n",
       "<text text-anchor=\"start\" x=\"409.5\" y=\"-394.8\" font-family=\"Times New Roman,serif\" font-size=\"14.00\">gini = 0.116</text>\r\n",
       "<text text-anchor=\"start\" x=\"392\" y=\"-379.8\" font-family=\"Times New Roman,serif\" font-size=\"14.00\">samples = 569179</text>\r\n",
       "<text text-anchor=\"start\" x=\"375\" y=\"-364.8\" font-family=\"Times New Roman,serif\" font-size=\"14.00\">value = [534067, 35112]</text>\r\n",
       "<text text-anchor=\"start\" x=\"418.5\" y=\"-349.8\" font-family=\"Times New Roman,serif\" font-size=\"14.00\">class = [</text>\r\n",
       "</g>\r\n",
       "<!-- 6&#45;&gt;7 -->\r\n",
       "<g id=\"edge7\" class=\"edge\"><title>6&#45;&gt;7</title>\r\n",
       "<path fill=\"none\" stroke=\"black\" d=\"M578.835,-460.907C561.089,-450.925 541.973,-440.172 523.846,-429.976\"/>\r\n",
       "<polygon fill=\"black\" stroke=\"black\" points=\"525.469,-426.873 515.037,-425.021 522.037,-432.974 525.469,-426.873\"/>\r\n",
       "</g>\r\n",
       "<!-- 16 -->\r\n",
       "<g id=\"node17\" class=\"node\"><title>16</title>\r\n",
       "<polygon fill=\"none\" stroke=\"black\" points=\"763.5,-425 564.5,-425 564.5,-342 763.5,-342 763.5,-425\"/>\r\n",
       "<text text-anchor=\"start\" x=\"572.5\" y=\"-409.8\" font-family=\"Times New Roman,serif\" font-size=\"14.00\">Counts_gun control advoc ≤ 1.5</text>\r\n",
       "<text text-anchor=\"start\" x=\"630.5\" y=\"-394.8\" font-family=\"Times New Roman,serif\" font-size=\"14.00\">gini = 0.444</text>\r\n",
       "<text text-anchor=\"start\" x=\"626.5\" y=\"-379.8\" font-family=\"Times New Roman,serif\" font-size=\"14.00\">samples = 18</text>\r\n",
       "<text text-anchor=\"start\" x=\"623\" y=\"-364.8\" font-family=\"Times New Roman,serif\" font-size=\"14.00\">value = [6, 12]</text>\r\n",
       "<text text-anchor=\"start\" x=\"638.5\" y=\"-349.8\" font-family=\"Times New Roman,serif\" font-size=\"14.00\">class = 0</text>\r\n",
       "</g>\r\n",
       "<!-- 6&#45;&gt;16 -->\r\n",
       "<g id=\"edge16\" class=\"edge\"><title>6&#45;&gt;16</title>\r\n",
       "<path fill=\"none\" stroke=\"black\" d=\"M655.51,-460.907C656.438,-452.558 657.425,-443.671 658.387,-435.02\"/>\r\n",
       "<polygon fill=\"black\" stroke=\"black\" points=\"661.872,-435.346 659.498,-425.021 654.915,-434.573 661.872,-435.346\"/>\r\n",
       "</g>\r\n",
       "<!-- 8 -->\r\n",
       "<g id=\"node9\" class=\"node\"><title>8</title>\r\n",
       "<polygon fill=\"none\" stroke=\"black\" points=\"403,-306 209,-306 209,-223 403,-223 403,-306\"/>\r\n",
       "<text text-anchor=\"start\" x=\"217\" y=\"-290.8\" font-family=\"Times New Roman,serif\" font-size=\"14.00\">Counts_like donald trump ≤ 0.5</text>\r\n",
       "<text text-anchor=\"start\" x=\"272.5\" y=\"-275.8\" font-family=\"Times New Roman,serif\" font-size=\"14.00\">gini = 0.116</text>\r\n",
       "<text text-anchor=\"start\" x=\"255\" y=\"-260.8\" font-family=\"Times New Roman,serif\" font-size=\"14.00\">samples = 569158</text>\r\n",
       "<text text-anchor=\"start\" x=\"238\" y=\"-245.8\" font-family=\"Times New Roman,serif\" font-size=\"14.00\">value = [534059, 35099]</text>\r\n",
       "<text text-anchor=\"start\" x=\"281.5\" y=\"-230.8\" font-family=\"Times New Roman,serif\" font-size=\"14.00\">class = [</text>\r\n",
       "</g>\r\n",
       "<!-- 7&#45;&gt;8 -->\r\n",
       "<g id=\"edge8\" class=\"edge\"><title>7&#45;&gt;8</title>\r\n",
       "<path fill=\"none\" stroke=\"black\" d=\"M395.469,-341.907C384.417,-332.469 372.56,-322.343 361.209,-312.649\"/>\r\n",
       "<polygon fill=\"black\" stroke=\"black\" points=\"363.325,-309.854 353.447,-306.021 358.779,-315.177 363.325,-309.854\"/>\r\n",
       "</g>\r\n",
       "<!-- 15 -->\r\n",
       "<g id=\"node16\" class=\"node\"><title>15</title>\r\n",
       "<polygon fill=\"none\" stroke=\"black\" points=\"519,-298.5 421,-298.5 421,-230.5 519,-230.5 519,-298.5\"/>\r\n",
       "<text text-anchor=\"start\" x=\"436.5\" y=\"-283.3\" font-family=\"Times New Roman,serif\" font-size=\"14.00\">gini = 0.472</text>\r\n",
       "<text text-anchor=\"start\" x=\"432.5\" y=\"-268.3\" font-family=\"Times New Roman,serif\" font-size=\"14.00\">samples = 21</text>\r\n",
       "<text text-anchor=\"start\" x=\"429\" y=\"-253.3\" font-family=\"Times New Roman,serif\" font-size=\"14.00\">value = [8, 13]</text>\r\n",
       "<text text-anchor=\"start\" x=\"444.5\" y=\"-238.3\" font-family=\"Times New Roman,serif\" font-size=\"14.00\">class = 0</text>\r\n",
       "</g>\r\n",
       "<!-- 7&#45;&gt;15 -->\r\n",
       "<g id=\"edge15\" class=\"edge\"><title>7&#45;&gt;15</title>\r\n",
       "<path fill=\"none\" stroke=\"black\" d=\"M452.368,-341.907C454.863,-331.094 457.567,-319.376 460.09,-308.441\"/>\r\n",
       "<polygon fill=\"black\" stroke=\"black\" points=\"463.508,-309.198 462.346,-298.667 456.687,-307.624 463.508,-309.198\"/>\r\n",
       "</g>\r\n",
       "<!-- 9 -->\r\n",
       "<g id=\"node10\" class=\"node\"><title>9</title>\r\n",
       "<polygon fill=\"none\" stroke=\"black\" points=\"303,-187 93,-187 93,-104 303,-104 303,-187\"/>\r\n",
       "<text text-anchor=\"start\" x=\"101\" y=\"-171.8\" font-family=\"Times New Roman,serif\" font-size=\"14.00\">Counts_presid donald trump ≤ 0.5</text>\r\n",
       "<text text-anchor=\"start\" x=\"164.5\" y=\"-156.8\" font-family=\"Times New Roman,serif\" font-size=\"14.00\">gini = 0.116</text>\r\n",
       "<text text-anchor=\"start\" x=\"147\" y=\"-141.8\" font-family=\"Times New Roman,serif\" font-size=\"14.00\">samples = 569126</text>\r\n",
       "<text text-anchor=\"start\" x=\"130\" y=\"-126.8\" font-family=\"Times New Roman,serif\" font-size=\"14.00\">value = [534041, 35085]</text>\r\n",
       "<text text-anchor=\"start\" x=\"173.5\" y=\"-111.8\" font-family=\"Times New Roman,serif\" font-size=\"14.00\">class = [</text>\r\n",
       "</g>\r\n",
       "<!-- 8&#45;&gt;9 -->\r\n",
       "<g id=\"edge9\" class=\"edge\"><title>8&#45;&gt;9</title>\r\n",
       "<path fill=\"none\" stroke=\"black\" d=\"M268.53,-222.907C260.069,-213.742 251.009,-203.927 242.298,-194.489\"/>\r\n",
       "<polygon fill=\"black\" stroke=\"black\" points=\"244.758,-191.995 235.404,-187.021 239.615,-196.743 244.758,-191.995\"/>\r\n",
       "</g>\r\n",
       "<!-- 12 -->\r\n",
       "<g id=\"node13\" class=\"node\"><title>12</title>\r\n",
       "<polygon fill=\"none\" stroke=\"black\" points=\"506.5,-187 321.5,-187 321.5,-104 506.5,-104 506.5,-187\"/>\r\n",
       "<text text-anchor=\"start\" x=\"329.5\" y=\"-171.8\" font-family=\"Times New Roman,serif\" font-size=\"14.00\">Counts_presid unit state ≤ 0.5</text>\r\n",
       "<text text-anchor=\"start\" x=\"380.5\" y=\"-156.8\" font-family=\"Times New Roman,serif\" font-size=\"14.00\">gini = 0.492</text>\r\n",
       "<text text-anchor=\"start\" x=\"376.5\" y=\"-141.8\" font-family=\"Times New Roman,serif\" font-size=\"14.00\">samples = 32</text>\r\n",
       "<text text-anchor=\"start\" x=\"370\" y=\"-126.8\" font-family=\"Times New Roman,serif\" font-size=\"14.00\">value = [18, 14]</text>\r\n",
       "<text text-anchor=\"start\" x=\"389.5\" y=\"-111.8\" font-family=\"Times New Roman,serif\" font-size=\"14.00\">class = [</text>\r\n",
       "</g>\r\n",
       "<!-- 8&#45;&gt;12 -->\r\n",
       "<g id=\"edge12\" class=\"edge\"><title>8&#45;&gt;12</title>\r\n",
       "<path fill=\"none\" stroke=\"black\" d=\"M343.47,-222.907C351.931,-213.742 360.991,-203.927 369.702,-194.489\"/>\r\n",
       "<polygon fill=\"black\" stroke=\"black\" points=\"372.385,-196.743 376.596,-187.021 367.242,-191.995 372.385,-196.743\"/>\r\n",
       "</g>\r\n",
       "<!-- 10 -->\r\n",
       "<g id=\"node11\" class=\"node\"><title>10</title>\r\n",
       "<polygon fill=\"none\" stroke=\"black\" points=\"152,-68 0,-68 0,-0 152,-0 152,-68\"/>\r\n",
       "<text text-anchor=\"start\" x=\"42.5\" y=\"-52.8\" font-family=\"Times New Roman,serif\" font-size=\"14.00\">gini = 0.116</text>\r\n",
       "<text text-anchor=\"start\" x=\"25\" y=\"-37.8\" font-family=\"Times New Roman,serif\" font-size=\"14.00\">samples = 569081</text>\r\n",
       "<text text-anchor=\"start\" x=\"8\" y=\"-22.8\" font-family=\"Times New Roman,serif\" font-size=\"14.00\">value = [534012, 35069]</text>\r\n",
       "<text text-anchor=\"start\" x=\"51.5\" y=\"-7.8\" font-family=\"Times New Roman,serif\" font-size=\"14.00\">class = [</text>\r\n",
       "</g>\r\n",
       "<!-- 9&#45;&gt;10 -->\r\n",
       "<g id=\"edge10\" class=\"edge\"><title>9&#45;&gt;10</title>\r\n",
       "<path fill=\"none\" stroke=\"black\" d=\"M152.572,-103.726C142.105,-94.3318 130.982,-84.349 120.553,-74.9883\"/>\r\n",
       "<polygon fill=\"black\" stroke=\"black\" points=\"122.881,-72.3744 113.101,-68.2996 118.205,-77.5839 122.881,-72.3744\"/>\r\n",
       "</g>\r\n",
       "<!-- 11 -->\r\n",
       "<g id=\"node12\" class=\"node\"><title>11</title>\r\n",
       "<polygon fill=\"none\" stroke=\"black\" points=\"274,-68 170,-68 170,-0 274,-0 274,-68\"/>\r\n",
       "<text text-anchor=\"start\" x=\"188.5\" y=\"-52.8\" font-family=\"Times New Roman,serif\" font-size=\"14.00\">gini = 0.458</text>\r\n",
       "<text text-anchor=\"start\" x=\"184.5\" y=\"-37.8\" font-family=\"Times New Roman,serif\" font-size=\"14.00\">samples = 45</text>\r\n",
       "<text text-anchor=\"start\" x=\"178\" y=\"-22.8\" font-family=\"Times New Roman,serif\" font-size=\"14.00\">value = [29, 16]</text>\r\n",
       "<text text-anchor=\"start\" x=\"197.5\" y=\"-7.8\" font-family=\"Times New Roman,serif\" font-size=\"14.00\">class = [</text>\r\n",
       "</g>\r\n",
       "<!-- 9&#45;&gt;11 -->\r\n",
       "<g id=\"edge11\" class=\"edge\"><title>9&#45;&gt;11</title>\r\n",
       "<path fill=\"none\" stroke=\"black\" d=\"M206.937,-103.726C208.756,-95.4263 210.676,-86.6671 212.513,-78.2834\"/>\r\n",
       "<polygon fill=\"black\" stroke=\"black\" points=\"215.979,-78.8171 214.701,-68.2996 209.142,-77.3184 215.979,-78.8171\"/>\r\n",
       "</g>\r\n",
       "<!-- 13 -->\r\n",
       "<g id=\"node14\" class=\"node\"><title>13</title>\r\n",
       "<polygon fill=\"none\" stroke=\"black\" points=\"419,-68 315,-68 315,-0 419,-0 419,-68\"/>\r\n",
       "<text text-anchor=\"start\" x=\"333.5\" y=\"-52.8\" font-family=\"Times New Roman,serif\" font-size=\"14.00\">gini = 0.487</text>\r\n",
       "<text text-anchor=\"start\" x=\"329.5\" y=\"-37.8\" font-family=\"Times New Roman,serif\" font-size=\"14.00\">samples = 31</text>\r\n",
       "<text text-anchor=\"start\" x=\"323\" y=\"-22.8\" font-family=\"Times New Roman,serif\" font-size=\"14.00\">value = [18, 13]</text>\r\n",
       "<text text-anchor=\"start\" x=\"342.5\" y=\"-7.8\" font-family=\"Times New Roman,serif\" font-size=\"14.00\">class = [</text>\r\n",
       "</g>\r\n",
       "<!-- 12&#45;&gt;13 -->\r\n",
       "<g id=\"edge13\" class=\"edge\"><title>12&#45;&gt;13</title>\r\n",
       "<path fill=\"none\" stroke=\"black\" d=\"M396.499,-103.726C392.858,-95.2439 389.011,-86.2819 385.341,-77.7312\"/>\r\n",
       "<polygon fill=\"black\" stroke=\"black\" points=\"388.454,-76.1084 381.293,-68.2996 382.021,-78.8694 388.454,-76.1084\"/>\r\n",
       "</g>\r\n",
       "<!-- 14 -->\r\n",
       "<g id=\"node15\" class=\"node\"><title>14</title>\r\n",
       "<polygon fill=\"none\" stroke=\"black\" points=\"528.5,-68 437.5,-68 437.5,-0 528.5,-0 528.5,-68\"/>\r\n",
       "<text text-anchor=\"start\" x=\"456.5\" y=\"-52.8\" font-family=\"Times New Roman,serif\" font-size=\"14.00\">gini = 0.0</text>\r\n",
       "<text text-anchor=\"start\" x=\"449\" y=\"-37.8\" font-family=\"Times New Roman,serif\" font-size=\"14.00\">samples = 1</text>\r\n",
       "<text text-anchor=\"start\" x=\"445.5\" y=\"-22.8\" font-family=\"Times New Roman,serif\" font-size=\"14.00\">value = [0, 1]</text>\r\n",
       "<text text-anchor=\"start\" x=\"457.5\" y=\"-7.8\" font-family=\"Times New Roman,serif\" font-size=\"14.00\">class = 0</text>\r\n",
       "</g>\r\n",
       "<!-- 12&#45;&gt;14 -->\r\n",
       "<g id=\"edge14\" class=\"edge\"><title>12&#45;&gt;14</title>\r\n",
       "<path fill=\"none\" stroke=\"black\" d=\"M439.693,-103.726C445.211,-94.9703 451.05,-85.7032 456.594,-76.9051\"/>\r\n",
       "<polygon fill=\"black\" stroke=\"black\" points=\"459.647,-78.6259 462.017,-68.2996 453.724,-74.8941 459.647,-78.6259\"/>\r\n",
       "</g>\r\n",
       "<!-- 17 -->\r\n",
       "<g id=\"node18\" class=\"node\"><title>17</title>\r\n",
       "<polygon fill=\"none\" stroke=\"black\" points=\"661,-298.5 563,-298.5 563,-230.5 661,-230.5 661,-298.5\"/>\r\n",
       "<text text-anchor=\"start\" x=\"578.5\" y=\"-283.3\" font-family=\"Times New Roman,serif\" font-size=\"14.00\">gini = 0.457</text>\r\n",
       "<text text-anchor=\"start\" x=\"574.5\" y=\"-268.3\" font-family=\"Times New Roman,serif\" font-size=\"14.00\">samples = 17</text>\r\n",
       "<text text-anchor=\"start\" x=\"571\" y=\"-253.3\" font-family=\"Times New Roman,serif\" font-size=\"14.00\">value = [6, 11]</text>\r\n",
       "<text text-anchor=\"start\" x=\"586.5\" y=\"-238.3\" font-family=\"Times New Roman,serif\" font-size=\"14.00\">class = 0</text>\r\n",
       "</g>\r\n",
       "<!-- 16&#45;&gt;17 -->\r\n",
       "<g id=\"edge17\" class=\"edge\"><title>16&#45;&gt;17</title>\r\n",
       "<path fill=\"none\" stroke=\"black\" d=\"M645.959,-341.907C641.104,-330.983 635.839,-319.137 630.936,-308.107\"/>\r\n",
       "<polygon fill=\"black\" stroke=\"black\" points=\"634.001,-306.384 626.741,-298.667 627.604,-309.227 634.001,-306.384\"/>\r\n",
       "</g>\r\n",
       "<!-- 18 -->\r\n",
       "<g id=\"node19\" class=\"node\"><title>18</title>\r\n",
       "<polygon fill=\"none\" stroke=\"black\" points=\"770.5,-298.5 679.5,-298.5 679.5,-230.5 770.5,-230.5 770.5,-298.5\"/>\r\n",
       "<text text-anchor=\"start\" x=\"698.5\" y=\"-283.3\" font-family=\"Times New Roman,serif\" font-size=\"14.00\">gini = 0.0</text>\r\n",
       "<text text-anchor=\"start\" x=\"691\" y=\"-268.3\" font-family=\"Times New Roman,serif\" font-size=\"14.00\">samples = 1</text>\r\n",
       "<text text-anchor=\"start\" x=\"687.5\" y=\"-253.3\" font-family=\"Times New Roman,serif\" font-size=\"14.00\">value = [0, 1]</text>\r\n",
       "<text text-anchor=\"start\" x=\"699.5\" y=\"-238.3\" font-family=\"Times New Roman,serif\" font-size=\"14.00\">class = 0</text>\r\n",
       "</g>\r\n",
       "<!-- 16&#45;&gt;18 -->\r\n",
       "<g id=\"edge18\" class=\"edge\"><title>16&#45;&gt;18</title>\r\n",
       "<path fill=\"none\" stroke=\"black\" d=\"M685.164,-341.907C690.917,-330.873 697.16,-318.898 702.96,-307.773\"/>\r\n",
       "<polygon fill=\"black\" stroke=\"black\" points=\"706.188,-309.152 707.708,-298.667 699.981,-305.916 706.188,-309.152\"/>\r\n",
       "</g>\r\n",
       "<!-- 20 -->\r\n",
       "<g id=\"node21\" class=\"node\"><title>20</title>\r\n",
       "<polygon fill=\"none\" stroke=\"black\" points=\"893,-417.5 795,-417.5 795,-349.5 893,-349.5 893,-417.5\"/>\r\n",
       "<text text-anchor=\"start\" x=\"810.5\" y=\"-402.3\" font-family=\"Times New Roman,serif\" font-size=\"14.00\">gini = 0.454</text>\r\n",
       "<text text-anchor=\"start\" x=\"806.5\" y=\"-387.3\" font-family=\"Times New Roman,serif\" font-size=\"14.00\">samples = 23</text>\r\n",
       "<text text-anchor=\"start\" x=\"803\" y=\"-372.3\" font-family=\"Times New Roman,serif\" font-size=\"14.00\">value = [8, 15]</text>\r\n",
       "<text text-anchor=\"start\" x=\"818.5\" y=\"-357.3\" font-family=\"Times New Roman,serif\" font-size=\"14.00\">class = 0</text>\r\n",
       "</g>\r\n",
       "<!-- 19&#45;&gt;20 -->\r\n",
       "<g id=\"edge20\" class=\"edge\"><title>19&#45;&gt;20</title>\r\n",
       "<path fill=\"none\" stroke=\"black\" d=\"M860.326,-460.907C858.039,-450.204 855.563,-438.615 853.247,-427.776\"/>\r\n",
       "<polygon fill=\"black\" stroke=\"black\" points=\"856.599,-426.715 851.087,-417.667 849.754,-428.178 856.599,-426.715\"/>\r\n",
       "</g>\r\n",
       "<!-- 21 -->\r\n",
       "<g id=\"node22\" class=\"node\"><title>21</title>\r\n",
       "<polygon fill=\"none\" stroke=\"black\" points=\"1002.5,-417.5 911.5,-417.5 911.5,-349.5 1002.5,-349.5 1002.5,-417.5\"/>\r\n",
       "<text text-anchor=\"start\" x=\"930.5\" y=\"-402.3\" font-family=\"Times New Roman,serif\" font-size=\"14.00\">gini = 0.0</text>\r\n",
       "<text text-anchor=\"start\" x=\"923\" y=\"-387.3\" font-family=\"Times New Roman,serif\" font-size=\"14.00\">samples = 1</text>\r\n",
       "<text text-anchor=\"start\" x=\"919.5\" y=\"-372.3\" font-family=\"Times New Roman,serif\" font-size=\"14.00\">value = [0, 1]</text>\r\n",
       "<text text-anchor=\"start\" x=\"931.5\" y=\"-357.3\" font-family=\"Times New Roman,serif\" font-size=\"14.00\">class = 0</text>\r\n",
       "</g>\r\n",
       "<!-- 19&#45;&gt;21 -->\r\n",
       "<g id=\"edge21\" class=\"edge\"><title>19&#45;&gt;21</title>\r\n",
       "<path fill=\"none\" stroke=\"black\" d=\"M899.531,-460.907C908.08,-449.542 917.379,-437.178 925.956,-425.774\"/>\r\n",
       "<polygon fill=\"black\" stroke=\"black\" points=\"928.84,-427.763 932.054,-417.667 923.246,-423.555 928.84,-427.763\"/>\r\n",
       "</g>\r\n",
       "<!-- 24 -->\r\n",
       "<g id=\"node25\" class=\"node\"><title>24</title>\r\n",
       "<polygon fill=\"none\" stroke=\"black\" points=\"1092,-655.5 994,-655.5 994,-587.5 1092,-587.5 1092,-655.5\"/>\r\n",
       "<text text-anchor=\"start\" x=\"1009.5\" y=\"-640.3\" font-family=\"Times New Roman,serif\" font-size=\"14.00\">gini = 0.393</text>\r\n",
       "<text text-anchor=\"start\" x=\"1005.5\" y=\"-625.3\" font-family=\"Times New Roman,serif\" font-size=\"14.00\">samples = 26</text>\r\n",
       "<text text-anchor=\"start\" x=\"1002\" y=\"-610.3\" font-family=\"Times New Roman,serif\" font-size=\"14.00\">value = [7, 19]</text>\r\n",
       "<text text-anchor=\"start\" x=\"1017.5\" y=\"-595.3\" font-family=\"Times New Roman,serif\" font-size=\"14.00\">class = 0</text>\r\n",
       "</g>\r\n",
       "<!-- 23&#45;&gt;24 -->\r\n",
       "<g id=\"edge24\" class=\"edge\"><title>23&#45;&gt;24</title>\r\n",
       "<path fill=\"none\" stroke=\"black\" d=\"M1106.35,-698.907C1096.83,-687.432 1086.47,-674.938 1076.94,-663.442\"/>\r\n",
       "<polygon fill=\"black\" stroke=\"black\" points=\"1079.57,-661.131 1070.5,-655.667 1074.19,-665.599 1079.57,-661.131\"/>\r\n",
       "</g>\r\n",
       "<!-- 25 -->\r\n",
       "<g id=\"node26\" class=\"node\"><title>25</title>\r\n",
       "<polygon fill=\"none\" stroke=\"black\" points=\"1201.5,-655.5 1110.5,-655.5 1110.5,-587.5 1201.5,-587.5 1201.5,-655.5\"/>\r\n",
       "<text text-anchor=\"start\" x=\"1129.5\" y=\"-640.3\" font-family=\"Times New Roman,serif\" font-size=\"14.00\">gini = 0.0</text>\r\n",
       "<text text-anchor=\"start\" x=\"1122\" y=\"-625.3\" font-family=\"Times New Roman,serif\" font-size=\"14.00\">samples = 1</text>\r\n",
       "<text text-anchor=\"start\" x=\"1118.5\" y=\"-610.3\" font-family=\"Times New Roman,serif\" font-size=\"14.00\">value = [1, 0]</text>\r\n",
       "<text text-anchor=\"start\" x=\"1131.5\" y=\"-595.3\" font-family=\"Times New Roman,serif\" font-size=\"14.00\">class = [</text>\r\n",
       "</g>\r\n",
       "<!-- 23&#45;&gt;25 -->\r\n",
       "<g id=\"edge25\" class=\"edge\"><title>23&#45;&gt;25</title>\r\n",
       "<path fill=\"none\" stroke=\"black\" d=\"M1145.55,-698.907C1147.01,-688.204 1148.6,-676.615 1150.08,-665.776\"/>\r\n",
       "<polygon fill=\"black\" stroke=\"black\" points=\"1153.58,-666.049 1151.46,-655.667 1146.64,-665.1 1153.58,-666.049\"/>\r\n",
       "</g>\r\n",
       "<!-- 27 -->\r\n",
       "<g id=\"node28\" class=\"node\"><title>27</title>\r\n",
       "<polygon fill=\"none\" stroke=\"black\" points=\"1476.5,-782 1287.5,-782 1287.5,-699 1476.5,-699 1476.5,-782\"/>\r\n",
       "<text text-anchor=\"start\" x=\"1295.5\" y=\"-766.8\" font-family=\"Times New Roman,serif\" font-size=\"14.00\">Counts_peopl ask stupid ≤ 0.5</text>\r\n",
       "<text text-anchor=\"start\" x=\"1348.5\" y=\"-751.8\" font-family=\"Times New Roman,serif\" font-size=\"14.00\">gini = 0.332</text>\r\n",
       "<text text-anchor=\"start\" x=\"1344.5\" y=\"-736.8\" font-family=\"Times New Roman,serif\" font-size=\"14.00\">samples = 19</text>\r\n",
       "<text text-anchor=\"start\" x=\"1341\" y=\"-721.8\" font-family=\"Times New Roman,serif\" font-size=\"14.00\">value = [4, 15]</text>\r\n",
       "<text text-anchor=\"start\" x=\"1356.5\" y=\"-706.8\" font-family=\"Times New Roman,serif\" font-size=\"14.00\">class = 0</text>\r\n",
       "</g>\r\n",
       "<!-- 26&#45;&gt;27 -->\r\n",
       "<g id=\"edge27\" class=\"edge\"><title>26&#45;&gt;27</title>\r\n",
       "<path fill=\"none\" stroke=\"black\" d=\"M1382,-817.907C1382,-809.649 1382,-800.864 1382,-792.302\"/>\r\n",
       "<polygon fill=\"black\" stroke=\"black\" points=\"1385.5,-792.021 1382,-782.021 1378.5,-792.021 1385.5,-792.021\"/>\r\n",
       "</g>\r\n",
       "<!-- 32 -->\r\n",
       "<g id=\"node33\" class=\"node\"><title>32</title>\r\n",
       "<polygon fill=\"none\" stroke=\"black\" points=\"1688.5,-782 1499.5,-782 1499.5,-699 1688.5,-699 1688.5,-782\"/>\r\n",
       "<text text-anchor=\"start\" x=\"1507.5\" y=\"-766.8\" font-family=\"Times New Roman,serif\" font-size=\"14.00\">Counts_peopl ask stupid ≤ 0.5</text>\r\n",
       "<text text-anchor=\"start\" x=\"1564\" y=\"-751.8\" font-family=\"Times New Roman,serif\" font-size=\"14.00\">gini = 0.49</text>\r\n",
       "<text text-anchor=\"start\" x=\"1560\" y=\"-736.8\" font-family=\"Times New Roman,serif\" font-size=\"14.00\">samples = 7</text>\r\n",
       "<text text-anchor=\"start\" x=\"1556.5\" y=\"-721.8\" font-family=\"Times New Roman,serif\" font-size=\"14.00\">value = [3, 4]</text>\r\n",
       "<text text-anchor=\"start\" x=\"1568.5\" y=\"-706.8\" font-family=\"Times New Roman,serif\" font-size=\"14.00\">class = 0</text>\r\n",
       "</g>\r\n",
       "<!-- 26&#45;&gt;32 -->\r\n",
       "<g id=\"edge32\" class=\"edge\"><title>26&#45;&gt;32</title>\r\n",
       "<path fill=\"none\" stroke=\"black\" d=\"M1455.55,-817.907C1473.64,-807.925 1493.12,-797.172 1511.6,-786.976\"/>\r\n",
       "<polygon fill=\"black\" stroke=\"black\" points=\"1513.51,-789.917 1520.58,-782.021 1510.13,-783.788 1513.51,-789.917\"/>\r\n",
       "</g>\r\n",
       "<!-- 28 -->\r\n",
       "<g id=\"node29\" class=\"node\"><title>28</title>\r\n",
       "<polygon fill=\"none\" stroke=\"black\" points=\"1414,-663 1220,-663 1220,-580 1414,-580 1414,-663\"/>\r\n",
       "<text text-anchor=\"start\" x=\"1228\" y=\"-647.8\" font-family=\"Times New Roman,serif\" font-size=\"14.00\">Counts_mani peopl quora ≤ 0.5</text>\r\n",
       "<text text-anchor=\"start\" x=\"1283.5\" y=\"-632.8\" font-family=\"Times New Roman,serif\" font-size=\"14.00\">gini = 0.408</text>\r\n",
       "<text text-anchor=\"start\" x=\"1283\" y=\"-617.8\" font-family=\"Times New Roman,serif\" font-size=\"14.00\">samples = 7</text>\r\n",
       "<text text-anchor=\"start\" x=\"1279.5\" y=\"-602.8\" font-family=\"Times New Roman,serif\" font-size=\"14.00\">value = [2, 5]</text>\r\n",
       "<text text-anchor=\"start\" x=\"1291.5\" y=\"-587.8\" font-family=\"Times New Roman,serif\" font-size=\"14.00\">class = 0</text>\r\n",
       "</g>\r\n",
       "<!-- 27&#45;&gt;28 -->\r\n",
       "<g id=\"edge28\" class=\"edge\"><title>27&#45;&gt;28</title>\r\n",
       "<path fill=\"none\" stroke=\"black\" d=\"M1359.45,-698.907C1354.61,-690.195 1349.44,-680.897 1344.44,-671.893\"/>\r\n",
       "<polygon fill=\"black\" stroke=\"black\" points=\"1347.43,-670.063 1339.51,-663.021 1341.31,-673.462 1347.43,-670.063\"/>\r\n",
       "</g>\r\n",
       "<!-- 31 -->\r\n",
       "<g id=\"node32\" class=\"node\"><title>31</title>\r\n",
       "<polygon fill=\"none\" stroke=\"black\" points=\"1530,-655.5 1432,-655.5 1432,-587.5 1530,-587.5 1530,-655.5\"/>\r\n",
       "<text text-anchor=\"start\" x=\"1447.5\" y=\"-640.3\" font-family=\"Times New Roman,serif\" font-size=\"14.00\">gini = 0.278</text>\r\n",
       "<text text-anchor=\"start\" x=\"1443.5\" y=\"-625.3\" font-family=\"Times New Roman,serif\" font-size=\"14.00\">samples = 12</text>\r\n",
       "<text text-anchor=\"start\" x=\"1440\" y=\"-610.3\" font-family=\"Times New Roman,serif\" font-size=\"14.00\">value = [2, 10]</text>\r\n",
       "<text text-anchor=\"start\" x=\"1455.5\" y=\"-595.3\" font-family=\"Times New Roman,serif\" font-size=\"14.00\">class = 0</text>\r\n",
       "</g>\r\n",
       "<!-- 27&#45;&gt;31 -->\r\n",
       "<g id=\"edge31\" class=\"edge\"><title>27&#45;&gt;31</title>\r\n",
       "<path fill=\"none\" stroke=\"black\" d=\"M1416.35,-698.907C1426.06,-687.432 1436.63,-674.938 1446.36,-663.442\"/>\r\n",
       "<polygon fill=\"black\" stroke=\"black\" points=\"1449.15,-665.562 1452.94,-655.667 1443.8,-661.04 1449.15,-665.562\"/>\r\n",
       "</g>\r\n",
       "<!-- 29 -->\r\n",
       "<g id=\"node30\" class=\"node\"><title>29</title>\r\n",
       "<polygon fill=\"none\" stroke=\"black\" points=\"1307.5,-536.5 1216.5,-536.5 1216.5,-468.5 1307.5,-468.5 1307.5,-536.5\"/>\r\n",
       "<text text-anchor=\"start\" x=\"1228.5\" y=\"-521.3\" font-family=\"Times New Roman,serif\" font-size=\"14.00\">gini = 0.444</text>\r\n",
       "<text text-anchor=\"start\" x=\"1228\" y=\"-506.3\" font-family=\"Times New Roman,serif\" font-size=\"14.00\">samples = 6</text>\r\n",
       "<text text-anchor=\"start\" x=\"1224.5\" y=\"-491.3\" font-family=\"Times New Roman,serif\" font-size=\"14.00\">value = [2, 4]</text>\r\n",
       "<text text-anchor=\"start\" x=\"1236.5\" y=\"-476.3\" font-family=\"Times New Roman,serif\" font-size=\"14.00\">class = 0</text>\r\n",
       "</g>\r\n",
       "<!-- 28&#45;&gt;29 -->\r\n",
       "<g id=\"edge29\" class=\"edge\"><title>28&#45;&gt;29</title>\r\n",
       "<path fill=\"none\" stroke=\"black\" d=\"M1297.92,-579.907C1292.73,-568.873 1287.1,-556.898 1281.87,-545.773\"/>\r\n",
       "<polygon fill=\"black\" stroke=\"black\" points=\"1285.01,-544.228 1277.59,-536.667 1278.68,-547.206 1285.01,-544.228\"/>\r\n",
       "</g>\r\n",
       "<!-- 30 -->\r\n",
       "<g id=\"node31\" class=\"node\"><title>30</title>\r\n",
       "<polygon fill=\"none\" stroke=\"black\" points=\"1416.5,-536.5 1325.5,-536.5 1325.5,-468.5 1416.5,-468.5 1416.5,-536.5\"/>\r\n",
       "<text text-anchor=\"start\" x=\"1344.5\" y=\"-521.3\" font-family=\"Times New Roman,serif\" font-size=\"14.00\">gini = 0.0</text>\r\n",
       "<text text-anchor=\"start\" x=\"1337\" y=\"-506.3\" font-family=\"Times New Roman,serif\" font-size=\"14.00\">samples = 1</text>\r\n",
       "<text text-anchor=\"start\" x=\"1333.5\" y=\"-491.3\" font-family=\"Times New Roman,serif\" font-size=\"14.00\">value = [0, 1]</text>\r\n",
       "<text text-anchor=\"start\" x=\"1345.5\" y=\"-476.3\" font-family=\"Times New Roman,serif\" font-size=\"14.00\">class = 0</text>\r\n",
       "</g>\r\n",
       "<!-- 28&#45;&gt;30 -->\r\n",
       "<g id=\"edge30\" class=\"edge\"><title>28&#45;&gt;30</title>\r\n",
       "<path fill=\"none\" stroke=\"black\" d=\"M1335.74,-579.907C1340.83,-568.873 1346.35,-556.898 1351.49,-545.773\"/>\r\n",
       "<polygon fill=\"black\" stroke=\"black\" points=\"1354.68,-547.213 1355.69,-536.667 1348.32,-544.28 1354.68,-547.213\"/>\r\n",
       "</g>\r\n",
       "<!-- 33 -->\r\n",
       "<g id=\"node34\" class=\"node\"><title>33</title>\r\n",
       "<polygon fill=\"none\" stroke=\"black\" points=\"1639.5,-655.5 1548.5,-655.5 1548.5,-587.5 1639.5,-587.5 1639.5,-655.5\"/>\r\n",
       "<text text-anchor=\"start\" x=\"1567.5\" y=\"-640.3\" font-family=\"Times New Roman,serif\" font-size=\"14.00\">gini = 0.0</text>\r\n",
       "<text text-anchor=\"start\" x=\"1560\" y=\"-625.3\" font-family=\"Times New Roman,serif\" font-size=\"14.00\">samples = 2</text>\r\n",
       "<text text-anchor=\"start\" x=\"1556.5\" y=\"-610.3\" font-family=\"Times New Roman,serif\" font-size=\"14.00\">value = [0, 2]</text>\r\n",
       "<text text-anchor=\"start\" x=\"1568.5\" y=\"-595.3\" font-family=\"Times New Roman,serif\" font-size=\"14.00\">class = 0</text>\r\n",
       "</g>\r\n",
       "<!-- 32&#45;&gt;33 -->\r\n",
       "<g id=\"edge33\" class=\"edge\"><title>32&#45;&gt;33</title>\r\n",
       "<path fill=\"none\" stroke=\"black\" d=\"M1594,-698.907C1594,-688.204 1594,-676.615 1594,-665.776\"/>\r\n",
       "<polygon fill=\"black\" stroke=\"black\" points=\"1597.5,-665.667 1594,-655.667 1590.5,-665.667 1597.5,-665.667\"/>\r\n",
       "</g>\r\n",
       "<!-- 34 -->\r\n",
       "<g id=\"node35\" class=\"node\"><title>34</title>\r\n",
       "<polygon fill=\"none\" stroke=\"black\" points=\"1748.5,-655.5 1657.5,-655.5 1657.5,-587.5 1748.5,-587.5 1748.5,-655.5\"/>\r\n",
       "<text text-anchor=\"start\" x=\"1673\" y=\"-640.3\" font-family=\"Times New Roman,serif\" font-size=\"14.00\">gini = 0.48</text>\r\n",
       "<text text-anchor=\"start\" x=\"1669\" y=\"-625.3\" font-family=\"Times New Roman,serif\" font-size=\"14.00\">samples = 5</text>\r\n",
       "<text text-anchor=\"start\" x=\"1665.5\" y=\"-610.3\" font-family=\"Times New Roman,serif\" font-size=\"14.00\">value = [3, 2]</text>\r\n",
       "<text text-anchor=\"start\" x=\"1678.5\" y=\"-595.3\" font-family=\"Times New Roman,serif\" font-size=\"14.00\">class = [</text>\r\n",
       "</g>\r\n",
       "<!-- 32&#45;&gt;34 -->\r\n",
       "<g id=\"edge34\" class=\"edge\"><title>32&#45;&gt;34</title>\r\n",
       "<path fill=\"none\" stroke=\"black\" d=\"M1631.82,-698.907C1642.61,-687.321 1654.37,-674.698 1665.17,-663.111\"/>\r\n",
       "<polygon fill=\"black\" stroke=\"black\" points=\"1667.85,-665.37 1672.1,-655.667 1662.72,-660.598 1667.85,-665.37\"/>\r\n",
       "</g>\r\n",
       "</g>\r\n",
       "</svg>\r\n"
      ],
      "text/plain": [
       "<graphviz.files.Source at 0x27568e04eb8>"
      ]
     },
     "execution_count": 15,
     "metadata": {},
     "output_type": "execute_result"
    }
   ],
   "source": [
    "# Now we want to visualize the tree\n",
    "# We can do so with export_graphviz\n",
    "\n",
    "import graphviz \n",
    "dot_data = tree.export_graphviz(gini_model_2, out_file=None,feature_names=X_train.columns,\n",
    "                                class_names=str(np.unique(y_train)), \n",
    "                                filled=False, rounded=False,\n",
    "                                special_characters=True)  \n",
    "graph = graphviz.Source(dot_data)  \n",
    "graph"
   ]
  },
  {
   "cell_type": "code",
   "execution_count": 16,
   "metadata": {},
   "outputs": [
    {
     "name": "stdout",
     "output_type": "stream",
     "text": [
      "====Decision Tree: Gini impurity  model - max depth 10====\n",
      "Accuracy: 0.938\n",
      "Balanced accuracy: 0.502\n",
      "Precision score 0.667\n",
      "Recall score 0.004\n"
     ]
    }
   ],
   "source": [
    "print('====Decision Tree: Gini impurity  model - max depth 10====')\n",
    "print('Accuracy:', round(metrics.accuracy_score(y_test,y_pred_dt_2),3))\n",
    "print('Balanced accuracy:', round(metrics.balanced_accuracy_score(y_test,y_pred_dt_2),3))\n",
    "print('Precision score' , round(metrics.precision_score(y_test,y_pred_dt_2, pos_label = 1),3))\n",
    "print('Recall score' , round(metrics.recall_score(y_test,y_pred_dt_2, pos_label = 1),3))"
   ]
  },
  {
   "cell_type": "code",
   "execution_count": 17,
   "metadata": {},
   "outputs": [
    {
     "data": {
      "image/png": "[encoded data removed]",
      "text/plain": [
       "<Figure size 432x288 with 2 Axes>"
      ]
     },
     "metadata": {
      "needs_background": "light"
     },
     "output_type": "display_data"
    },
    {
     "name": "stdout",
     "output_type": "stream",
     "text": [
      "[[228862     30]\n",
      " [ 15055     60]]\n"
     ]
    }
   ],
   "source": [
    "cnf_matrix= confusion_matrix(y_test,y_pred_dt_2)\n",
    "\n",
    "_ = plot_confusion_matrix(gini_model_2, X_test, y_test) \n",
    "_ = plt.title('Insincere questions - 1, Sincere questions - 0')\n",
    "_ = plt.show()\n",
    "\n",
    "print(cnf_matrix)"
   ]
  },
  {
   "cell_type": "markdown",
   "metadata": {},
   "source": [
    "#### 6d. Random Forest"
   ]
  },
  {
   "cell_type": "code",
   "execution_count": 18,
   "metadata": {},
   "outputs": [
    {
     "name": "stdout",
     "output_type": "stream",
     "text": [
      "====Random Forest====\n",
      "Accuracy score: 0.9381984943054912\n",
      "Precision score: 0.6666666666666666\n",
      "f1-score: 0.9087051186104059\n"
     ]
    }
   ],
   "source": [
    "rf = RandomForestClassifier(n_estimators=100, random_state = 1,n_jobs=-1)\n",
    "model_rf = rf.fit(X_train, y_train)\n",
    "\n",
    "#Predict test data\n",
    "y_pred_rf = model_rf.predict(X_test)\n",
    "\n",
    "print('====Random Forest====')\n",
    "print('Accuracy score:', accuracy_score(y_test, y_pred_rf))\n",
    "print('Precision score:', precision_score(y_test,y_pred_rf, pos_label = 1))\n",
    "print('f1-score:', f1_score(y_test, y_pred_rf, average='weighted'))"
   ]
  },
  {
   "cell_type": "code",
   "execution_count": 19,
   "metadata": {
    "scrolled": true
   },
   "outputs": [
    {
     "data": {
      "image/png": "[encoded data removed]",
      "text/plain": [
       "<Figure size 432x288 with 2 Axes>"
      ]
     },
     "metadata": {
      "needs_background": "light"
     },
     "output_type": "display_data"
    },
    {
     "name": "stdout",
     "output_type": "stream",
     "text": [
      "[[228857     35]\n",
      " [ 15045     70]]\n"
     ]
    }
   ],
   "source": [
    "cnf_matrix= confusion_matrix(y_test,y_pred_rf)\n",
    "\n",
    "_ = plot_confusion_matrix(model_rf, X_test, y_test) \n",
    "_ = plt.title('Insincere questions - 1, Sincere questions - 0')\n",
    "_ = plt.show()\n",
    "\n",
    "print(cnf_matrix)"
   ]
  },
  {
   "cell_type": "markdown",
   "metadata": {},
   "source": [
    "#### 6e. Gradient Boosting"
   ]
  },
  {
   "cell_type": "code",
   "execution_count": 20,
   "metadata": {},
   "outputs": [],
   "source": [
    "def train_GB(n_est, max_features, max_depth):\n",
    "    gb = GradientBoostingClassifier(n_estimators = n_est, max_features = max_features, max_depth=max_depth)\n",
    "    gb_model = gb.fit(X_train, y_train)\n",
    "    y_pred_gb = gb_model.predict(X_test)\n",
    "    precision, recall, fscore, train_support = score(y_test, y_pred_gb, pos_label=1, average='binary')\n",
    "    print('Est: {} / Features: {} / Depth: {} / ---- Precision: {} / Recall: {} / Accuracy: {}'.format(\n",
    "        n_est, max_features, max_depth, round(precision, 3), round(recall, 3), \n",
    "        round((y_pred_gb==y_test).sum()/len(y_pred_gb), 3)))"
   ]
  },
  {
   "cell_type": "code",
   "execution_count": null,
   "metadata": {},
   "outputs": [
    {
     "name": "stdout",
     "output_type": "stream",
     "text": [
      "Est: 150 / Features: 50 / Depth: 10 / ---- Precision: 0.673 / Recall: 0.005 / Accuracy: 0.938\n",
      "Est: 150 / Features: 50 / Depth: 20 / ---- Precision: 0.67 / Recall: 0.005 / Accuracy: 0.938\n",
      "Est: 150 / Features: 200 / Depth: 10 / ---- Precision: 0.661 / Recall: 0.005 / Accuracy: 0.938\n",
      "Est: 150 / Features: 200 / Depth: 20 / ---- Precision: 0.676 / Recall: 0.005 / Accuracy: 0.938\n",
      "Est: 300 / Features: 50 / Depth: 10 / ---- Precision: 0.667 / Recall: 0.005 / Accuracy: 0.938\n",
      "Est: 300 / Features: 50 / Depth: 20 / ---- Precision: 0.664 / Recall: 0.005 / Accuracy: 0.938\n"
     ]
    }
   ],
   "source": [
    "for n_est in [150, 300]:\n",
    "    for max_features in [50, 200]:\n",
    "        for max_depth in [10, 20]:\n",
    "            train_GB(n_est, max_features, max_depth)"
   ]
  },
  {
   "cell_type": "code",
   "execution_count": null,
   "metadata": {},
   "outputs": [],
   "source": [
    "#for max_features in [50, 200]:\n",
    "#    for max_depth in [10,20]:\n",
    "#        train_GB(200, max_features, max_depth)"
   ]
  },
  {
   "cell_type": "code",
   "execution_count": 22,
   "metadata": {},
   "outputs": [
    {
     "name": "stdout",
     "output_type": "stream",
     "text": [
      "====Gradient Boosting Model====\n",
      "Training time: 126.30997610092163\n",
      "Test prediction time: 3.2382829189300537\n",
      "Learning rate:  0.5\n",
      "Accuracy score: 0.9381902978193248\n",
      "Precision score: 0.6434782608695652\n",
      "\n",
      "====Gradient Boosting Model====\n",
      "Training time: 133.70625472068787\n",
      "Test prediction time: 3.2153844833374023\n",
      "Learning rate:  1\n",
      "Accuracy score: 0.9379894839082485\n",
      "Precision score: 0.4344262295081967\n",
      "\n"
     ]
    }
   ],
   "source": [
    "learning_rates = [0.5, 1]\n",
    "for learning_rate in learning_rates:\n",
    "    gb_updated = GradientBoostingClassifier(n_estimators=100, learning_rate = learning_rate, max_features=50, max_depth = 10, random_state = 0)\n",
    "    start = time.time()\n",
    "    gb_model = gb_updated.fit(X_train, y_train)\n",
    "    end = time.time()\n",
    "    training_time = (end - start)\n",
    "\n",
    "    start = time.time()\n",
    "    y_pred_gb_updated = gb_model.predict(X_test)\n",
    "    end = time.time()\n",
    "    pred_time = (end - start)\n",
    "    \n",
    "    print('====Gradient Boosting Model====')\n",
    "    print(\"Training time:\", training_time)\n",
    "    print(\"Test prediction time:\", pred_time)\n",
    "    print(\"Learning rate: \", learning_rate)\n",
    "    print('Accuracy score:', accuracy_score(y_test, y_pred_gb_updated))\n",
    "    print('Precision score:', precision_score(y_test,y_pred_gb_updated, pos_label = 1))\n",
    "    print()"
   ]
  },
  {
   "cell_type": "code",
   "execution_count": 50,
   "metadata": {},
   "outputs": [],
   "source": [
    "# choose precision score derived at 0.5 learning rate since that is higher. Lower the learning rate, \n",
    "#the precision score of test data is higher, since there is less overfitting in this case\n",
    "roc_auc_gb = round(0.6434782608695652, 3)"
   ]
  },
  {
   "cell_type": "code",
   "execution_count": 33,
   "metadata": {},
   "outputs": [
    {
     "data": {
      "image/png": "[encoded data removed]",
      "text/plain": [
       "<Figure size 432x288 with 2 Axes>"
      ]
     },
     "metadata": {
      "needs_background": "light"
     },
     "output_type": "display_data"
    },
    {
     "name": "stdout",
     "output_type": "stream",
     "text": [
      "[[228823     69]\n",
      " [ 15062     53]]\n"
     ]
    }
   ],
   "source": [
    "cnf_matrix= confusion_matrix(y_test,y_pred_gb_updated)\n",
    "\n",
    "_ = plot_confusion_matrix(gb_updated, X_test, y_test) \n",
    "_ = plt.title('Insincere questions - 1, Sincere questions - 0')\n",
    "_ = plt.show()\n",
    "\n",
    "print(cnf_matrix)"
   ]
  },
  {
   "cell_type": "markdown",
   "metadata": {},
   "source": [
    "### 7. Compare Model performances"
   ]
  },
  {
   "cell_type": "code",
   "execution_count": 51,
   "metadata": {},
   "outputs": [
    {
     "name": "stdout",
     "output_type": "stream",
     "text": [
      "                                  Algorithm  Model precision score\n",
      "0                       Logistic Regression               0.652174\n",
      "1  Logistic Regression w/ L2 Regularization               0.636364\n",
      "2                               Naive Bayes               0.063086\n",
      "3                        Gini Decision Tree               0.666667\n",
      "4                             Random Forest               0.666667\n",
      "5                         Gradient Boosting               0.643000\n",
      "                                  Algorithm  ROC AUC score\n",
      "0                       Logistic Regression       0.501436\n",
      "1  Logistic Regression w/ L2 Regularization       0.502005\n",
      "2                               Naive Bayes       0.509608\n",
      "3                        Gini Decision Tree       0.501919\n",
      "4                             Random Forest       0.502239\n",
      "5                         Gradient Boosting       0.501602\n"
     ]
    }
   ],
   "source": [
    "myLabels = ['Logistic Regression','Logistic Regression w/ L2 Regularization','Naive Bayes', 'Gini Decision Tree', 'Random Forest', 'Gradient Boosting' ]\n",
    "Precision_score = [precision_score(y_test, clf.predict(X_test)), precision_score(y_test,y_pred_lr), precision_score(y_test,y_predict_nb), precision_score(y_test,y_pred_dt_2), \n",
    "                  precision_score(y_test,y_pred_rf), roc_auc_gb]\n",
    "ROC_score = [roc_auc_score(y_test, clf.predict(X_test)), roc_auc_score(y_test, y_pred_lr), roc_auc_score(y_test, y_predict_nb), roc_auc_score(y_test, y_pred_dt_2), \n",
    "             roc_auc_score(y_test, y_pred_rf), roc_auc_score(y_test, y_pred_gb_updated)]\n",
    "\n",
    "score_tab_pr = pd.DataFrame(list(zip(myLabels, Precision_score)), \n",
    "               columns =['Algorithm', 'Model precision score']) \n",
    "\n",
    "score_tab_roc = pd.DataFrame(list(zip(myLabels, ROC_score)), \n",
    "               columns =['Algorithm', 'ROC AUC score']) \n",
    "\n",
    "print(score_tab_pr)\n",
    "print(score_tab_roc)"
   ]
  },
  {
   "cell_type": "code",
   "execution_count": 53,
   "metadata": {},
   "outputs": [
    {
     "data": {
      "image/png": "[encoded data removed]",
      "text/plain": [
       "<Figure size 720x720 with 1 Axes>"
      ]
     },
     "metadata": {
      "needs_background": "light"
     },
     "output_type": "display_data"
    }
   ],
   "source": [
    "#plotting and comparing ROC-AUC scores:\n",
    "\n",
    "index=[1,2,3,4,5,6]\n",
    "index_roc=[1.2, 2.2, 3.2, 4.2, 5.2, 6.2]\n",
    "plt.figure(figsize=(10,10))\n",
    "plt.xlabel('Models',fontsize=15)\n",
    "plt.ylabel ('Precision and ROC scores',fontsize=15)\n",
    "plt.title('Comparison of the algorithms',fontsize=15)\n",
    "\n",
    "plt.yticks(np.arange(0, 1, 0.05), )\n",
    "plt.xticks([1,2,3,4,5,6], [\"Logistic Regression\", \"Logistic Regression w/ L2 Regularization\", \"Naive Bayes\", \"Decision Tree\", \"Random Forest\", \"Gradient Boosting\"], rotation=45)\n",
    "_=plt.bar(index, Precision_score, label = 'Precision Score',color='coral',alpha=0.6, edgecolor='k',width=0.2)\n",
    "_=plt.bar(index_roc, ROC_score, color='blue',label = 'ROC AUC Score', alpha=0.8, edgecolor='k',width=0.2)\n",
    "plt.legend()\n",
    "plt.savefig(\"model_comparison.png\")\n",
    "plt.show()"
   ]
  },
  {
   "cell_type": "markdown",
   "metadata": {},
   "source": [
    "### Conclusion 1"
   ]
  },
  {
   "cell_type": "markdown",
   "metadata": {},
   "source": [
    "Since we want to weed out insincere questions from Quora dataset, it is important to have a high precision score (less number of false positive) for 1 - insincere questions\n",
    "Hence 'Precision' and 'ROC-AUC' scores for test data are plotted. \n",
    "The two best performing models are the Decision tree and Random forest (see reasoning below)"
   ]
  },
  {
   "cell_type": "markdown",
   "metadata": {},
   "source": [
    "- Logistic Regression and even Logistic Regression w/ L2 regularization yielded lower performance and ROC-AUC scores, hence were rejected.\n",
    "- Naive Bayes classifier's gave an extremely low precision score but a very high true positive rate, since it goes with the assumption that features are independent of one another when conditioned upon class labels which is not true in this case. Hence the model can be deemed not very useful for this use case.\n",
    "- KNN model was also attempted, but it was taking forever to run considering the size of the dataset, in this case n is close to 1 mn records, hence the computational time is around  O[N log(N)] time - hence the algorithm was stopped midway and rejected.\n",
    "- Gradient Boosting after performing multiple hyperparameter tuning at 0.5 learning rate, though has better scores compared to Logistic regression and Naive Bayes models, still is low enough when compared to decision tree and Random forest. \n",
    "\n",
    "\n",
    "- After multiple trials, it seems like Decision tree  at max_depth = 10 using gini model, gives a better performance and is extremely fast when compared to Gradient Boosting. \n",
    "- Random forest, another ensemble Decision tree model gives almost the same level of performance as Decision tree (w/ gini impurity) whose performance can be enhanced using some CV and hyperparameter tuning which is what we will do in next step."
   ]
  },
  {
   "cell_type": "markdown",
   "metadata": {},
   "source": [
    "### 8.  Applying Grid search CV for hyperparameter Tuning:"
   ]
  },
  {
   "cell_type": "markdown",
   "metadata": {},
   "source": [
    "##### 8.a Parameter Tuning for Random Forest"
   ]
  },
  {
   "cell_type": "code",
   "execution_count": 46,
   "metadata": {},
   "outputs": [
    {
     "name": "stdout",
     "output_type": "stream",
     "text": [
      "Fitting 3 folds for each of 54 candidates, totalling 162 fits\n"
     ]
    },
    {
     "name": "stderr",
     "output_type": "stream",
     "text": [
      "[Parallel(n_jobs=-1)]: Using backend LokyBackend with 8 concurrent workers.\n",
      "[Parallel(n_jobs=-1)]: Done  34 tasks      | elapsed:  9.9min\n",
      "[Parallel(n_jobs=-1)]: Done 162 out of 162 | elapsed: 58.5min finished\n"
     ]
    },
    {
     "name": "stdout",
     "output_type": "stream",
     "text": [
      "RandomForestClassifier(max_depth=10, n_jobs=-1, random_state=1)\n",
      "0.9381204465424068\n"
     ]
    }
   ],
   "source": [
    "#https://stats.stackexchange.com/questions/286107/setting-leaf-nodes-minimum-sample-value-for-random-forest-decision-trees\n",
    "\n",
    "from sklearn.model_selection import GridSearchCV\n",
    "\n",
    "rf = RandomForestClassifier(max_features='auto',random_state=1, n_jobs=-1)\n",
    "\n",
    "param_grid = { \"criterion\" : [\"gini\", \"entropy\"], \n",
    "              \"max_features\": ['auto', 'sqrt', 'log2'],\n",
    "              \"max_depth\" : [2,5,10],\n",
    "              \"n_estimators\": [100, 200, 300]}\n",
    "\n",
    "rf_cv_model = GridSearchCV(estimator=rf, param_grid=param_grid, scoring='accuracy', cv=3, n_jobs=-1, verbose=1)\n",
    "\n",
    "rf_cv = rf_cv_model.fit(X_train, y_train)\n",
    "\n",
    "print(rf_cv.best_estimator_) \n",
    "print(rf_cv.best_score_)"
   ]
  },
  {
   "cell_type": "code",
   "execution_count": 47,
   "metadata": {},
   "outputs": [
    {
     "name": "stdout",
     "output_type": "stream",
     "text": [
      "Fitting 3 folds for each of 54 candidates, totalling 162 fits\n"
     ]
    },
    {
     "name": "stderr",
     "output_type": "stream",
     "text": [
      "[Parallel(n_jobs=-1)]: Using backend LokyBackend with 8 concurrent workers.\n",
      "[Parallel(n_jobs=-1)]: Done  34 tasks      | elapsed:  9.8min\n",
      "[Parallel(n_jobs=-1)]: Done 162 out of 162 | elapsed: 56.3min finished\n"
     ]
    },
    {
     "name": "stdout",
     "output_type": "stream",
     "text": [
      "RandomForestClassifier(max_depth=10, n_jobs=-1, random_state=1)\n",
      "0.2380952380952381\n"
     ]
    }
   ],
   "source": [
    "#https://stats.stackexchange.com/questions/286107/setting-leaf-nodes-minimum-sample-value-for-random-forest-decision-trees\n",
    "\n",
    "from sklearn.model_selection import GridSearchCV\n",
    "\n",
    "rf = RandomForestClassifier(max_features='auto',random_state=1, n_jobs=-1)\n",
    "\n",
    "param_grid = { \"criterion\" : [\"gini\", \"entropy\"], \n",
    "              \"max_features\": ['auto', 'sqrt', 'log2'],\n",
    "              \"max_depth\" : [2,5,10],\n",
    "              \"n_estimators\": [100, 200, 300]}\n",
    "\n",
    "rf_cv_model_2 = GridSearchCV(estimator=rf, param_grid=param_grid, scoring='precision', cv=3, n_jobs=-1, verbose=1)\n",
    "\n",
    "rf_cv_2 = rf_cv_model_2.fit(X_train, y_train)\n",
    "\n",
    "print(rf_cv_2.best_estimator_) \n",
    "print(rf_cv_2.best_score_)"
   ]
  },
  {
   "cell_type": "markdown",
   "metadata": {},
   "source": [
    "##### 8.b Parameter Tuning for Decision Tree"
   ]
  },
  {
   "cell_type": "code",
   "execution_count": 10,
   "metadata": {},
   "outputs": [
    {
     "name": "stdout",
     "output_type": "stream",
     "text": [
      "Fitting 3 folds for each of 20 candidates, totalling 60 fits\n"
     ]
    },
    {
     "name": "stderr",
     "output_type": "stream",
     "text": [
      "[Parallel(n_jobs=-1)]: Using backend LokyBackend with 8 concurrent workers.\n",
      "[Parallel(n_jobs=-1)]: Done  34 tasks      | elapsed:  6.1min\n",
      "[Parallel(n_jobs=-1)]: Done  60 out of  60 | elapsed:  9.7min finished\n"
     ]
    },
    {
     "name": "stdout",
     "output_type": "stream",
     "text": [
      "DecisionTreeClassifier(max_depth=10)\n",
      "0.6753522394292174\n"
     ]
    }
   ],
   "source": [
    "dt = tree.DecisionTreeClassifier()\n",
    "\n",
    "parameters = {'criterion':['gini', 'entropy'],\n",
    "              'max_depth':range(10,20)}\n",
    "\n",
    "dt_cv_model = GridSearchCV(estimator=dt, param_grid = parameters, scoring='precision', cv=3, n_jobs=-1, verbose=1)\n",
    "\n",
    "dt_cv = dt_cv_model.fit(X_train, y_train)\n",
    "\n",
    "print(dt_cv.best_estimator_) \n",
    "print(dt_cv.best_score_)"
   ]
  },
  {
   "cell_type": "markdown",
   "metadata": {},
   "source": [
    "### 9. Feature importance, ROC AUC Score and Precision Score"
   ]
  },
  {
   "cell_type": "markdown",
   "metadata": {},
   "source": [
    "Plotting the feature importances is one way that you can gain a perspective on which features are driving the model predictions."
   ]
  },
  {
   "cell_type": "code",
   "execution_count": 20,
   "metadata": {},
   "outputs": [
    {
     "name": "stdout",
     "output_type": "stream",
     "text": [
      "30\n"
     ]
    },
    {
     "data": {
      "image/png": "[encoded data removed]",
      "text/plain": [
       "<Figure size 720x720 with 1 Axes>"
      ]
     },
     "metadata": {
      "needs_background": "light"
     },
     "output_type": "display_data"
    }
   ],
   "source": [
    "dt.fit(X_train, y_train)\n",
    "feature_importance = dt.feature_importances_\n",
    "# make importances relative to max importance\n",
    "feature_importance = 100.0 * (feature_importance / feature_importance.max())[:30]\n",
    "sorted_idx = np.argsort(feature_importance)[:30]\n",
    "\n",
    "pos = np.arange(sorted_idx.shape[0]) + .5\n",
    "print(pos.size)\n",
    "sorted_idx.size\n",
    "plt.figure(figsize=(10,10))\n",
    "plt.barh(pos, feature_importance[sorted_idx], align='center')\n",
    "plt.yticks(pos, X.columns[sorted_idx])\n",
    "plt.xlabel('Relative Importance')\n",
    "plt.title('Variable Importance')\n",
    "plt.show()"
   ]
  },
  {
   "cell_type": "code",
   "execution_count": 32,
   "metadata": {},
   "outputs": [
    {
     "data": {
      "image/png": "[encoded data removed]",
      "text/plain": [
       "<Figure size 432x288 with 1 Axes>"
      ]
     },
     "metadata": {
      "needs_background": "light"
     },
     "output_type": "display_data"
    }
   ],
   "source": [
    "import sklearn.metrics as metrics\n",
    "\n",
    "y_predictions_dt_final = dt_cv.predict_proba(X_test)[:, 1]\n",
    "# calculate the fpr and tpr for all thresholds of the classification\n",
    "fpr, tpr, threshold = metrics.roc_curve(y_test, y_predictions_dt_final)\n",
    "roc_auc = metrics.auc(fpr, tpr)\n",
    "\n",
    "# method I: plt\n",
    "import matplotlib.pyplot as plt\n",
    "plt.title('Receiver Operating Characteristic')\n",
    "plt.plot(fpr, tpr, 'b', label = 'AUC = %0.2f' % roc_auc)\n",
    "plt.legend(loc = 'lower right')\n",
    "plt.plot([0, 1], [0, 1],'r--')\n",
    "plt.xlim([0, 1])\n",
    "plt.ylim([0, 1])\n",
    "plt.ylabel('True Positive Rate')\n",
    "plt.xlabel('False Positive Rate')\n",
    "plt.savefig(\"ROC-AUC score.png\")\n",
    "plt.show()"
   ]
  },
  {
   "cell_type": "code",
   "execution_count": 28,
   "metadata": {},
   "outputs": [
    {
     "name": "stdout",
     "output_type": "stream",
     "text": [
      "0.503\n"
     ]
    }
   ],
   "source": [
    "roc_auc_score = round(roc_auc_score(y_test,y_predictions_dt_final),3)\n",
    "print(roc_auc_score)"
   ]
  },
  {
   "cell_type": "markdown",
   "metadata": {},
   "source": [
    "### Conclusion 2"
   ]
  },
  {
   "cell_type": "markdown",
   "metadata": {},
   "source": [
    "**Final model output**\n",
    "\n",
    "In above steps\n",
    "- Cross-Validation procedure was performed under the k-fold CV approach. In order to improve performance of model, random pair of training and validation data is chosen by splitting the training set iinto k smaller sets, where a model is trained using k-1 of the folds as training data and the model is validated on the remaining part.\n",
    "- It was observed that there was a marginal improvement in performance when hyperparameter turning was done on Decision Tree Model, but not on Random forest model (possibly limited the range of hyperparamters considering the computational inefficiencies of running the model on local CPU)\n",
    "- Hence for this use case, Decision tree model scores best amongst other models in terms of precision and ROC-AUC scores \n",
    "    - Precision score - 0.675\n",
    "    - ROC AUC score - 0.503\n",
    "        - Also, the model execution time was very low which is great for future predictions.\n",
    "- There are limitations in the system and lack of GPU causes memory allocation issue, hence the models were not tuned to the point of getting an ehnanced score.\n",
    "\n",
    "**Future Scope**\n",
    "\n",
    "In a real world, with the usage of sophisticated processors and availability of more resources, model performances can be enhanced further, but none of that is covered as a scope of this capstone"
   ]
  },
  {
   "cell_type": "code",
   "execution_count": null,
   "metadata": {},
   "outputs": [],
   "source": []
  }
 ],
 "metadata": {
  "kernelspec": {
   "display_name": "Python 3",
   "language": "python",
   "name": "python3"
  },
  "language_info": {
   "codemirror_mode": {
    "name": "ipython",
    "version": 3
   },
   "file_extension": ".py",
   "mimetype": "text/x-python",
   "name": "python",
   "nbconvert_exporter": "python",
   "pygments_lexer": "ipython3",
   "version": "3.6.8"
  }
 },
 "nbformat": 4,
 "nbformat_minor": 2
}
